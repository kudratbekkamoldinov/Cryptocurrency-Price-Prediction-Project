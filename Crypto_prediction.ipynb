{
 "cells": [
  {
   "cell_type": "code",
   "execution_count": 1,
   "metadata": {
    "colab": {
     "base_uri": "https://localhost:8080/"
    },
    "id": "F0fo71TH1id5",
    "outputId": "869832bf-8d4f-4b81-9b73-10124e047d51"
   },
   "outputs": [
    {
     "name": "stdout",
     "output_type": "stream",
     "text": [
      "GPU 0: Tesla T4 (UUID: GPU-f160df8c-57ae-78ca-8984-99c36e267dfe)\n"
     ]
    }
   ],
   "source": [
    "# Check for GPU\n",
    "!nvidia-smi -L"
   ]
  },
  {
   "cell_type": "code",
   "execution_count": 2,
   "metadata": {
    "colab": {
     "base_uri": "https://localhost:8080/"
    },
    "id": "UHoogqCIEGJ8",
    "outputId": "a8ca7a6b-c618-4baa-f21b-bf170f05e6f5"
   },
   "outputs": [
    {
     "name": "stdout",
     "output_type": "stream",
     "text": [
      "--2022-05-10 00:57:30--  https://raw.githubusercontent.com/mlee687/CS470_AI-auto-trading/main/daily_single.csv\n",
      "Resolving raw.githubusercontent.com (raw.githubusercontent.com)... 185.199.108.133, 185.199.109.133, 185.199.110.133, ...\n",
      "Connecting to raw.githubusercontent.com (raw.githubusercontent.com)|185.199.108.133|:443... connected.\n",
      "HTTP request sent, awaiting response... 200 OK\n",
      "Length: 50004 (49K) [text/plain]\n",
      "Saving to: ‘daily_single.csv’\n",
      "\n",
      "daily_single.csv    100%[===================>]  48.83K  --.-KB/s    in 0.001s  \n",
      "\n",
      "2022-05-10 00:57:30 (41.6 MB/s) - ‘daily_single.csv’ saved [50004/50004]\n",
      "\n"
     ]
    }
   ],
   "source": [
    "# Get the data\n",
    "!wget https://raw.githubusercontent.com/mlee687/CS470_AI-auto-trading/main/daily_single.csv"
   ]
  },
  {
   "cell_type": "code",
   "execution_count": 3,
   "metadata": {
    "colab": {
     "base_uri": "https://localhost:8080/"
    },
    "id": "trHKQSe_EqhB",
    "outputId": "97fa146a-6e64-41ae-b209-7c4c7c8356fe"
   },
   "outputs": [
    {
     "data": {
      "text/plain": [
       "(             Price\n",
       " Timestamp         \n",
       " 2014-01-01  754.90\n",
       " 2014-01-02  784.19\n",
       " 2014-01-03  809.40\n",
       " 2014-01-04  828.79\n",
       " 2014-01-05  905.00,                Price\n",
       " Timestamp           \n",
       " 2021-03-26  52734.30\n",
       " 2021-03-27  54508.16\n",
       " 2021-03-28  55871.93\n",
       " 2021-03-29  57788.15\n",
       " 2021-03-30  59069.29)"
      ]
     },
     "execution_count": 3,
     "metadata": {},
     "output_type": "execute_result"
    }
   ],
   "source": [
    "# Import with pandas \n",
    "import pandas as pd\n",
    "# Parse dates and set date column to index\n",
    "df = pd.read_csv(\"/content/daily_single.csv\", parse_dates=[\"Timestamp\"])\n",
    "df.rename(columns = {\"Daily_Close\": \"Price\"}, inplace = True)\n",
    "df['Timestamp'] = pd.to_datetime(df['Timestamp'].dt.date)\n",
    "btc_df = df.set_index('Timestamp')\n",
    "btc_df.head(), btc_df.tail()"
   ]
  },
  {
   "cell_type": "code",
   "execution_count": 4,
   "metadata": {
    "colab": {
     "base_uri": "https://localhost:8080/"
    },
    "id": "-UCJ6fMoTDPB",
    "outputId": "d9340a56-dc49-41e0-b914-336b44a84037"
   },
   "outputs": [
    {
     "data": {
      "text/plain": [
       "2236"
      ]
     },
     "execution_count": 4,
     "metadata": {},
     "output_type": "execute_result"
    }
   ],
   "source": [
    "len(btc_df)"
   ]
  },
  {
   "cell_type": "code",
   "execution_count": 5,
   "metadata": {
    "colab": {
     "base_uri": "https://localhost:8080/"
    },
    "id": "Y3CAY3F02Sd2",
    "outputId": "0bb0afb3-8794-4430-9646-dd5a6c08b5c6"
   },
   "outputs": [
    {
     "name": "stdout",
     "output_type": "stream",
     "text": [
      "<class 'pandas.core.frame.DataFrame'>\n",
      "DatetimeIndex: 2236 entries, 2014-01-01 to 2021-03-30\n",
      "Data columns (total 1 columns):\n",
      " #   Column  Non-Null Count  Dtype  \n",
      "---  ------  --------------  -----  \n",
      " 0   Price   2236 non-null   float64\n",
      "dtypes: float64(1)\n",
      "memory usage: 34.9 KB\n"
     ]
    }
   ],
   "source": [
    "btc_df.info()"
   ]
  },
  {
   "cell_type": "code",
   "execution_count": 6,
   "metadata": {
    "colab": {
     "base_uri": "https://localhost:8080/",
     "height": 81
    },
    "id": "PS379VjKjEvY",
    "outputId": "99118d82-b32c-4bc0-a775-c646d4d8a3fa"
   },
   "outputs": [
    {
     "data": {
      "text/html": [
       "\n",
       "  <div id=\"df-e6d07e3d-14b3-4f83-83fc-92dc9176a072\">\n",
       "    <div class=\"colab-df-container\">\n",
       "      <div>\n",
       "<style scoped>\n",
       "    .dataframe tbody tr th:only-of-type {\n",
       "        vertical-align: middle;\n",
       "    }\n",
       "\n",
       "    .dataframe tbody tr th {\n",
       "        vertical-align: top;\n",
       "    }\n",
       "\n",
       "    .dataframe thead th {\n",
       "        text-align: right;\n",
       "    }\n",
       "</style>\n",
       "<table border=\"1\" class=\"dataframe\">\n",
       "  <thead>\n",
       "    <tr style=\"text-align: right;\">\n",
       "      <th></th>\n",
       "      <th>count</th>\n",
       "      <th>mean</th>\n",
       "      <th>std</th>\n",
       "      <th>min</th>\n",
       "      <th>25%</th>\n",
       "      <th>50%</th>\n",
       "      <th>75%</th>\n",
       "      <th>max</th>\n",
       "    </tr>\n",
       "  </thead>\n",
       "  <tbody>\n",
       "    <tr>\n",
       "      <th>Price</th>\n",
       "      <td>2236.0</td>\n",
       "      <td>6692.873421</td>\n",
       "      <td>9291.712386</td>\n",
       "      <td>191.0</td>\n",
       "      <td>588.5375</td>\n",
       "      <td>4563.135</td>\n",
       "      <td>9107.615</td>\n",
       "      <td>60095.59</td>\n",
       "    </tr>\n",
       "  </tbody>\n",
       "</table>\n",
       "</div>\n",
       "      <button class=\"colab-df-convert\" onclick=\"convertToInteractive('df-e6d07e3d-14b3-4f83-83fc-92dc9176a072')\"\n",
       "              title=\"Convert this dataframe to an interactive table.\"\n",
       "              style=\"display:none;\">\n",
       "        \n",
       "  <svg xmlns=\"http://www.w3.org/2000/svg\" height=\"24px\"viewBox=\"0 0 24 24\"\n",
       "       width=\"24px\">\n",
       "    <path d=\"M0 0h24v24H0V0z\" fill=\"none\"/>\n",
       "    <path d=\"M18.56 5.44l.94 2.06.94-2.06 2.06-.94-2.06-.94-.94-2.06-.94 2.06-2.06.94zm-11 1L8.5 8.5l.94-2.06 2.06-.94-2.06-.94L8.5 2.5l-.94 2.06-2.06.94zm10 10l.94 2.06.94-2.06 2.06-.94-2.06-.94-.94-2.06-.94 2.06-2.06.94z\"/><path d=\"M17.41 7.96l-1.37-1.37c-.4-.4-.92-.59-1.43-.59-.52 0-1.04.2-1.43.59L10.3 9.45l-7.72 7.72c-.78.78-.78 2.05 0 2.83L4 21.41c.39.39.9.59 1.41.59.51 0 1.02-.2 1.41-.59l7.78-7.78 2.81-2.81c.8-.78.8-2.07 0-2.86zM5.41 20L4 18.59l7.72-7.72 1.47 1.35L5.41 20z\"/>\n",
       "  </svg>\n",
       "      </button>\n",
       "      \n",
       "  <style>\n",
       "    .colab-df-container {\n",
       "      display:flex;\n",
       "      flex-wrap:wrap;\n",
       "      gap: 12px;\n",
       "    }\n",
       "\n",
       "    .colab-df-convert {\n",
       "      background-color: #E8F0FE;\n",
       "      border: none;\n",
       "      border-radius: 50%;\n",
       "      cursor: pointer;\n",
       "      display: none;\n",
       "      fill: #1967D2;\n",
       "      height: 32px;\n",
       "      padding: 0 0 0 0;\n",
       "      width: 32px;\n",
       "    }\n",
       "\n",
       "    .colab-df-convert:hover {\n",
       "      background-color: #E2EBFA;\n",
       "      box-shadow: 0px 1px 2px rgba(60, 64, 67, 0.3), 0px 1px 3px 1px rgba(60, 64, 67, 0.15);\n",
       "      fill: #174EA6;\n",
       "    }\n",
       "\n",
       "    [theme=dark] .colab-df-convert {\n",
       "      background-color: #3B4455;\n",
       "      fill: #D2E3FC;\n",
       "    }\n",
       "\n",
       "    [theme=dark] .colab-df-convert:hover {\n",
       "      background-color: #434B5C;\n",
       "      box-shadow: 0px 1px 3px 1px rgba(0, 0, 0, 0.15);\n",
       "      filter: drop-shadow(0px 1px 2px rgba(0, 0, 0, 0.3));\n",
       "      fill: #FFFFFF;\n",
       "    }\n",
       "  </style>\n",
       "\n",
       "      <script>\n",
       "        const buttonEl =\n",
       "          document.querySelector('#df-e6d07e3d-14b3-4f83-83fc-92dc9176a072 button.colab-df-convert');\n",
       "        buttonEl.style.display =\n",
       "          google.colab.kernel.accessAllowed ? 'block' : 'none';\n",
       "\n",
       "        async function convertToInteractive(key) {\n",
       "          const element = document.querySelector('#df-e6d07e3d-14b3-4f83-83fc-92dc9176a072');\n",
       "          const dataTable =\n",
       "            await google.colab.kernel.invokeFunction('convertToInteractive',\n",
       "                                                     [key], {});\n",
       "          if (!dataTable) return;\n",
       "\n",
       "          const docLinkHtml = 'Like what you see? Visit the ' +\n",
       "            '<a target=\"_blank\" href=https://colab.research.google.com/notebooks/data_table.ipynb>data table notebook</a>'\n",
       "            + ' to learn more about interactive tables.';\n",
       "          element.innerHTML = '';\n",
       "          dataTable['output_type'] = 'display_data';\n",
       "          await google.colab.output.renderOutput(dataTable, element);\n",
       "          const docLink = document.createElement('div');\n",
       "          docLink.innerHTML = docLinkHtml;\n",
       "          element.appendChild(docLink);\n",
       "        }\n",
       "      </script>\n",
       "    </div>\n",
       "  </div>\n",
       "  "
      ],
      "text/plain": [
       "        count         mean          std    min       25%       50%       75%  \\\n",
       "Price  2236.0  6692.873421  9291.712386  191.0  588.5375  4563.135  9107.615   \n",
       "\n",
       "            max  \n",
       "Price  60095.59  "
      ]
     },
     "execution_count": 6,
     "metadata": {},
     "output_type": "execute_result"
    }
   ],
   "source": [
    "btc_df.describe().transpose()"
   ]
  },
  {
   "cell_type": "code",
   "execution_count": 8,
   "metadata": {
    "colab": {
     "base_uri": "https://localhost:8080/",
     "height": 486
    },
    "id": "5x0wg0uIWWxV",
    "outputId": "fd324865-5b64-467a-dd92-46501a37b330"
   },
   "outputs": [
    {
     "data": {
      "image/png": "[encoded data removed]",
      "text/plain": [
       "<Figure size 864x576 with 1 Axes>"
      ]
     },
     "metadata": {
      "needs_background": "light"
     },
     "output_type": "display_data"
    }
   ],
   "source": [
    "import matplotlib.pyplot as plt\n",
    "btc_df.plot(figsize = (12,8))\n",
    "plt.title(\"BTC Price from 2014 January to 2021 March\", fontsize=20);\n",
    "# ';' is put at last to remove unnecessary text from being displayed"
   ]
  },
  {
   "cell_type": "code",
   "execution_count": 9,
   "metadata": {
    "colab": {
     "base_uri": "https://localhost:8080/"
    },
    "id": "o7f_7MWgXpJf",
    "outputId": "a8fb617f-1e80-4d1f-afd0-168755e579f1"
   },
   "outputs": [
    {
     "data": {
      "text/plain": [
       "array(['2014-01-01T00:00:00.000000000', '2014-01-02T00:00:00.000000000',\n",
       "       '2014-01-03T00:00:00.000000000', ...,\n",
       "       '2021-03-28T00:00:00.000000000', '2021-03-29T00:00:00.000000000',\n",
       "       '2021-03-30T00:00:00.000000000'], dtype='datetime64[ns]')"
      ]
     },
     "execution_count": 9,
     "metadata": {},
     "output_type": "execute_result"
    }
   ],
   "source": [
    "btc_df.index.to_numpy()"
   ]
  },
  {
   "cell_type": "code",
   "execution_count": 10,
   "metadata": {
    "colab": {
     "base_uri": "https://localhost:8080/"
    },
    "id": "aAwKxgii2l9S",
    "outputId": "5f825821-6aeb-4c8d-c1ca-6d969c9e5d2e"
   },
   "outputs": [
    {
     "data": {
      "text/plain": [
       "(1788, 448, 1788, 448)"
      ]
     },
     "execution_count": 10,
     "metadata": {},
     "output_type": "execute_result"
    }
   ],
   "source": [
    "# Makes arrays for each feature\n",
    "timesteps = btc_df.index.to_numpy()\n",
    "prices = btc_df[\"Price\"].to_numpy()\n",
    "boundary = int(0.8 * len(prices)) # 80% train, 20% test\n",
    "X_train, y_train = timesteps[:boundary], prices[:boundary]\n",
    "X_test, y_test = timesteps[boundary:], prices[boundary:]\n",
    "\n",
    "len(X_train), len(X_test), len(y_train), len(y_test)"
   ]
  },
  {
   "cell_type": "code",
   "execution_count": 11,
   "metadata": {
    "id": "xYEr2vqS3xOQ"
   },
   "outputs": [],
   "source": [
    "def plot_time_series(timesteps, values, format='.', start=0, end=None, label=None, xlabel='Timestamp', ylabel='Price'): \n",
    "  # for format, we can go with '.' or '-' [scatter or line] and start means offset\n",
    "  plt.plot(timesteps[start:end], values[start:end], format, label=label)\n",
    "  plt.xlabel(xlabel)\n",
    "  plt.ylabel(ylabel)\n",
    "  if label:\n",
    "    plt.legend(fontsize=14)\n",
    "  plt.grid(True)"
   ]
  },
  {
   "cell_type": "code",
   "execution_count": 12,
   "metadata": {
    "colab": {
     "base_uri": "https://localhost:8080/",
     "height": 497
    },
    "id": "DtgdhNKLbpww",
    "outputId": "246a6504-9442-4786-bc21-5ceefa03de14"
   },
   "outputs": [
    {
     "data": {
      "image/png": "[encoded data removed]",
      "text/plain": [
       "<Figure size 864x576 with 1 Axes>"
      ]
     },
     "metadata": {
      "needs_background": "light"
     },
     "output_type": "display_data"
    }
   ],
   "source": [
    "plt.figure(figsize=(12,8)) # Creates a figure and adds the following plot to it\n",
    "plot_time_series(X_train, y_train, label= \"Train\")\n",
    "plot_time_series(X_test, y_test, label = \"Test\")\n",
    "# It would be interesting to put start and end as the year"
   ]
  },
  {
   "cell_type": "code",
   "execution_count": 13,
   "metadata": {
    "id": "d3M2yq6WX16M"
   },
   "outputs": [],
   "source": [
    "# a = [1,2,3,4]\n",
    "# a, a[:-1]"
   ]
  },
  {
   "cell_type": "markdown",
   "metadata": {
    "id": "ZGGjptBfqFLp"
   },
   "source": [
    "Naive baseline model:\n",
    "$\\hat{y}_{t} = y_{t-1}$"
   ]
  },
  {
   "cell_type": "code",
   "execution_count": 14,
   "metadata": {
    "id": "Re9Kvp0J26CM"
   },
   "outputs": [],
   "source": [
    "naive_forecast = y_test[:-1] # Gets every value excluding the last value\n",
    "# naive_forecast[-10:] != y_test[-10:]"
   ]
  },
  {
   "cell_type": "code",
   "execution_count": 17,
   "metadata": {
    "colab": {
     "base_uri": "https://localhost:8080/",
     "height": 497
    },
    "id": "9AjDqfKl3dWs",
    "outputId": "096b8c96-3011-4568-f7a8-b89d6350fa0f"
   },
   "outputs": [
    {
     "data": {
      "image/png": "[encoded data removed]",
      "text/plain": [
       "<Figure size 720x576 with 1 Axes>"
      ]
     },
     "metadata": {
      "needs_background": "light"
     },
     "output_type": "display_data"
    }
   ],
   "source": [
    "# Comparing naive_forecast with the test data\n",
    "plt.figure(figsize=(10, 8))\n",
    "offset = 400\n",
    "plot_time_series(timesteps=X_test, values=y_test, start = 400, format=\"-\", label=\"Test data\")\n",
    "plot_time_series(timesteps=X_test[1:], values=naive_forecast, start = 400, format=\"-\", label=\"Naive forecast\");"
   ]
  },
  {
   "cell_type": "code",
   "execution_count": 18,
   "metadata": {
    "id": "nhDz7M8T3qsZ"
   },
   "outputs": [],
   "source": [
    "# Let's get TensorFlow! \n",
    "import tensorflow as tf"
   ]
  },
  {
   "cell_type": "code",
   "execution_count": 19,
   "metadata": {
    "id": "rKRBNoPxDip6"
   },
   "outputs": [],
   "source": [
    "def mase_(y_true, y_pred):\n",
    "  # Assuming no seasonality and our crypto price data has no seasonality\n",
    "  mae = tf.reduce_mean(tf.abs(y_true, y_pred))\n",
    "  mae_naive = tf.reduce_mean(tf.abs(y_true[1:], naive_forecast)) # naive_forecast = y_true[:-1]\n",
    "  return mae/mae_naive"
   ]
  },
  {
   "cell_type": "code",
   "execution_count": 20,
   "metadata": {
    "id": "KrYvbvpDbR5B"
   },
   "outputs": [],
   "source": [
    "# mase(y_true=y_test[1:], y_pred= naive_forecast).numpy() #should be close to 1"
   ]
  },
  {
   "cell_type": "code",
   "execution_count": 21,
   "metadata": {
    "id": "EMzWaUVDFqga"
   },
   "outputs": [],
   "source": [
    "# type(y_test[0]),y_test[0].dtype\n",
    "# Numpy is float64 datatype as default so we need to convert to float32 datatype while using tensorflow"
   ]
  },
  {
   "cell_type": "code",
   "execution_count": 22,
   "metadata": {
    "id": "eGYRN2J-PQgV"
   },
   "outputs": [],
   "source": [
    "# returns error metrics in dictionary form:\n",
    "def evaluate_preds(y_true, y_pred):\n",
    "  y_true = tf.cast(y_true, dtype=tf.float32)\n",
    "  y_pred = tf.cast(y_pred, dtype=tf.float32)\n",
    "\n",
    "  # better to use the numpy version of these too\n",
    "  mae = tf.keras.metrics.mean_absolute_error(y_true, y_pred)\n",
    "  mse = tf.keras.metrics.mean_squared_error(y_true, y_pred) # puts and emphasis on outliers (all errors get squared)\n",
    "  rmse = tf.sqrt(mse)\n",
    "  mape = tf.keras.metrics.mean_absolute_percentage_error(y_true, y_pred)\n",
    "  mase = mase_(y_true, y_pred)\n",
    "  \n",
    "  return_dict =  {\n",
    "                  \"mae\": mae.numpy(),\n",
    "                  \"mse\": mse.numpy(),\n",
    "                  \"rmse\": rmse.numpy(),\n",
    "                  \"mape\": mape.numpy(),\n",
    "                  \"mase\": mase.numpy()\n",
    "                  }\n",
    "  return return_dict"
   ]
  },
  {
   "cell_type": "code",
   "execution_count": 23,
   "metadata": {
    "colab": {
     "base_uri": "https://localhost:8080/"
    },
    "id": "--HgKqOYPbwu",
    "outputId": "81f8cb24-95f4-48ed-99bb-1edcc16fe022"
   },
   "outputs": [
    {
     "data": {
      "text/plain": [
       "{'mae': 571.1008,\n",
       " 'mape': 2.7039125,\n",
       " 'mase': 0.99867797,\n",
       " 'mse': 1341613.6,\n",
       " 'rmse': 1158.2804}"
      ]
     },
     "execution_count": 23,
     "metadata": {},
     "output_type": "execute_result"
    }
   ],
   "source": [
    "naive_results = evaluate_preds(y_true=y_test[1:],\n",
    "                               y_pred=naive_forecast)\n",
    "naive_results"
   ]
  },
  {
   "cell_type": "code",
   "execution_count": 24,
   "metadata": {
    "colab": {
     "base_uri": "https://localhost:8080/"
    },
    "id": "36FCu4RvPdiR",
    "outputId": "5ccf1cdf-422e-4f72-d4e9-969a1eae5b0c"
   },
   "outputs": [
    {
     "data": {
      "text/plain": [
       "17809.185937500002"
      ]
     },
     "execution_count": 24,
     "metadata": {},
     "output_type": "execute_result"
    }
   ],
   "source": [
    "tf.reduce_mean(y_test).numpy()"
   ]
  },
  {
   "cell_type": "code",
   "execution_count": 25,
   "metadata": {
    "id": "jA9vY8DEPzvS"
   },
   "outputs": [],
   "source": [
    "# Windowing dataset to turn our data into supervised learning problem by giving labels\n",
    "# Global variables are usually put with capital letters\n",
    "# Using previous 7 days data to predict the price of 1 day\n",
    "HORIZON = 1\n",
    "WINDOW_SIZE = 7"
   ]
  },
  {
   "cell_type": "code",
   "execution_count": 25,
   "metadata": {
    "id": "FuoCshopNegs"
   },
   "outputs": [],
   "source": []
  },
  {
   "cell_type": "code",
   "execution_count": 26,
   "metadata": {
    "colab": {
     "base_uri": "https://localhost:8080/"
    },
    "id": "7k_Ljq89dbdl",
    "outputId": "8978f213-6457-4151-e404-c492032eb3aa"
   },
   "outputs": [
    {
     "name": "stdout",
     "output_type": "stream",
     "text": [
      "tf.Tensor([[1 2 3 4 5 6 7]], shape=(1, 7), dtype=int32)\n"
     ]
    },
    {
     "data": {
      "text/plain": [
       "array([1, 2, 3, 4, 5, 6, 7], dtype=int32)"
      ]
     },
     "execution_count": 26,
     "metadata": {},
     "output_type": "execute_result"
    }
   ],
   "source": [
    "# a=[1,2,3,4,5]\n",
    "# a[:, :-1]\n",
    "a = tf.expand_dims(tf.range(8)+1, axis=0)[:, :-1]\n",
    "print(a)\n",
    "tf.squeeze(a).numpy()"
   ]
  },
  {
   "cell_type": "code",
   "execution_count": 27,
   "metadata": {
    "id": "Ck4034qEP81_"
   },
   "outputs": [],
   "source": [
    "# Create function to label windowed data\n",
    "def get_labelled_windows(x, horizon=HORIZON):\n",
    "  \"\"\"\n",
    "  Creates labels for windowed dataset.\n",
    "\n",
    "  E.g. if horizon=1 (default)\n",
    "  Input: [0, 1, 2, 3, 4, 5, 6, 7] -> Output: ([0, 1, 2, 3, 4, 5, 6], [7])\n",
    "  \"\"\"\n",
    "  return x[:, :-horizon], x[:, -horizon:]"
   ]
  },
  {
   "cell_type": "code",
   "execution_count": 28,
   "metadata": {
    "colab": {
     "base_uri": "https://localhost:8080/"
    },
    "id": "DO62NEKjP-0x",
    "outputId": "0b6686e9-d39e-4139-c052-bc2955af830f"
   },
   "outputs": [
    {
     "name": "stdout",
     "output_type": "stream",
     "text": [
      "Window: [1 2 3 4 5 6 7] -> Label: 8\n"
     ]
    }
   ],
   "source": [
    "# Test out the window labelling function\n",
    "test_window, test_label = get_labelled_windows(tf.expand_dims(tf.range(8)+1, axis=0), horizon=HORIZON)\n",
    "print(f\"Window: {tf.squeeze(test_window).numpy()} -> Label: {tf.squeeze(test_label).numpy()}\")"
   ]
  },
  {
   "cell_type": "markdown",
   "metadata": {
    "id": "WDFg27CzPhIJ"
   },
   "source": [
    "We need to do the above on our entire btc data. For doing it, using python for loops is good but it becomes very slow when using it in python for-loops so we are using numpy index."
   ]
  },
  {
   "cell_type": "code",
   "execution_count": 29,
   "metadata": {
    "id": "vpDl6GcsQbAp"
   },
   "outputs": [],
   "source": [
    "# make windows from numpy arrays\n",
    "import numpy as np\n",
    "\n",
    "def make_windows(x, window_size=WINDOW_SIZE, horizon=HORIZON):\n",
    "    \"\"\"\n",
    "    returns 2D array of sequential windows of window size\n",
    "    \"\"\"\n",
    "    window_step = np.expand_dims(np.arange(window_size+horizon), axis=0)\n",
    "  \n",
    "    window_indexes = window_step + np.expand_dims(np.arange(len(x) - (window_size+horizon-1)), axis=0).T # -1 to prevent window going off the last value\n",
    "\n",
    "    # Here window_indexes gives the position of the value of respective indexes, so using x[window_indexes] puts the respective x values in the position\n",
    "    # specified in the windoe_indexes. It only works with numpy arrays\n",
    "    windowed_array = x[window_indexes]\n",
    "    windows, labels = get_labelled_windows(windowed_array, horizon=HORIZON)\n",
    "    return windows, labels\n",
    "\n",
    "    # a = np.array([1,2,3,4])\n",
    "    # x = np.array([10,11,12,13,14])\n",
    "    # a, x, x[a]"
   ]
  },
  {
   "cell_type": "code",
   "execution_count": 37,
   "metadata": {
    "colab": {
     "base_uri": "https://localhost:8080/"
    },
    "id": "BJbeWYxYWZUY",
    "outputId": "21d7c602-3434-4ef6-f9d2-bc3dac6f2b86"
   },
   "outputs": [
    {
     "name": "stdout",
     "output_type": "stream",
     "text": [
      "Full_windows: \n",
      " [[754.9  784.19 809.4  828.79 905.   919.24 785.  ]\n",
      " [784.19 809.4  828.79 905.   919.24 785.   824.76]\n",
      " [809.4  828.79 905.   919.24 785.   824.76 852.61]]\n",
      "Full_labels: \n",
      " [[824.76]\n",
      " [852.61]\n",
      " [896.59]]\n"
     ]
    }
   ],
   "source": [
    "# Passing the whole dataset in the windows\n",
    "full_windows, full_labels = make_windows(prices, WINDOW_SIZE, HORIZON)\n",
    "len(full_windows), len(full_labels)\n",
    "print(\"Full_windows: \\n\", full_windows[:3])\n",
    "print(\"Full_labels: \\n\", full_labels[:3])"
   ]
  },
  {
   "cell_type": "code",
   "execution_count": 31,
   "metadata": {
    "id": "pfn62A5XZhgE"
   },
   "outputs": [],
   "source": [
    "def make_train_test_splits(windows, labels, test_split = 0.2):\n",
    "  split_size = int(len(windows) * (1-test_split))\n",
    "  train_windows = windows[:split_size]\n",
    "  train_labels = labels[:split_size]\n",
    "  test_windows = windows[split_size:]\n",
    "  test_labels = labels[split_size:]\n",
    "  # returns in the same order as skit-learn splitting function returns\n",
    "  return train_windows, test_windows, train_labels, test_labels"
   ]
  },
  {
   "cell_type": "code",
   "execution_count": 32,
   "metadata": {
    "id": "qi6e_lo5crRL"
   },
   "outputs": [],
   "source": [
    "# Create a train and test windows\n",
    "train_windows, test_windows, train_labels, test_labels = make_train_test_splits(full_windows, full_labels)"
   ]
  },
  {
   "cell_type": "code",
   "execution_count": 38,
   "metadata": {
    "colab": {
     "base_uri": "https://localhost:8080/"
    },
    "id": "g28M0JaPdoUz",
    "outputId": "65ee6f96-d473-48de-c63d-649051a1ac18"
   },
   "outputs": [
    {
     "data": {
      "text/plain": [
       "(1782, 1783, 1781, 1788, 1781)"
      ]
     },
     "execution_count": 38,
     "metadata": {},
     "output_type": "execute_result"
    }
   ],
   "source": [
    "len(train_labels[:-HORIZON]), len(train_labels), len(train_labels[:-HORIZON-1]), len(y_train), len(y_train[WINDOW_SIZE:])"
   ]
  },
  {
   "cell_type": "code",
   "execution_count": 38,
   "metadata": {
    "id": "JUfMZqvkdtsX"
   },
   "outputs": [],
   "source": []
  },
  {
   "cell_type": "code",
   "execution_count": 39,
   "metadata": {
    "colab": {
     "base_uri": "https://localhost:8080/"
    },
    "id": "enuahFOIX2bc",
    "outputId": "1e1daff3-7c53-4ebf-ccf9-e83a0df9bbb4"
   },
   "outputs": [
    {
     "data": {
      "text/plain": [
       "(array([[824.76],\n",
       "        [852.61],\n",
       "        [896.59],\n",
       "        [844.05],\n",
       "        [823.  ]]), array([824.76, 852.61, 896.59, 844.05, 823.  ]))"
      ]
     },
     "execution_count": 39,
     "metadata": {},
     "output_type": "execute_result"
    }
   ],
   "source": [
    "train_labels[:5], tf.squeeze(train_labels[:5]).numpy()"
   ]
  },
  {
   "cell_type": "code",
   "execution_count": 40,
   "metadata": {
    "id": "oylC2DiLZDFy"
   },
   "outputs": [],
   "source": [
    "# len(tf.keras.preprocessing.timeseries_dataset_from_array(data =prices, targets = None, sequence_length=7, sampling_rate=1, sequence_stride=1, shuffle=False))"
   ]
  },
  {
   "cell_type": "code",
   "execution_count": 41,
   "metadata": {
    "id": "rTh_kDAbQmZi"
   },
   "outputs": [],
   "source": [
    "# Make the train/test splits\n",
    "# Our approach is to window the data first and then make tests/train splits\n",
    "def make_train_test_splits(windows, labels, test_split=0.2):\n",
    "  \"\"\"\n",
    "  Splits matching pairs of windows and labels into train and test splits.\n",
    "  \"\"\"\n",
    "  split_size = int(len(windows) * (1-test_split)) # this will default to 80% train/20% test\n",
    "  train_windows = windows[:split_size]\n",
    "  train_labels = labels[:split_size]\n",
    "  test_windows = windows[split_size:]\n",
    "  test_labels = labels[split_size:]\n",
    "  return train_windows, test_windows, train_labels, test_labels"
   ]
  },
  {
   "cell_type": "code",
   "execution_count": 42,
   "metadata": {
    "colab": {
     "base_uri": "https://localhost:8080/"
    },
    "id": "c0IhuBu9RtsI",
    "outputId": "b2137da4-769a-46f2-d46b-91f2b8ae6893"
   },
   "outputs": [
    {
     "data": {
      "text/plain": [
       "(1783, 446, 1783, 446)"
      ]
     },
     "execution_count": 42,
     "metadata": {},
     "output_type": "execute_result"
    }
   ],
   "source": [
    "train_windows, test_windows, train_labels, test_labels = make_train_test_splits(full_windows, full_labels)\n",
    "len(train_windows), len(test_windows), len(train_labels), len(test_labels)"
   ]
  },
  {
   "cell_type": "code",
   "execution_count": 47,
   "metadata": {
    "colab": {
     "base_uri": "https://localhost:8080/"
    },
    "id": "eo-gMk5-fmy5",
    "outputId": "2976fcc7-db25-4130-cb8c-644eb35dfa4e"
   },
   "outputs": [
    {
     "data": {
      "text/plain": [
       "array([[ 754.9 ,  784.19,  809.4 , ...,  905.  ,  919.24,  785.  ],\n",
       "       [ 784.19,  809.4 ,  828.79, ...,  919.24,  785.  ,  824.76],\n",
       "       [ 809.4 ,  828.79,  905.  , ...,  785.  ,  824.76,  852.61],\n",
       "       ...,\n",
       "       [7208.69, 7181.73, 7133.65, ..., 7326.  , 7298.62, 7222.11],\n",
       "       [7181.73, 7133.65, 7284.59, ..., 7298.62, 7222.11, 7171.68],\n",
       "       [7133.65, 7284.59, 7326.  , ..., 7222.11, 7171.68, 7129.2 ]])"
      ]
     },
     "execution_count": 47,
     "metadata": {},
     "output_type": "execute_result"
    }
   ],
   "source": [
    "train_windows"
   ]
  },
  {
   "cell_type": "code",
   "execution_count": 48,
   "metadata": {
    "id": "105ABwT0Q9B9"
   },
   "outputs": [],
   "source": [
    "# os is imported to save the model's best performance in google colab\n",
    "import os\n",
    "\"\"\"\n",
    "  Since we are comparing different model's performance, it is better to compare each model's best performance with another model's best\n",
    "  Model's performance is going to fluctuate epoch to epoch\n",
    "  Create a function to implement a ModelCheckpoint callback with a specific filename \n",
    "\"\"\"\n",
    "\n",
    "def create_model_checkpoint(model_name, save_path=\"models\"):\n",
    "  return tf.keras.callbacks.ModelCheckpoint(filepath=os.path.join(save_path, model_name),\n",
    "                                            monitor='val_loss',\n",
    "                                            verbose=0, # elsewise continously printout if saved or not\n",
    "                                            save_best_only=True)"
   ]
  },
  {
   "cell_type": "code",
   "execution_count": 49,
   "metadata": {
    "colab": {
     "base_uri": "https://localhost:8080/"
    },
    "id": "oRhcPtINRhrR",
    "outputId": "ae7550bf-a07d-4ef7-a3a2-16c599ef46fe"
   },
   "outputs": [
    {
     "name": "stdout",
     "output_type": "stream",
     "text": [
      "Epoch 1/100\n",
      " 1/14 [=>............................] - ETA: 35s - loss: 2577.9028 - mae: 2577.9028 - mse: 13710974.0000INFO:tensorflow:Assets written to: models/model_1_dense/assets\n",
      "14/14 [==============================] - 3s 51ms/step - loss: 1101.4684 - mae: 1101.4684 - mse: 3685982.0000 - val_loss: 1823.5269 - val_mae: 1823.5269 - val_mse: 7447299.5000\n",
      "Epoch 2/100\n",
      " 1/14 [=>............................] - ETA: 0s - loss: 430.9087 - mae: 430.9087 - mse: 513390.9375INFO:tensorflow:Assets written to: models/model_1_dense/assets\n",
      "14/14 [==============================] - 0s 31ms/step - loss: 364.8582 - mae: 364.8582 - mse: 455576.5312 - val_loss: 1636.1923 - val_mae: 1636.1923 - val_mse: 6570599.5000\n",
      "Epoch 3/100\n",
      " 1/14 [=>............................] - ETA: 0s - loss: 345.7006 - mae: 345.7006 - mse: 305321.0000INFO:tensorflow:Assets written to: models/model_1_dense/assets\n",
      "14/14 [==============================] - 0s 31ms/step - loss: 262.0759 - mae: 262.0759 - mse: 276247.6875 - val_loss: 910.5290 - val_mae: 910.5290 - val_mse: 2657821.0000\n",
      "Epoch 4/100\n",
      " 1/14 [=>............................] - ETA: 0s - loss: 194.9158 - mae: 194.9158 - mse: 153905.9688INFO:tensorflow:Assets written to: models/model_1_dense/assets\n",
      "14/14 [==============================] - 0s 30ms/step - loss: 229.8432 - mae: 229.8432 - mse: 223029.6250 - val_loss: 871.9883 - val_mae: 871.9883 - val_mse: 2471781.2500\n",
      "Epoch 5/100\n",
      "14/14 [==============================] - 0s 4ms/step - loss: 213.3530 - mae: 213.3530 - mse: 196829.2969 - val_loss: 934.7551 - val_mae: 934.7551 - val_mse: 2760926.2500\n",
      "Epoch 6/100\n",
      "14/14 [==============================] - 0s 4ms/step - loss: 209.7133 - mae: 209.7133 - mse: 192899.4688 - val_loss: 966.5707 - val_mae: 966.5707 - val_mse: 2874035.0000\n",
      "Epoch 7/100\n",
      "14/14 [==============================] - 0s 5ms/step - loss: 206.8332 - mae: 206.8332 - mse: 191047.4844 - val_loss: 965.7447 - val_mae: 965.7447 - val_mse: 2848841.5000\n",
      "Epoch 8/100\n",
      "14/14 [==============================] - 0s 5ms/step - loss: 204.5820 - mae: 204.5820 - mse: 185115.7656 - val_loss: 903.3973 - val_mae: 903.3973 - val_mse: 2583671.5000\n",
      "Epoch 9/100\n",
      " 1/14 [=>............................] - ETA: 0s - loss: 206.1535 - mae: 206.1535 - mse: 166647.1250INFO:tensorflow:Assets written to: models/model_1_dense/assets\n",
      "14/14 [==============================] - 0s 32ms/step - loss: 198.6222 - mae: 198.6222 - mse: 171793.7344 - val_loss: 835.3905 - val_mae: 835.3905 - val_mse: 2302950.7500\n",
      "Epoch 10/100\n",
      " 1/14 [=>............................] - ETA: 0s - loss: 158.1891 - mae: 158.1891 - mse: 109477.3125INFO:tensorflow:Assets written to: models/model_1_dense/assets\n",
      "14/14 [==============================] - 0s 32ms/step - loss: 196.4742 - mae: 196.4742 - mse: 171026.3125 - val_loss: 802.7703 - val_mae: 802.7703 - val_mse: 2160370.0000\n",
      "Epoch 11/100\n",
      " 1/14 [=>............................] - ETA: 0s - loss: 159.4604 - mae: 159.4604 - mse: 101246.9766INFO:tensorflow:Assets written to: models/model_1_dense/assets\n",
      "14/14 [==============================] - 0s 32ms/step - loss: 193.1243 - mae: 193.1243 - mse: 166223.4844 - val_loss: 794.5686 - val_mae: 794.5686 - val_mse: 2125809.0000\n",
      "Epoch 12/100\n",
      "14/14 [==============================] - 0s 4ms/step - loss: 186.3034 - mae: 186.3034 - mse: 156349.7188 - val_loss: 794.6606 - val_mae: 794.6606 - val_mse: 2118770.7500\n",
      "Epoch 13/100\n",
      "14/14 [==============================] - 0s 4ms/step - loss: 183.0405 - mae: 183.0405 - mse: 151985.6250 - val_loss: 799.4199 - val_mae: 799.4199 - val_mse: 2129493.7500\n",
      "Epoch 14/100\n",
      " 1/14 [=>............................] - ETA: 0s - loss: 142.5921 - mae: 142.5921 - mse: 88028.9141INFO:tensorflow:Assets written to: models/model_1_dense/assets\n",
      "14/14 [==============================] - 0s 31ms/step - loss: 179.3866 - mae: 179.3866 - mse: 146495.1562 - val_loss: 738.9971 - val_mae: 738.9971 - val_mse: 1896003.5000\n",
      "Epoch 15/100\n",
      " 1/14 [=>............................] - ETA: 0s - loss: 162.6848 - mae: 162.6848 - mse: 88257.9531INFO:tensorflow:Assets written to: models/model_1_dense/assets\n",
      "14/14 [==============================] - 0s 31ms/step - loss: 183.1302 - mae: 183.1302 - mse: 146731.2188 - val_loss: 729.9411 - val_mae: 729.9411 - val_mse: 1821407.2500\n",
      "Epoch 16/100\n",
      "14/14 [==============================] - 0s 5ms/step - loss: 178.4231 - mae: 178.4231 - mse: 139502.9375 - val_loss: 791.8327 - val_mae: 791.8327 - val_mse: 2067840.8750\n",
      "Epoch 17/100\n",
      " 1/14 [=>............................] - ETA: 0s - loss: 171.8784 - mae: 171.8784 - mse: 112297.8594INFO:tensorflow:Assets written to: models/model_1_dense/assets\n",
      "14/14 [==============================] - 0s 30ms/step - loss: 172.7324 - mae: 172.7324 - mse: 136047.9844 - val_loss: 722.0018 - val_mae: 722.0018 - val_mse: 1833717.1250\n",
      "Epoch 18/100\n",
      " 1/14 [=>............................] - ETA: 0s - loss: 155.5614 - mae: 155.5614 - mse: 161948.2656INFO:tensorflow:Assets written to: models/model_1_dense/assets\n",
      "14/14 [==============================] - 1s 47ms/step - loss: 165.2435 - mae: 165.2435 - mse: 128065.6406 - val_loss: 710.3107 - val_mae: 710.3107 - val_mse: 1786833.7500\n",
      "Epoch 19/100\n",
      "14/14 [==============================] - 0s 4ms/step - loss: 162.9875 - mae: 162.9875 - mse: 123605.6719 - val_loss: 721.5284 - val_mae: 721.5284 - val_mse: 1817952.7500\n",
      "Epoch 20/100\n",
      " 1/14 [=>............................] - ETA: 0s - loss: 159.0674 - mae: 159.0674 - mse: 100080.6328INFO:tensorflow:Assets written to: models/model_1_dense/assets\n",
      "14/14 [==============================] - 0s 30ms/step - loss: 160.0695 - mae: 160.0695 - mse: 120657.0234 - val_loss: 685.6559 - val_mae: 685.6559 - val_mse: 1686122.6250\n",
      "Epoch 21/100\n",
      "14/14 [==============================] - 0s 4ms/step - loss: 158.1591 - mae: 158.1591 - mse: 118347.5781 - val_loss: 722.2172 - val_mae: 722.2172 - val_mse: 1807791.8750\n",
      "Epoch 22/100\n",
      " 1/14 [=>............................] - ETA: 0s - loss: 92.2164 - mae: 92.2164 - mse: 43270.7578INFO:tensorflow:Assets written to: models/model_1_dense/assets\n",
      "14/14 [==============================] - 0s 33ms/step - loss: 158.7747 - mae: 158.7747 - mse: 116417.6719 - val_loss: 671.1667 - val_mae: 671.1667 - val_mse: 1611121.1250\n",
      "Epoch 23/100\n",
      "14/14 [==============================] - 0s 4ms/step - loss: 163.2771 - mae: 163.2771 - mse: 119600.4609 - val_loss: 733.8447 - val_mae: 733.8447 - val_mse: 1835301.1250\n",
      "Epoch 24/100\n",
      "14/14 [==============================] - 0s 5ms/step - loss: 152.4882 - mae: 152.4882 - mse: 109800.8203 - val_loss: 708.0059 - val_mae: 708.0059 - val_mse: 1747969.3750\n",
      "Epoch 25/100\n",
      "14/14 [==============================] - 0s 4ms/step - loss: 151.1617 - mae: 151.1617 - mse: 108886.1094 - val_loss: 682.2986 - val_mae: 682.2986 - val_mse: 1665092.6250\n",
      "Epoch 26/100\n",
      " 1/14 [=>............................] - ETA: 0s - loss: 141.7204 - mae: 141.7204 - mse: 82396.9688INFO:tensorflow:Assets written to: models/model_1_dense/assets\n",
      "14/14 [==============================] - 0s 32ms/step - loss: 149.1958 - mae: 149.1958 - mse: 107721.7578 - val_loss: 655.1678 - val_mae: 655.1678 - val_mse: 1581802.7500\n",
      "Epoch 27/100\n",
      " 1/14 [=>............................] - ETA: 0s - loss: 162.3835 - mae: 162.3835 - mse: 100336.8594INFO:tensorflow:Assets written to: models/model_1_dense/assets\n",
      "14/14 [==============================] - 0s 33ms/step - loss: 148.8948 - mae: 148.8948 - mse: 105996.4922 - val_loss: 640.7395 - val_mae: 640.7395 - val_mse: 1533247.8750\n",
      "Epoch 28/100\n",
      "14/14 [==============================] - 0s 4ms/step - loss: 148.3983 - mae: 148.3983 - mse: 104949.7344 - val_loss: 642.9068 - val_mae: 642.9068 - val_mse: 1544391.3750\n",
      "Epoch 29/100\n",
      "14/14 [==============================] - 0s 4ms/step - loss: 146.7692 - mae: 146.7692 - mse: 103940.5859 - val_loss: 654.2296 - val_mae: 654.2296 - val_mse: 1579111.1250\n",
      "Epoch 30/100\n",
      "14/14 [==============================] - 0s 5ms/step - loss: 145.6651 - mae: 145.6651 - mse: 101938.7188 - val_loss: 646.3860 - val_mae: 646.3860 - val_mse: 1556265.1250\n",
      "Epoch 31/100\n",
      "14/14 [==============================] - 0s 4ms/step - loss: 146.8964 - mae: 146.8964 - mse: 103603.3906 - val_loss: 791.1222 - val_mae: 791.1222 - val_mse: 1975463.3750\n",
      "Epoch 32/100\n",
      " 1/14 [=>............................] - ETA: 0s - loss: 113.0446 - mae: 113.0446 - mse: 49747.1953INFO:tensorflow:Assets written to: models/model_1_dense/assets\n",
      "14/14 [==============================] - 0s 31ms/step - loss: 151.2934 - mae: 151.2934 - mse: 103794.4688 - val_loss: 620.1498 - val_mae: 620.1498 - val_mse: 1478553.3750\n",
      "Epoch 33/100\n",
      " 1/14 [=>............................] - ETA: 0s - loss: 137.3205 - mae: 137.3205 - mse: 135908.5469INFO:tensorflow:Assets written to: models/model_1_dense/assets\n",
      "14/14 [==============================] - 0s 33ms/step - loss: 146.9767 - mae: 146.9767 - mse: 101281.1875 - val_loss: 618.1884 - val_mae: 618.1884 - val_mse: 1474653.5000\n",
      "Epoch 34/100\n",
      "14/14 [==============================] - 0s 5ms/step - loss: 145.8924 - mae: 145.8924 - mse: 101268.8672 - val_loss: 654.2001 - val_mae: 654.2001 - val_mse: 1569257.6250\n",
      "Epoch 35/100\n",
      " 1/14 [=>............................] - ETA: 0s - loss: 130.2875 - mae: 130.2875 - mse: 67496.6875INFO:tensorflow:Assets written to: models/model_1_dense/assets\n",
      "14/14 [==============================] - 0s 33ms/step - loss: 142.2127 - mae: 142.2127 - mse: 98747.2344 - val_loss: 616.8657 - val_mae: 616.8657 - val_mse: 1472621.6250\n",
      "Epoch 36/100\n",
      "14/14 [==============================] - 0s 6ms/step - loss: 142.6684 - mae: 142.6684 - mse: 98005.3047 - val_loss: 701.6249 - val_mae: 701.6249 - val_mse: 1691362.8750\n",
      "Epoch 37/100\n",
      "14/14 [==============================] - 0s 5ms/step - loss: 146.3780 - mae: 146.3780 - mse: 100083.1875 - val_loss: 672.4992 - val_mae: 672.4992 - val_mse: 1610112.8750\n",
      "Epoch 38/100\n",
      " 1/14 [=>............................] - ETA: 0s - loss: 143.8031 - mae: 143.8031 - mse: 88122.6562INFO:tensorflow:Assets written to: models/model_1_dense/assets\n",
      "14/14 [==============================] - 0s 31ms/step - loss: 146.1457 - mae: 146.1457 - mse: 102841.3594 - val_loss: 608.4900 - val_mae: 608.4900 - val_mse: 1448469.7500\n",
      "Epoch 39/100\n",
      "14/14 [==============================] - 0s 5ms/step - loss: 141.7341 - mae: 141.7341 - mse: 97072.8672 - val_loss: 618.6327 - val_mae: 618.6327 - val_mse: 1475278.7500\n",
      "Epoch 40/100\n",
      "14/14 [==============================] - 0s 5ms/step - loss: 140.9657 - mae: 140.9657 - mse: 96063.1641 - val_loss: 725.8326 - val_mae: 725.8326 - val_mse: 1745317.6250\n",
      "Epoch 41/100\n",
      "14/14 [==============================] - 0s 4ms/step - loss: 146.9747 - mae: 146.9747 - mse: 100965.9062 - val_loss: 624.8784 - val_mae: 624.8784 - val_mse: 1487262.7500\n",
      "Epoch 42/100\n",
      "14/14 [==============================] - 0s 5ms/step - loss: 140.8617 - mae: 140.8617 - mse: 95995.0234 - val_loss: 608.8318 - val_mae: 608.8318 - val_mse: 1447788.2500\n",
      "Epoch 43/100\n",
      " 1/14 [=>............................] - ETA: 0s - loss: 111.2531 - mae: 111.2531 - mse: 45086.9688INFO:tensorflow:Assets written to: models/model_1_dense/assets\n",
      "14/14 [==============================] - 0s 32ms/step - loss: 140.8971 - mae: 140.8971 - mse: 95812.2656 - val_loss: 604.2315 - val_mae: 604.2315 - val_mse: 1437877.6250\n",
      "Epoch 44/100\n",
      "14/14 [==============================] - 0s 6ms/step - loss: 140.6172 - mae: 140.6172 - mse: 94294.2344 - val_loss: 657.9728 - val_mae: 657.9728 - val_mse: 1561682.2500\n",
      "Epoch 45/100\n",
      "14/14 [==============================] - 0s 4ms/step - loss: 145.0954 - mae: 145.0954 - mse: 97884.3906 - val_loss: 611.8431 - val_mae: 611.8431 - val_mse: 1453007.3750\n",
      "Epoch 46/100\n",
      "14/14 [==============================] - 0s 4ms/step - loss: 137.3552 - mae: 137.3552 - mse: 93381.0000 - val_loss: 604.9780 - val_mae: 604.9780 - val_mse: 1436024.8750\n",
      "Epoch 47/100\n",
      " 1/14 [=>............................] - ETA: 0s - loss: 122.3575 - mae: 122.3575 - mse: 58490.5234INFO:tensorflow:Assets written to: models/model_1_dense/assets\n",
      "14/14 [==============================] - 0s 32ms/step - loss: 139.6044 - mae: 139.6044 - mse: 94610.8594 - val_loss: 595.6400 - val_mae: 595.6400 - val_mse: 1415260.8750\n",
      "Epoch 48/100\n",
      "14/14 [==============================] - 0s 5ms/step - loss: 140.2585 - mae: 140.2585 - mse: 93798.6328 - val_loss: 627.5667 - val_mae: 627.5667 - val_mse: 1485449.6250\n",
      "Epoch 49/100\n",
      "14/14 [==============================] - 0s 4ms/step - loss: 138.3710 - mae: 138.3710 - mse: 91258.8828 - val_loss: 615.5540 - val_mae: 615.5540 - val_mse: 1457193.0000\n",
      "Epoch 50/100\n",
      " 1/14 [=>............................] - ETA: 0s - loss: 131.8640 - mae: 131.8640 - mse: 105526.6328INFO:tensorflow:Assets written to: models/model_1_dense/assets\n",
      "14/14 [==============================] - 0s 31ms/step - loss: 135.8162 - mae: 135.8162 - mse: 91383.0469 - val_loss: 591.3417 - val_mae: 591.3417 - val_mse: 1404129.8750\n",
      "Epoch 51/100\n",
      "14/14 [==============================] - 0s 5ms/step - loss: 136.1769 - mae: 136.1769 - mse: 92314.9297 - val_loss: 610.8253 - val_mae: 610.8253 - val_mse: 1443944.8750\n",
      "Epoch 52/100\n",
      "14/14 [==============================] - 0s 5ms/step - loss: 138.2684 - mae: 138.2684 - mse: 91524.1250 - val_loss: 595.0912 - val_mae: 595.0912 - val_mse: 1416517.8750\n",
      "Epoch 53/100\n",
      " 1/14 [=>............................] - ETA: 0s - loss: 131.4666 - mae: 131.4666 - mse: 79178.5625INFO:tensorflow:Assets written to: models/model_1_dense/assets\n",
      "14/14 [==============================] - 0s 32ms/step - loss: 138.2166 - mae: 138.2166 - mse: 93082.9922 - val_loss: 590.3895 - val_mae: 590.3895 - val_mse: 1398299.1250\n",
      "Epoch 54/100\n",
      "14/14 [==============================] - 0s 4ms/step - loss: 141.2605 - mae: 141.2605 - mse: 94250.5703 - val_loss: 614.7699 - val_mae: 614.7699 - val_mse: 1463708.0000\n",
      "Epoch 55/100\n",
      " 1/14 [=>............................] - ETA: 0s - loss: 175.2748 - mae: 175.2748 - mse: 135197.1250INFO:tensorflow:Assets written to: models/model_1_dense/assets\n",
      "14/14 [==============================] - 0s 33ms/step - loss: 142.2205 - mae: 142.2205 - mse: 95579.9922 - val_loss: 589.0799 - val_mae: 589.0799 - val_mse: 1393961.1250\n",
      "Epoch 56/100\n",
      "14/14 [==============================] - 0s 5ms/step - loss: 135.8081 - mae: 135.8081 - mse: 92510.0625 - val_loss: 599.8381 - val_mae: 599.8381 - val_mse: 1415661.7500\n",
      "Epoch 57/100\n",
      "14/14 [==============================] - 0s 4ms/step - loss: 135.4442 - mae: 135.4442 - mse: 90530.5547 - val_loss: 635.9659 - val_mae: 635.9659 - val_mse: 1491044.6250\n",
      "Epoch 58/100\n",
      "14/14 [==============================] - 0s 4ms/step - loss: 134.5745 - mae: 134.5745 - mse: 90024.8281 - val_loss: 623.6667 - val_mae: 623.6667 - val_mse: 1465292.5000\n",
      "Epoch 59/100\n",
      "14/14 [==============================] - 0s 5ms/step - loss: 136.0547 - mae: 136.0547 - mse: 90179.8750 - val_loss: 632.2744 - val_mae: 632.2744 - val_mse: 1480803.1250\n",
      "Epoch 60/100\n",
      " 1/14 [=>............................] - ETA: 0s - loss: 115.3830 - mae: 115.3830 - mse: 54746.2812INFO:tensorflow:Assets written to: models/model_1_dense/assets\n",
      "14/14 [==============================] - 1s 46ms/step - loss: 135.3951 - mae: 135.3951 - mse: 88947.6953 - val_loss: 584.3954 - val_mae: 584.3954 - val_mse: 1388934.3750\n",
      "Epoch 61/100\n",
      "14/14 [==============================] - 0s 6ms/step - loss: 139.0284 - mae: 139.0284 - mse: 93095.5547 - val_loss: 584.9875 - val_mae: 584.9875 - val_mse: 1391137.0000\n",
      "Epoch 62/100\n",
      " 1/14 [=>............................] - ETA: 0s - loss: 165.5767 - mae: 165.5767 - mse: 170137.5625INFO:tensorflow:Assets written to: models/model_1_dense/assets\n",
      "14/14 [==============================] - 0s 32ms/step - loss: 137.4404 - mae: 137.4404 - mse: 93706.2422 - val_loss: 581.4534 - val_mae: 581.4534 - val_mse: 1382257.2500\n",
      "Epoch 63/100\n",
      "14/14 [==============================] - 0s 5ms/step - loss: 132.4834 - mae: 132.4834 - mse: 88207.5000 - val_loss: 634.4359 - val_mae: 634.4359 - val_mse: 1481638.3750\n",
      "Epoch 64/100\n",
      "14/14 [==============================] - 0s 6ms/step - loss: 135.4465 - mae: 135.4465 - mse: 90275.6406 - val_loss: 713.3687 - val_mae: 713.3687 - val_mse: 1666188.3750\n",
      "Epoch 65/100\n",
      "14/14 [==============================] - 0s 5ms/step - loss: 136.5737 - mae: 136.5737 - mse: 87900.9688 - val_loss: 615.9670 - val_mae: 615.9670 - val_mse: 1441732.6250\n",
      "Epoch 66/100\n",
      "14/14 [==============================] - 0s 6ms/step - loss: 132.4134 - mae: 132.4134 - mse: 88252.6719 - val_loss: 609.4442 - val_mae: 609.4442 - val_mse: 1428663.1250\n",
      "Epoch 67/100\n",
      " 1/14 [=>............................] - ETA: 0s - loss: 155.9268 - mae: 155.9268 - mse: 139222.3125INFO:tensorflow:Assets written to: models/model_1_dense/assets\n",
      "14/14 [==============================] - 0s 32ms/step - loss: 137.7155 - mae: 137.7155 - mse: 92258.5703 - val_loss: 581.0272 - val_mae: 581.0272 - val_mse: 1372686.6250\n",
      "Epoch 68/100\n",
      " 1/14 [=>............................] - ETA: 0s - loss: 147.3194 - mae: 147.3194 - mse: 101970.9922INFO:tensorflow:Assets written to: models/model_1_dense/assets\n",
      "14/14 [==============================] - 0s 33ms/step - loss: 132.8793 - mae: 132.8793 - mse: 87388.2188 - val_loss: 578.4185 - val_mae: 578.4185 - val_mse: 1369049.3750\n",
      "Epoch 69/100\n",
      "14/14 [==============================] - 0s 6ms/step - loss: 136.6080 - mae: 136.6080 - mse: 91667.2031 - val_loss: 623.0695 - val_mae: 623.0695 - val_mse: 1455173.5000\n",
      "Epoch 70/100\n",
      " 1/14 [=>............................] - ETA: 0s - loss: 97.4670 - mae: 97.4670 - mse: 50004.0078INFO:tensorflow:Assets written to: models/model_1_dense/assets\n",
      "14/14 [==============================] - 0s 32ms/step - loss: 132.1132 - mae: 132.1132 - mse: 86706.4531 - val_loss: 575.5281 - val_mae: 575.5281 - val_mse: 1365532.7500\n",
      "Epoch 71/100\n",
      "14/14 [==============================] - 0s 4ms/step - loss: 136.5641 - mae: 136.5641 - mse: 90064.2891 - val_loss: 592.4228 - val_mae: 592.4228 - val_mse: 1405432.0000\n",
      "Epoch 72/100\n",
      " 1/14 [=>............................] - ETA: 0s - loss: 206.9645 - mae: 206.9645 - mse: 205572.6719INFO:tensorflow:Assets written to: models/model_1_dense/assets\n",
      "14/14 [==============================] - 0s 32ms/step - loss: 144.6254 - mae: 144.6254 - mse: 96750.8594 - val_loss: 573.7807 - val_mae: 573.7807 - val_mse: 1360967.1250\n",
      "Epoch 73/100\n",
      "14/14 [==============================] - 0s 6ms/step - loss: 139.3172 - mae: 139.3172 - mse: 94009.5625 - val_loss: 582.0948 - val_mae: 582.0948 - val_mse: 1371707.2500\n",
      "Epoch 74/100\n",
      "14/14 [==============================] - 0s 4ms/step - loss: 138.3585 - mae: 138.3585 - mse: 90898.0312 - val_loss: 627.6683 - val_mae: 627.6683 - val_mse: 1460332.3750\n",
      "Epoch 75/100\n",
      "14/14 [==============================] - 0s 5ms/step - loss: 134.9120 - mae: 134.9120 - mse: 90793.5312 - val_loss: 595.4856 - val_mae: 595.4856 - val_mse: 1395539.2500\n",
      "Epoch 76/100\n",
      " 1/14 [=>............................] - ETA: 0s - loss: 115.9543 - mae: 115.9543 - mse: 59501.0664INFO:tensorflow:Assets written to: models/model_1_dense/assets\n",
      "14/14 [==============================] - 0s 31ms/step - loss: 131.5670 - mae: 131.5670 - mse: 87004.7188 - val_loss: 571.1688 - val_mae: 571.1688 - val_mse: 1355655.8750\n",
      "Epoch 77/100\n",
      "14/14 [==============================] - 0s 4ms/step - loss: 137.9530 - mae: 137.9530 - mse: 91226.2500 - val_loss: 572.2129 - val_mae: 572.2129 - val_mse: 1353040.2500\n",
      "Epoch 78/100\n",
      "14/14 [==============================] - 0s 4ms/step - loss: 132.8779 - mae: 132.8779 - mse: 87069.3594 - val_loss: 614.7021 - val_mae: 614.7021 - val_mse: 1431261.2500\n",
      "Epoch 79/100\n",
      "14/14 [==============================] - 0s 4ms/step - loss: 139.8954 - mae: 139.8954 - mse: 91336.5859 - val_loss: 572.6579 - val_mae: 572.6579 - val_mse: 1359021.7500\n",
      "Epoch 80/100\n",
      "14/14 [==============================] - 0s 6ms/step - loss: 136.1005 - mae: 136.1005 - mse: 88409.0547 - val_loss: 574.0016 - val_mae: 574.0016 - val_mse: 1365525.7500\n",
      "Epoch 81/100\n",
      "14/14 [==============================] - 0s 6ms/step - loss: 131.8882 - mae: 131.8882 - mse: 87045.2500 - val_loss: 619.0416 - val_mae: 619.0416 - val_mse: 1439805.3750\n",
      "Epoch 82/100\n",
      "14/14 [==============================] - 0s 6ms/step - loss: 132.9580 - mae: 132.9580 - mse: 87392.1094 - val_loss: 645.8336 - val_mae: 645.8336 - val_mse: 1495722.2500\n",
      "Epoch 83/100\n",
      "14/14 [==============================] - 0s 5ms/step - loss: 138.6747 - mae: 138.6747 - mse: 90471.8594 - val_loss: 572.3862 - val_mae: 572.3862 - val_mse: 1355004.5000\n",
      "Epoch 84/100\n",
      "14/14 [==============================] - 0s 4ms/step - loss: 137.3544 - mae: 137.3544 - mse: 89357.9531 - val_loss: 583.7294 - val_mae: 583.7294 - val_mse: 1390721.3750\n",
      "Epoch 85/100\n",
      "14/14 [==============================] - 0s 5ms/step - loss: 133.2996 - mae: 133.2996 - mse: 86371.6484 - val_loss: 589.8187 - val_mae: 589.8187 - val_mse: 1381019.8750\n",
      "Epoch 86/100\n",
      "14/14 [==============================] - 0s 6ms/step - loss: 133.0355 - mae: 133.0355 - mse: 86740.5156 - val_loss: 668.2953 - val_mae: 668.2953 - val_mse: 1542847.7500\n",
      "Epoch 87/100\n",
      "14/14 [==============================] - 0s 5ms/step - loss: 132.3948 - mae: 132.3948 - mse: 86932.6719 - val_loss: 631.7619 - val_mae: 631.7619 - val_mse: 1463854.2500\n",
      "Epoch 88/100\n",
      "14/14 [==============================] - 0s 5ms/step - loss: 134.1899 - mae: 134.1899 - mse: 87667.3672 - val_loss: 605.9341 - val_mae: 605.9341 - val_mse: 1410857.0000\n",
      "Epoch 89/100\n",
      "14/14 [==============================] - 0s 5ms/step - loss: 130.2972 - mae: 130.2972 - mse: 85976.7344 - val_loss: 583.5170 - val_mae: 583.5170 - val_mse: 1369515.6250\n",
      "Epoch 90/100\n",
      "14/14 [==============================] - 0s 5ms/step - loss: 130.5934 - mae: 130.5934 - mse: 86242.8750 - val_loss: 586.5956 - val_mae: 586.5956 - val_mse: 1375031.3750\n",
      "Epoch 91/100\n",
      " 1/14 [=>............................] - ETA: 0s - loss: 134.0086 - mae: 134.0086 - mse: 94014.4453INFO:tensorflow:Assets written to: models/model_1_dense/assets\n",
      "14/14 [==============================] - 0s 32ms/step - loss: 136.4020 - mae: 136.4020 - mse: 89194.7734 - val_loss: 565.7719 - val_mae: 565.7719 - val_mse: 1340969.3750\n",
      "Epoch 92/100\n",
      "14/14 [==============================] - 0s 6ms/step - loss: 130.1774 - mae: 130.1774 - mse: 85566.6953 - val_loss: 594.9127 - val_mae: 594.9127 - val_mse: 1388158.3750\n",
      "Epoch 93/100\n",
      "14/14 [==============================] - 0s 4ms/step - loss: 130.6894 - mae: 130.6894 - mse: 85181.7656 - val_loss: 659.2490 - val_mae: 659.2490 - val_mse: 1520066.6250\n",
      "Epoch 94/100\n",
      "14/14 [==============================] - 0s 4ms/step - loss: 138.7995 - mae: 138.7995 - mse: 89496.2031 - val_loss: 568.5505 - val_mae: 568.5505 - val_mse: 1350209.7500\n",
      "Epoch 95/100\n",
      "14/14 [==============================] - 0s 5ms/step - loss: 134.8216 - mae: 134.8216 - mse: 89024.4453 - val_loss: 571.6524 - val_mae: 571.6524 - val_mse: 1357250.8750\n",
      "Epoch 96/100\n",
      "14/14 [==============================] - 0s 4ms/step - loss: 132.5165 - mae: 132.5165 - mse: 87736.7109 - val_loss: 579.7814 - val_mae: 579.7814 - val_mse: 1375232.2500\n",
      "Epoch 97/100\n",
      " 1/14 [=>............................] - ETA: 0s - loss: 145.8432 - mae: 145.8432 - mse: 117043.1875INFO:tensorflow:Assets written to: models/model_1_dense/assets\n",
      "14/14 [==============================] - 0s 31ms/step - loss: 135.5740 - mae: 135.5740 - mse: 86971.9297 - val_loss: 565.1277 - val_mae: 565.1277 - val_mse: 1337065.3750\n",
      "Epoch 98/100\n",
      "14/14 [==============================] - 0s 5ms/step - loss: 130.7368 - mae: 130.7368 - mse: 85185.1094 - val_loss: 575.0673 - val_mae: 575.0673 - val_mse: 1363773.5000\n",
      "Epoch 99/100\n",
      " 1/14 [=>............................] - ETA: 0s - loss: 130.8214 - mae: 130.8214 - mse: 96000.4453INFO:tensorflow:Assets written to: models/model_1_dense/assets\n",
      "14/14 [==============================] - 0s 32ms/step - loss: 131.0261 - mae: 131.0261 - mse: 83135.2344 - val_loss: 563.8818 - val_mae: 563.8818 - val_mse: 1339607.5000\n",
      "Epoch 100/100\n",
      "14/14 [==============================] - 0s 4ms/step - loss: 129.6634 - mae: 129.6634 - mse: 82576.5000 - val_loss: 571.8756 - val_mae: 571.8756 - val_mse: 1358415.5000\n"
     ]
    },
    {
     "data": {
      "text/plain": [
       "<keras.callbacks.History at 0x7f418f999110>"
      ]
     },
     "execution_count": 49,
     "metadata": {},
     "output_type": "execute_result"
    }
   ],
   "source": [
    "\"\"\" \n",
    "  Model-1: Dense model (window=7, horizon=1)\n",
    "  The values are chosen by doing experiments\n",
    "\"\"\"\n",
    "\n",
    "import tensorflow as tf\n",
    "from tensorflow.keras import layers\n",
    "\n",
    "# Set random seed for as reprodicible results as possible\n",
    "tf.random.set_seed(42)\n",
    "\n",
    "model_1 = tf.keras.Sequential([\n",
    "  layers.Dense(128, activation='relu'),\n",
    "  layers.Dense(HORIZON, activation='linear') # Same output as it was passed into it (similar to no activation)\n",
    "], name='model_1_dense') # we can use it for our checkpoint function\n",
    "\n",
    "# 2. Compile\n",
    "model_1.compile(loss=\"mae\",\n",
    "                 optimizer=tf.keras.optimizers.Adam(),\n",
    "                 metrics=[\"mae\", \"mse\"])\n",
    "\n",
    "# 3. Fit the model\n",
    "model_1.fit(x=train_windows,\n",
    "            y=train_labels,\n",
    "            epochs=100,\n",
    "            verbose=1, # it refers to how much information we want to print for our models\n",
    "            batch_size=128,\n",
    "            validation_data=(test_windows, test_labels),\n",
    "            callbacks=[create_model_checkpoint(model_name=model_1.name)]) # saves the best model\n",
    "\n"
   ]
  },
  {
   "cell_type": "code",
   "execution_count": 50,
   "metadata": {
    "colab": {
     "base_uri": "https://localhost:8080/"
    },
    "id": "uQ8O8suZRkdn",
    "outputId": "1430db16-3b35-4f42-8453-8747a1e09316"
   },
   "outputs": [
    {
     "name": "stdout",
     "output_type": "stream",
     "text": [
      "14/14 [==============================] - 0s 3ms/step - loss: 571.8756 - mae: 571.8756 - mse: 1358415.5000\n"
     ]
    },
    {
     "data": {
      "text/plain": [
       "[571.8756103515625, 571.8756103515625, 1358415.5]"
      ]
     },
     "execution_count": 50,
     "metadata": {},
     "output_type": "execute_result"
    }
   ],
   "source": [
    "# Evaluate model on test data\n",
    "model_1.evaluate(test_windows, test_labels)\n",
    "# This is not the model's best performance, it is the last epoch's performance"
   ]
  },
  {
   "cell_type": "code",
   "execution_count": 51,
   "metadata": {
    "colab": {
     "base_uri": "https://localhost:8080/"
    },
    "id": "ZhtycAO6R_cr",
    "outputId": "51617f22-6fb4-4824-e3e8-6185412c2743"
   },
   "outputs": [
    {
     "name": "stdout",
     "output_type": "stream",
     "text": [
      "14/14 [==============================] - 0s 2ms/step - loss: 563.8818 - mae: 563.8818 - mse: 1339607.5000\n"
     ]
    },
    {
     "data": {
      "text/plain": [
       "[563.8818359375, 563.8818359375, 1339607.5]"
      ]
     },
     "execution_count": 51,
     "metadata": {},
     "output_type": "execute_result"
    }
   ],
   "source": [
    "# Load in saved best performing model_1 and evaluate on test data\n",
    "model_1 = tf.keras.models.load_model(\"models/model_1_dense\")\n",
    "model_1.evaluate(test_windows, test_labels)"
   ]
  },
  {
   "cell_type": "markdown",
   "metadata": {
    "id": "hzeZelno5imI"
   },
   "source": [
    "Ateps for making a forecast on the test dataset:\n",
    "* Take in a train model\n",
    "* Take in some input data (same kind of data the model was trained on)\n",
    "* Passes the input data to the model's `predict()` method\n",
    "* Returns the predictions"
   ]
  },
  {
   "cell_type": "code",
   "execution_count": 52,
   "metadata": {
    "id": "hj3MunMSSHVP"
   },
   "outputs": [],
   "source": [
    "## After evaluating the model, lets forecast using the model (it is pseudo forecast)\n",
    "def make_prediction(model, input_data):\n",
    "  forecast = model.predict(input_data)\n",
    "  return tf.squeeze(forecast) # Squeezing is needed because we are returning 1D array of predictions"
   ]
  },
  {
   "cell_type": "code",
   "execution_count": 53,
   "metadata": {
    "colab": {
     "base_uri": "https://localhost:8080/"
    },
    "id": "JpuRxymv6J0U",
    "outputId": "3cc98388-1328-4f13-c4fb-c55f6a005de2"
   },
   "outputs": [
    {
     "data": {
      "text/plain": [
       "(446, <tf.Tensor: shape=(10,), dtype=float32, numpy=\n",
       " array([7325.8174, 7375.14  , 7473.6387, 7583.597 , 7968.2456, 8359.743 ,\n",
       "        8034.2095, 7894.657 , 8068.1987, 8165.164 ], dtype=float32)>)"
      ]
     },
     "execution_count": 53,
     "metadata": {},
     "output_type": "execute_result"
    }
   ],
   "source": [
    "# Make predictions using model_1 on the test dataset and evaluate it on test data\n",
    "# Because of the model1 checkpoint, we are getting the predictions from the best performing model\n",
    "model_1_prediction = make_prediction(model_1, test_windows)\n",
    "len(model_1_prediction), model_1_prediction[:10]"
   ]
  },
  {
   "cell_type": "markdown",
   "metadata": {
    "id": "hic_SCb071LZ"
   },
   "source": [
    "The most common errors in machine learning is the input and output size"
   ]
  },
  {
   "cell_type": "code",
   "execution_count": 54,
   "metadata": {
    "colab": {
     "base_uri": "https://localhost:8080/"
    },
    "id": "SGJPxLDw77M4",
    "outputId": "68d1c49f-e918-4bf8-ab76-7d7582d66005"
   },
   "outputs": [
    {
     "data": {
      "text/plain": [
       "((446, 1), TensorShape([446]), TensorShape([446]))"
      ]
     },
     "execution_count": 54,
     "metadata": {},
     "output_type": "execute_result"
    }
   ],
   "source": [
    "test_labels.shape, model_1_prediction.shape, tf.squeeze(test_labels).shape"
   ]
  },
  {
   "cell_type": "code",
   "execution_count": 55,
   "metadata": {
    "colab": {
     "base_uri": "https://localhost:8080/"
    },
    "id": "VUrDorHm7RPv",
    "outputId": "3bfbd9f3-beb8-4710-d34a-935a953c07d3"
   },
   "outputs": [
    {
     "data": {
      "text/plain": [
       "{'mae': 563.8818,\n",
       " 'mape': 2.7862234,\n",
       " 'mase': 0.99867654,\n",
       " 'mse': 1339607.5,\n",
       " 'rmse': 1157.4142}"
      ]
     },
     "execution_count": 55,
     "metadata": {},
     "output_type": "execute_result"
    }
   ],
   "source": [
    "model_1_results = evaluate_preds(y_true=tf.squeeze(test_labels), y_pred=model_1_prediction)\n",
    "model_1_results"
   ]
  },
  {
   "cell_type": "code",
   "execution_count": null,
   "metadata": {
    "colab": {
     "base_uri": "https://localhost:8080/"
    },
    "id": "KOubaOdbSOrc",
    "outputId": "cddb1228-5ac3-4dd9-9b2b-25ccf6db797b"
   },
   "outputs": [
    {
     "data": {
      "text/plain": [
       "{'mae': 571.1008,\n",
       " 'mape': 2.7039125,\n",
       " 'mase': 0.99867797,\n",
       " 'mse': 1341613.6,\n",
       " 'rmse': 1158.2805}"
      ]
     },
     "execution_count": 44,
     "metadata": {},
     "output_type": "execute_result"
    }
   ],
   "source": [
    "naive_results"
   ]
  },
  {
   "cell_type": "code",
   "execution_count": 56,
   "metadata": {
    "colab": {
     "base_uri": "https://localhost:8080/"
    },
    "id": "wtFJu6jaj5ei",
    "outputId": "e0c84ad1-29c5-4a19-ae73-e0e5828b8335"
   },
   "outputs": [
    {
     "name": "stdout",
     "output_type": "stream",
     "text": [
      "Model: \"model_1_dense\"\n",
      "_________________________________________________________________\n",
      " Layer (type)                Output Shape              Param #   \n",
      "=================================================================\n",
      " dense (Dense)               (None, 128)               1024      \n",
      "                                                                 \n",
      " dense_1 (Dense)             (None, 1)                 129       \n",
      "                                                                 \n",
      "=================================================================\n",
      "Total params: 1,153\n",
      "Trainable params: 1,153\n",
      "Non-trainable params: 0\n",
      "_________________________________________________________________\n"
     ]
    }
   ],
   "source": [
    "model_1.summary()"
   ]
  },
  {
   "cell_type": "code",
   "execution_count": 57,
   "metadata": {
    "colab": {
     "base_uri": "https://localhost:8080/"
    },
    "id": "zH-uHJ0H9hg4",
    "outputId": "4ed8ad08-5f5b-42ce-f077-eb14bc303b47"
   },
   "outputs": [
    {
     "data": {
      "text/plain": [
       "[3, 4]"
      ]
     },
     "execution_count": 57,
     "metadata": {},
     "output_type": "execute_result"
    }
   ],
   "source": [
    "a = [1,2,3,4]\n",
    "a[-2:]"
   ]
  },
  {
   "cell_type": "code",
   "execution_count": 58,
   "metadata": {
    "colab": {
     "base_uri": "https://localhost:8080/"
    },
    "id": "d-vquEKa9U1d",
    "outputId": "0ca48273-3cc8-48ff-e2dd-e56ca686d629"
   },
   "outputs": [
    {
     "data": {
      "text/plain": [
       "(448, 446)"
      ]
     },
     "execution_count": 58,
     "metadata": {},
     "output_type": "execute_result"
    }
   ],
   "source": [
    "len(X_test), len(test_windows)"
   ]
  },
  {
   "cell_type": "code",
   "execution_count": 59,
   "metadata": {
    "colab": {
     "base_uri": "https://localhost:8080/",
     "height": 442
    },
    "id": "N_1zpMlU8izq",
    "outputId": "e202dc0e-78d5-4a4e-973f-ffe7aba28f3f"
   },
   "outputs": [
    {
     "data": {
      "image/png": "[encoded data removed]",
      "text/plain": [
       "<Figure size 720x504 with 1 Axes>"
      ]
     },
     "metadata": {
      "needs_background": "light"
     },
     "output_type": "display_data"
    }
   ],
   "source": [
    "# Plotting model-1 predictions\n",
    "plt.figure(figsize=(10,7))\n",
    "offset=400\n",
    "plot_time_series(timesteps=X_test[-len(test_windows):], values=test_labels[:, 0], start=offset, label='Test Data', format=\"-\")\n",
    "plot_time_series(timesteps=X_test[-len(test_windows):], values=model_1_prediction, start=offset, label=\"Model-1 prediction\", format='-')"
   ]
  },
  {
   "cell_type": "code",
   "execution_count": 60,
   "metadata": {
    "id": "VGziiCtA9H63"
   },
   "outputs": [],
   "source": [
    "# [:,0] means get every rows and get the zeroth dimenstion"
   ]
  },
  {
   "cell_type": "code",
   "execution_count": 61,
   "metadata": {
    "id": "2qXzVh7AARY0"
   },
   "outputs": [],
   "source": [
    "# Autoregressive data is the reason for our prediction coming after the actual value"
   ]
  },
  {
   "cell_type": "markdown",
   "metadata": {
    "id": "LP4Z-aPao9io"
   },
   "source": [
    "### We can make a large horizon predictions (like a week prediction) and later use either mean metric or any other to make a one prediciton"
   ]
  },
  {
   "cell_type": "code",
   "execution_count": 62,
   "metadata": {
    "id": "eSRB5Il7pJgY"
   },
   "outputs": [],
   "source": [
    "# Instead of prediction the exact prediction point, we can predict the prediction direction or prediction intervals like 99% prediction interval"
   ]
  },
  {
   "cell_type": "code",
   "execution_count": 63,
   "metadata": {
    "id": "--RhZqV7pIkC"
   },
   "outputs": [],
   "source": [
    "## Model-2: Dense (Windows:30, Horizon:1)\n",
    "HORIZON=1\n",
    "WINDOW_SIZE=30"
   ]
  },
  {
   "cell_type": "code",
   "execution_count": 64,
   "metadata": {
    "colab": {
     "base_uri": "https://localhost:8080/"
    },
    "id": "Kq5RB2ypCdhg",
    "outputId": "cc8cd25c-f127-47e7-ebc0-bcd7168947d6"
   },
   "outputs": [
    {
     "data": {
      "text/plain": [
       "(2206, 2206)"
      ]
     },
     "execution_count": 64,
     "metadata": {},
     "output_type": "execute_result"
    }
   ],
   "source": [
    "# Make windowed data with appropriate horizon and window sizes\n",
    "full_windows, full_labels = make_windows(prices, window_size=WINDOW_SIZE, horizon=HORIZON)\n",
    "len(full_windows), len(full_labels)"
   ]
  },
  {
   "cell_type": "code",
   "execution_count": 65,
   "metadata": {
    "colab": {
     "base_uri": "https://localhost:8080/"
    },
    "id": "sTswLjesC07N",
    "outputId": "a5e702f3-4618-42b4-9eb1-e96a2086d39d"
   },
   "outputs": [
    {
     "data": {
      "text/plain": [
       "(1764, 442, 1764, 442)"
      ]
     },
     "execution_count": 65,
     "metadata": {},
     "output_type": "execute_result"
    }
   ],
   "source": [
    "# Make train and testing windows\n",
    "train_windows, test_windows, train_labels, test_labels = make_train_test_splits(windows=full_windows, labels=full_labels)\n",
    "len(train_windows), len(test_windows), len(train_labels), len(test_labels)"
   ]
  },
  {
   "cell_type": "code",
   "execution_count": 66,
   "metadata": {
    "colab": {
     "base_uri": "https://localhost:8080/"
    },
    "id": "bsUKj1KwDO7j",
    "outputId": "bda85d1a-0b2a-49fe-9c7b-4f7b9f4be3c1"
   },
   "outputs": [
    {
     "data": {
      "text/plain": [
       "array([[754.9 , 784.19, 809.4 , 828.79, 905.  , 919.24, 785.  , 824.76,\n",
       "        852.61, 896.59, 844.05, 823.  , 841.14, 814.4 , 797.2 , 842.07,\n",
       "        826.02, 812.  , 780.  , 806.8 , 751.95, 788.  , 794.21, 799.99,\n",
       "        803.  , 814.99, 782.33, 763.99, 705.01, 680.49],\n",
       "       [784.19, 809.4 , 828.79, 905.  , 919.24, 785.  , 824.76, 852.61,\n",
       "        896.59, 844.05, 823.  , 841.14, 814.4 , 797.2 , 842.07, 826.02,\n",
       "        812.  , 780.  , 806.8 , 751.95, 788.  , 794.21, 799.99, 803.  ,\n",
       "        814.99, 782.33, 763.99, 705.01, 680.49, 687.81],\n",
       "       [809.4 , 828.79, 905.  , 919.24, 785.  , 824.76, 852.61, 896.59,\n",
       "        844.05, 823.  , 841.14, 814.4 , 797.2 , 842.07, 826.02, 812.  ,\n",
       "        780.  , 806.8 , 751.95, 788.  , 794.21, 799.99, 803.  , 814.99,\n",
       "        782.33, 763.99, 705.01, 680.49, 687.81, 675.1 ]])"
      ]
     },
     "execution_count": 66,
     "metadata": {},
     "output_type": "execute_result"
    }
   ],
   "source": [
    "train_windows[:3]"
   ]
  },
  {
   "cell_type": "code",
   "execution_count": 67,
   "metadata": {
    "colab": {
     "base_uri": "https://localhost:8080/"
    },
    "id": "mUDcMaqfDZCT",
    "outputId": "2578b26b-305b-412a-b1bb-4676f6fe9b89"
   },
   "outputs": [
    {
     "data": {
      "text/plain": [
       "2236"
      ]
     },
     "execution_count": 67,
     "metadata": {},
     "output_type": "execute_result"
    }
   ],
   "source": [
    "len(prices)"
   ]
  },
  {
   "cell_type": "code",
   "execution_count": 68,
   "metadata": {
    "colab": {
     "base_uri": "https://localhost:8080/"
    },
    "id": "RGmgNGQADmjt",
    "outputId": "2b8ee918-a573-4575-a20b-baeb34ce0c75"
   },
   "outputs": [
    {
     "name": "stdout",
     "output_type": "stream",
     "text": [
      "Epoch 1/100\n",
      " 1/14 [=>............................] - ETA: 3s - loss: 4251.6206INFO:tensorflow:Assets written to: models/model_2_dense/assets\n",
      "14/14 [==============================] - 1s 39ms/step - loss: 1372.0996 - val_loss: 5363.8169\n",
      "Epoch 2/100\n",
      " 1/14 [=>............................] - ETA: 0s - loss: 897.0695INFO:tensorflow:Assets written to: models/model_2_dense/assets\n",
      "14/14 [==============================] - 1s 47ms/step - loss: 606.1738 - val_loss: 3543.5481\n",
      "Epoch 3/100\n",
      " 1/14 [=>............................] - ETA: 0s - loss: 654.4217INFO:tensorflow:Assets written to: models/model_2_dense/assets\n",
      "14/14 [==============================] - 0s 31ms/step - loss: 472.0771 - val_loss: 1521.0830\n",
      "Epoch 4/100\n",
      " 1/14 [=>............................] - ETA: 0s - loss: 266.4693INFO:tensorflow:Assets written to: models/model_2_dense/assets\n",
      "14/14 [==============================] - 0s 29ms/step - loss: 311.1849 - val_loss: 1250.7548\n",
      "Epoch 5/100\n",
      " 1/14 [=>............................] - ETA: 0s - loss: 343.7678INFO:tensorflow:Assets written to: models/model_2_dense/assets\n",
      "14/14 [==============================] - 0s 32ms/step - loss: 254.1111 - val_loss: 1091.2778\n",
      "Epoch 6/100\n",
      " 1/14 [=>............................] - ETA: 0s - loss: 221.1263INFO:tensorflow:Assets written to: models/model_2_dense/assets\n",
      "14/14 [==============================] - 0s 32ms/step - loss: 237.3476 - val_loss: 1027.5642\n",
      "Epoch 7/100\n",
      " 1/14 [=>............................] - ETA: 0s - loss: 196.9706INFO:tensorflow:Assets written to: models/model_2_dense/assets\n",
      "14/14 [==============================] - 0s 32ms/step - loss: 229.6923 - val_loss: 941.8698\n",
      "Epoch 8/100\n",
      "14/14 [==============================] - 0s 5ms/step - loss: 233.8298 - val_loss: 1318.6440\n",
      "Epoch 9/100\n",
      "14/14 [==============================] - 0s 5ms/step - loss: 243.0570 - val_loss: 1126.8374\n",
      "Epoch 10/100\n",
      " 1/14 [=>............................] - ETA: 0s - loss: 214.6198INFO:tensorflow:Assets written to: models/model_2_dense/assets\n",
      "14/14 [==============================] - 0s 31ms/step - loss: 242.1604 - val_loss: 868.5416\n",
      "Epoch 11/100\n",
      "14/14 [==============================] - 0s 5ms/step - loss: 214.2319 - val_loss: 959.4744\n",
      "Epoch 12/100\n",
      " 1/14 [=>............................] - ETA: 0s - loss: 213.0579INFO:tensorflow:Assets written to: models/model_2_dense/assets\n",
      "14/14 [==============================] - 0s 34ms/step - loss: 206.8290 - val_loss: 842.5629\n",
      "Epoch 13/100\n",
      " 1/14 [=>............................] - ETA: 0s - loss: 233.8886INFO:tensorflow:Assets written to: models/model_2_dense/assets\n",
      "14/14 [==============================] - 0s 32ms/step - loss: 197.7834 - val_loss: 827.8757\n",
      "Epoch 14/100\n",
      "14/14 [==============================] - 0s 4ms/step - loss: 193.5604 - val_loss: 880.5116\n",
      "Epoch 15/100\n",
      " 1/14 [=>............................] - ETA: 0s - loss: 210.1398INFO:tensorflow:Assets written to: models/model_2_dense/assets\n",
      "14/14 [==============================] - 0s 32ms/step - loss: 194.7650 - val_loss: 795.9082\n",
      "Epoch 16/100\n",
      "14/14 [==============================] - 0s 6ms/step - loss: 195.5183 - val_loss: 868.3561\n",
      "Epoch 17/100\n",
      "14/14 [==============================] - 0s 5ms/step - loss: 192.2065 - val_loss: 800.4166\n",
      "Epoch 18/100\n",
      " 1/14 [=>............................] - ETA: 0s - loss: 231.1130INFO:tensorflow:Assets written to: models/model_2_dense/assets\n",
      "14/14 [==============================] - 0s 30ms/step - loss: 188.8398 - val_loss: 781.9799\n",
      "Epoch 19/100\n",
      " 1/14 [=>............................] - ETA: 0s - loss: 172.8582INFO:tensorflow:Assets written to: models/model_2_dense/assets\n",
      "14/14 [==============================] - 0s 31ms/step - loss: 195.3169 - val_loss: 779.8918\n",
      "Epoch 20/100\n",
      " 1/14 [=>............................] - ETA: 0s - loss: 205.2815INFO:tensorflow:Assets written to: models/model_2_dense/assets\n",
      "14/14 [==============================] - 0s 32ms/step - loss: 179.9776 - val_loss: 762.8176\n",
      "Epoch 21/100\n",
      "14/14 [==============================] - 0s 5ms/step - loss: 181.0282 - val_loss: 777.2594\n",
      "Epoch 22/100\n",
      " 1/14 [=>............................] - ETA: 0s - loss: 184.4479INFO:tensorflow:Assets written to: models/model_2_dense/assets\n",
      "14/14 [==============================] - 0s 32ms/step - loss: 182.1305 - val_loss: 751.0553\n",
      "Epoch 23/100\n",
      " 1/14 [=>............................] - ETA: 0s - loss: 182.5091INFO:tensorflow:Assets written to: models/model_2_dense/assets\n",
      "14/14 [==============================] - 0s 31ms/step - loss: 172.5989 - val_loss: 747.6548\n",
      "Epoch 24/100\n",
      "14/14 [==============================] - 0s 4ms/step - loss: 177.1281 - val_loss: 762.1643\n",
      "Epoch 25/100\n",
      "14/14 [==============================] - 0s 4ms/step - loss: 174.5819 - val_loss: 815.0490\n",
      "Epoch 26/100\n",
      "14/14 [==============================] - 0s 4ms/step - loss: 185.1629 - val_loss: 922.8730\n",
      "Epoch 27/100\n",
      "14/14 [==============================] - 0s 4ms/step - loss: 177.9686 - val_loss: 822.9120\n",
      "Epoch 28/100\n",
      "14/14 [==============================] - 0s 4ms/step - loss: 183.6471 - val_loss: 788.9307\n",
      "Epoch 29/100\n",
      "14/14 [==============================] - 0s 5ms/step - loss: 175.5605 - val_loss: 748.1066\n",
      "Epoch 30/100\n",
      " 1/14 [=>............................] - ETA: 0s - loss: 159.2082INFO:tensorflow:Assets written to: models/model_2_dense/assets\n",
      "14/14 [==============================] - 0s 31ms/step - loss: 167.1365 - val_loss: 725.1517\n",
      "Epoch 31/100\n",
      "14/14 [==============================] - 0s 5ms/step - loss: 185.5827 - val_loss: 944.4929\n",
      "Epoch 32/100\n",
      "14/14 [==============================] - 0s 4ms/step - loss: 188.8088 - val_loss: 736.0704\n",
      "Epoch 33/100\n",
      " 1/14 [=>............................] - ETA: 0s - loss: 174.9072INFO:tensorflow:Assets written to: models/model_2_dense/assets\n",
      "14/14 [==============================] - 0s 31ms/step - loss: 170.7867 - val_loss: 704.1850\n",
      "Epoch 34/100\n",
      "14/14 [==============================] - 0s 4ms/step - loss: 167.6221 - val_loss: 767.9927\n",
      "Epoch 35/100\n",
      " 1/14 [=>............................] - ETA: 0s - loss: 127.4080INFO:tensorflow:Assets written to: models/model_2_dense/assets\n",
      "14/14 [==============================] - 1s 46ms/step - loss: 162.1399 - val_loss: 704.1450\n",
      "Epoch 36/100\n",
      "14/14 [==============================] - 0s 4ms/step - loss: 196.6371 - val_loss: 712.7945\n",
      "Epoch 37/100\n",
      " 1/14 [=>............................] - ETA: 0s - loss: 181.9680INFO:tensorflow:Assets written to: models/model_2_dense/assets\n",
      "14/14 [==============================] - 0s 32ms/step - loss: 163.3848 - val_loss: 692.4244\n",
      "Epoch 38/100\n",
      "14/14 [==============================] - 0s 4ms/step - loss: 167.1173 - val_loss: 697.5243\n",
      "Epoch 39/100\n",
      "14/14 [==============================] - 0s 4ms/step - loss: 162.2582 - val_loss: 831.6852\n",
      "Epoch 40/100\n",
      "14/14 [==============================] - 0s 4ms/step - loss: 170.4290 - val_loss: 775.2573\n",
      "Epoch 41/100\n",
      "14/14 [==============================] - 0s 4ms/step - loss: 178.0286 - val_loss: 693.6860\n",
      "Epoch 42/100\n",
      "14/14 [==============================] - 0s 4ms/step - loss: 158.1631 - val_loss: 766.2220\n",
      "Epoch 43/100\n",
      "14/14 [==============================] - 0s 5ms/step - loss: 169.3176 - val_loss: 709.9189\n",
      "Epoch 44/100\n",
      "14/14 [==============================] - 0s 4ms/step - loss: 158.7215 - val_loss: 785.0946\n",
      "Epoch 45/100\n",
      " 1/14 [=>............................] - ETA: 0s - loss: 149.6548INFO:tensorflow:Assets written to: models/model_2_dense/assets\n",
      "14/14 [==============================] - 0s 31ms/step - loss: 173.5923 - val_loss: 691.3478\n",
      "Epoch 46/100\n",
      " 1/14 [=>............................] - ETA: 0s - loss: 167.9113INFO:tensorflow:Assets written to: models/model_2_dense/assets\n",
      "14/14 [==============================] - 0s 30ms/step - loss: 165.3671 - val_loss: 668.8582\n",
      "Epoch 47/100\n",
      " 1/14 [=>............................] - ETA: 0s - loss: 157.2962INFO:tensorflow:Assets written to: models/model_2_dense/assets\n",
      "14/14 [==============================] - 0s 31ms/step - loss: 153.9284 - val_loss: 666.6785\n",
      "Epoch 48/100\n",
      "14/14 [==============================] - 0s 4ms/step - loss: 151.8966 - val_loss: 666.7916\n",
      "Epoch 49/100\n",
      "14/14 [==============================] - 0s 4ms/step - loss: 159.5269 - val_loss: 679.0474\n",
      "Epoch 50/100\n",
      "14/14 [==============================] - 0s 4ms/step - loss: 152.6160 - val_loss: 717.6256\n",
      "Epoch 51/100\n",
      "14/14 [==============================] - 0s 5ms/step - loss: 161.3149 - val_loss: 882.5724\n",
      "Epoch 52/100\n",
      "14/14 [==============================] - 0s 4ms/step - loss: 179.0446 - val_loss: 706.7260\n",
      "Epoch 53/100\n",
      "14/14 [==============================] - 0s 4ms/step - loss: 149.7748 - val_loss: 693.0231\n",
      "Epoch 54/100\n",
      " 1/14 [=>............................] - ETA: 0s - loss: 135.2602INFO:tensorflow:Assets written to: models/model_2_dense/assets\n",
      "14/14 [==============================] - 0s 31ms/step - loss: 150.4679 - val_loss: 651.1354\n",
      "Epoch 55/100\n",
      "14/14 [==============================] - 0s 4ms/step - loss: 163.9127 - val_loss: 961.8365\n",
      "Epoch 56/100\n",
      " 1/14 [=>............................] - ETA: 0s - loss: 228.1968INFO:tensorflow:Assets written to: models/model_2_dense/assets\n",
      "14/14 [==============================] - 0s 30ms/step - loss: 179.6303 - val_loss: 649.1188\n",
      "Epoch 57/100\n",
      "14/14 [==============================] - 0s 4ms/step - loss: 158.5018 - val_loss: 673.2383\n",
      "Epoch 58/100\n",
      "14/14 [==============================] - 0s 4ms/step - loss: 156.2246 - val_loss: 668.3497\n",
      "Epoch 59/100\n",
      " 1/14 [=>............................] - ETA: 0s - loss: 123.3977INFO:tensorflow:Assets written to: models/model_2_dense/assets\n",
      "14/14 [==============================] - 0s 31ms/step - loss: 157.1393 - val_loss: 638.1347\n",
      "Epoch 60/100\n",
      " 1/14 [=>............................] - ETA: 0s - loss: 136.9111INFO:tensorflow:Assets written to: models/model_2_dense/assets\n",
      "14/14 [==============================] - 0s 31ms/step - loss: 165.5027 - val_loss: 637.2512\n",
      "Epoch 61/100\n",
      "14/14 [==============================] - 0s 4ms/step - loss: 150.3960 - val_loss: 690.5615\n",
      "Epoch 62/100\n",
      "14/14 [==============================] - 0s 4ms/step - loss: 171.5056 - val_loss: 650.1182\n",
      "Epoch 63/100\n",
      "14/14 [==============================] - 0s 4ms/step - loss: 152.6674 - val_loss: 638.6281\n",
      "Epoch 64/100\n",
      "14/14 [==============================] - 0s 5ms/step - loss: 145.7584 - val_loss: 651.7056\n",
      "Epoch 65/100\n",
      "14/14 [==============================] - 0s 6ms/step - loss: 154.8430 - val_loss: 775.8209\n",
      "Epoch 66/100\n",
      "14/14 [==============================] - 0s 4ms/step - loss: 168.4166 - val_loss: 755.4869\n",
      "Epoch 67/100\n",
      "14/14 [==============================] - 0s 4ms/step - loss: 145.4457 - val_loss: 690.6187\n",
      "Epoch 68/100\n",
      " 1/14 [=>............................] - ETA: 0s - loss: 183.7152INFO:tensorflow:Assets written to: models/model_2_dense/assets\n",
      "14/14 [==============================] - 0s 32ms/step - loss: 163.5427 - val_loss: 626.4257\n",
      "Epoch 69/100\n",
      "14/14 [==============================] - 0s 4ms/step - loss: 169.1394 - val_loss: 820.4296\n",
      "Epoch 70/100\n",
      "14/14 [==============================] - 0s 4ms/step - loss: 162.1384 - val_loss: 670.5695\n",
      "Epoch 71/100\n",
      "14/14 [==============================] - 0s 4ms/step - loss: 161.3476 - val_loss: 901.2640\n",
      "Epoch 72/100\n",
      "14/14 [==============================] - 0s 5ms/step - loss: 198.9752 - val_loss: 659.7490\n",
      "Epoch 73/100\n",
      "14/14 [==============================] - 0s 4ms/step - loss: 146.3262 - val_loss: 629.3881\n",
      "Epoch 74/100\n",
      "14/14 [==============================] - 0s 4ms/step - loss: 150.2140 - val_loss: 854.9033\n",
      "Epoch 75/100\n",
      "14/14 [==============================] - 0s 5ms/step - loss: 172.9810 - val_loss: 762.2584\n",
      "Epoch 76/100\n",
      "14/14 [==============================] - 0s 4ms/step - loss: 167.1364 - val_loss: 799.0782\n",
      "Epoch 77/100\n",
      " 1/14 [=>............................] - ETA: 0s - loss: 218.8817INFO:tensorflow:Assets written to: models/model_2_dense/assets\n",
      "14/14 [==============================] - 0s 31ms/step - loss: 155.2555 - val_loss: 617.2737\n",
      "Epoch 78/100\n",
      "14/14 [==============================] - 0s 4ms/step - loss: 144.1714 - val_loss: 685.4665\n",
      "Epoch 79/100\n",
      "14/14 [==============================] - 0s 4ms/step - loss: 146.7644 - val_loss: 619.8883\n",
      "Epoch 80/100\n",
      "14/14 [==============================] - 0s 4ms/step - loss: 150.7998 - val_loss: 825.6568\n",
      "Epoch 81/100\n",
      "14/14 [==============================] - 0s 4ms/step - loss: 163.7673 - val_loss: 649.8973\n",
      "Epoch 82/100\n",
      " 1/14 [=>............................] - ETA: 0s - loss: 96.0566INFO:tensorflow:Assets written to: models/model_2_dense/assets\n",
      "14/14 [==============================] - 0s 31ms/step - loss: 141.1362 - val_loss: 613.8932\n",
      "Epoch 83/100\n",
      "14/14 [==============================] - 0s 5ms/step - loss: 140.1337 - val_loss: 622.0273\n",
      "Epoch 84/100\n",
      "14/14 [==============================] - 0s 4ms/step - loss: 147.6888 - val_loss: 747.1656\n",
      "Epoch 85/100\n",
      "14/14 [==============================] - 0s 5ms/step - loss: 148.8384 - val_loss: 614.3831\n",
      "Epoch 86/100\n",
      " 1/14 [=>............................] - ETA: 0s - loss: 117.5621INFO:tensorflow:Assets written to: models/model_2_dense/assets\n",
      "14/14 [==============================] - 0s 30ms/step - loss: 148.6182 - val_loss: 611.5451\n",
      "Epoch 87/100\n",
      "14/14 [==============================] - 0s 5ms/step - loss: 149.7944 - val_loss: 627.4001\n",
      "Epoch 88/100\n",
      "14/14 [==============================] - 0s 4ms/step - loss: 143.3698 - val_loss: 700.4334\n",
      "Epoch 89/100\n",
      "14/14 [==============================] - 0s 5ms/step - loss: 145.3006 - val_loss: 1019.1045\n",
      "Epoch 90/100\n",
      "14/14 [==============================] - 0s 4ms/step - loss: 167.4211 - val_loss: 697.9075\n",
      "Epoch 91/100\n",
      " 1/14 [=>............................] - ETA: 0s - loss: 112.8359INFO:tensorflow:Assets written to: models/model_2_dense/assets\n",
      "14/14 [==============================] - 0s 31ms/step - loss: 140.1350 - val_loss: 604.8784\n",
      "Epoch 92/100\n",
      "14/14 [==============================] - 0s 4ms/step - loss: 142.5665 - val_loss: 629.5061\n",
      "Epoch 93/100\n",
      "14/14 [==============================] - 0s 5ms/step - loss: 140.1753 - val_loss: 674.2039\n",
      "Epoch 94/100\n",
      "14/14 [==============================] - 0s 5ms/step - loss: 146.4852 - val_loss: 636.5906\n",
      "Epoch 95/100\n",
      "14/14 [==============================] - 0s 4ms/step - loss: 147.1512 - val_loss: 655.1951\n",
      "Epoch 96/100\n",
      "14/14 [==============================] - 0s 5ms/step - loss: 158.5682 - val_loss: 920.2250\n",
      "Epoch 97/100\n",
      "14/14 [==============================] - 0s 4ms/step - loss: 157.0666 - val_loss: 898.7673\n",
      "Epoch 98/100\n",
      " 1/14 [=>............................] - ETA: 0s - loss: 213.6147INFO:tensorflow:Assets written to: models/model_2_dense/assets\n",
      "14/14 [==============================] - 0s 33ms/step - loss: 175.3378 - val_loss: 604.2958\n",
      "Epoch 99/100\n",
      "14/14 [==============================] - 0s 4ms/step - loss: 150.0565 - val_loss: 626.4249\n",
      "Epoch 100/100\n",
      " 1/14 [=>............................] - ETA: 0s - loss: 132.1947INFO:tensorflow:Assets written to: models/model_2_dense/assets\n",
      "14/14 [==============================] - 0s 32ms/step - loss: 139.4721 - val_loss: 597.4155\n"
     ]
    },
    {
     "data": {
      "text/plain": [
       "<keras.callbacks.History at 0x7f4181da8dd0>"
      ]
     },
     "execution_count": 68,
     "metadata": {},
     "output_type": "execute_result"
    }
   ],
   "source": [
    "tf.random.set_seed(42)\n",
    "model_2 = tf.keras.Sequential([\n",
    "    layers.Dense(128, activation=\"relu\"),\n",
    "    layers.Dense(HORIZON, activation=\"relu\")\n",
    "], name=\"model_2_dense\")\n",
    "\n",
    "model_2.compile(loss='mae',\n",
    "                optimizer=tf.keras.optimizers.Adam())\n",
    "\n",
    "model_2.fit(train_windows,\n",
    "            train_labels,\n",
    "            epochs=100,\n",
    "            batch_size=128,\n",
    "            verbose=1,\n",
    "            validation_data=(test_windows, test_labels),\n",
    "            callbacks=[create_model_checkpoint(model_name=model_2.name)])"
   ]
  },
  {
   "cell_type": "code",
   "execution_count": 69,
   "metadata": {
    "colab": {
     "base_uri": "https://localhost:8080/"
    },
    "id": "KAkBjNtwEcI3",
    "outputId": "a7ba991e-f6ba-4e70-e14e-4656439ce20e"
   },
   "outputs": [
    {
     "name": "stdout",
     "output_type": "stream",
     "text": [
      "14/14 [==============================] - 0s 2ms/step - loss: 597.4155\n"
     ]
    },
    {
     "data": {
      "text/plain": [
       "597.41552734375"
      ]
     },
     "execution_count": 69,
     "metadata": {},
     "output_type": "execute_result"
    }
   ],
   "source": [
    "# Evaluate model 2 on test data\n",
    "model_2.evaluate(test_windows, test_labels)"
   ]
  },
  {
   "cell_type": "code",
   "execution_count": 70,
   "metadata": {
    "colab": {
     "base_uri": "https://localhost:8080/"
    },
    "id": "fEfFv8K3FAxd",
    "outputId": "c781d0b1-963f-4e48-fccd-517d7daa0a25"
   },
   "outputs": [
    {
     "name": "stdout",
     "output_type": "stream",
     "text": [
      "14/14 [==============================] - 0s 2ms/step - loss: 597.4155\n"
     ]
    },
    {
     "data": {
      "text/plain": [
       "597.41552734375"
      ]
     },
     "execution_count": 70,
     "metadata": {},
     "output_type": "execute_result"
    }
   ],
   "source": [
    "model_2 = tf.keras.models.load_model(\"models/model_2_dense\")\n",
    "model_2.evaluate(test_windows, test_labels)"
   ]
  },
  {
   "cell_type": "code",
   "execution_count": 71,
   "metadata": {
    "id": "4tHJJ8dDFP_k"
   },
   "outputs": [],
   "source": [
    "# Get the forecast predictions\n",
    "model_2_prediction = make_prediction(model=model_2, input_data=test_windows)"
   ]
  },
  {
   "cell_type": "code",
   "execution_count": 72,
   "metadata": {
    "colab": {
     "base_uri": "https://localhost:8080/"
    },
    "id": "s1jCiQJRFpwv",
    "outputId": "49a0586f-af9c-4a0b-ad49-969beaa81798"
   },
   "outputs": [
    {
     "data": {
      "text/plain": [
       "{'mae': 597.4155,\n",
       " 'mape': 2.8864303,\n",
       " 'mase': 0.9987878,\n",
       " 'mse': 1448183.2,\n",
       " 'rmse': 1203.4048}"
      ]
     },
     "execution_count": 72,
     "metadata": {},
     "output_type": "execute_result"
    }
   ],
   "source": [
    "# Evaluate the results for model-2 predictions\n",
    "model_2_results = evaluate_preds(y_true=tf.squeeze(test_labels), y_pred=model_2_prediction)\n",
    "model_2_results"
   ]
  },
  {
   "cell_type": "code",
   "execution_count": null,
   "metadata": {
    "colab": {
     "base_uri": "https://localhost:8080/"
    },
    "id": "wT2YG751F8Cl",
    "outputId": "afe70710-7652-4406-9b54-8baf38395a4c"
   },
   "outputs": [
    {
     "data": {
      "text/plain": [
       "{'mae': 563.88196,\n",
       " 'mape': 2.7862256,\n",
       " 'mase': 0.99867654,\n",
       " 'mse': 1339608.1,\n",
       " 'rmse': 1157.4144}"
      ]
     },
     "execution_count": 61,
     "metadata": {},
     "output_type": "execute_result"
    }
   ],
   "source": [
    "model_1_results"
   ]
  },
  {
   "cell_type": "code",
   "execution_count": null,
   "metadata": {
    "id": "93X4PH8gGIOl"
   },
   "outputs": [],
   "source": [
    "# Task is to make a for-loop and create a 30 different models with 1-30 window size and check which one performs best with the horizon of 1."
   ]
  },
  {
   "cell_type": "code",
   "execution_count": null,
   "metadata": {
    "colab": {
     "base_uri": "https://localhost:8080/"
    },
    "id": "TGgJjk-MGUm7",
    "outputId": "35ff0458-43d8-42c4-9c40-b4b8ce11d660"
   },
   "outputs": [
    {
     "data": {
      "image/png": "[encoded data removed]",
      "text/plain": [
       "<Figure size 720x504 with 1 Axes>"
      ]
     },
     "metadata": {
      "needs_background": "light"
     },
     "output_type": "display_data"
    }
   ],
   "source": [
    "offset=400\n",
    "plt.figure(figsize=(10,7))\n",
    "plot_time_series(timesteps=X_test[-len(test_windows):], values=test_labels[:,0], format=\"-\", start=offset, label=\"Test Data\")\n",
    "plot_time_series(timesteps=X_test[-len(test_windows):], values=model_2_prediction, format=\"-\", start=offset, label=\"Model-2 prediction\")"
   ]
  },
  {
   "cell_type": "markdown",
   "metadata": {
    "id": "11yRj9CDHN6f"
   },
   "source": [
    "## Model predictions are lagging the test data trend"
   ]
  },
  {
   "cell_type": "markdown",
   "metadata": {
    "id": "mAf73gMgQH2U"
   },
   "source": [
    "## Model 3: Dense (Window =30, Horizon =7)"
   ]
  },
  {
   "cell_type": "code",
   "execution_count": 73,
   "metadata": {
    "colab": {
     "base_uri": "https://localhost:8080/"
    },
    "id": "raUGpNKiSo1Y",
    "outputId": "8f993a7a-cf0b-4c2d-f880-4a0a3aef48ad"
   },
   "outputs": [
    {
     "data": {
      "text/plain": [
       "(2200, 2200)"
      ]
     },
     "execution_count": 73,
     "metadata": {},
     "output_type": "execute_result"
    }
   ],
   "source": [
    "HORIZON =7\n",
    "WINDOW_SIZE = 30\n",
    "\n",
    "full_windows, full_labels = make_windows(prices, window_size=WINDOW_SIZE, horizon=HORIZON)\n",
    "len(full_windows), len(full_labels)"
   ]
  },
  {
   "cell_type": "code",
   "execution_count": 74,
   "metadata": {
    "colab": {
     "base_uri": "https://localhost:8080/"
    },
    "id": "chskk58lS3ya",
    "outputId": "8d398e82-0c50-4804-9e80-0974587dc03b"
   },
   "outputs": [
    {
     "data": {
      "text/plain": [
       "(1760, 440, 1760, 440)"
      ]
     },
     "execution_count": 74,
     "metadata": {},
     "output_type": "execute_result"
    }
   ],
   "source": [
    "train_windows, test_windows, train_labels, test_labels = make_train_test_splits(windows=full_windows, labels=full_labels)\n",
    "len(train_windows), len(test_windows), len(train_labels), len(test_labels)"
   ]
  },
  {
   "cell_type": "code",
   "execution_count": 75,
   "metadata": {
    "colab": {
     "base_uri": "https://localhost:8080/"
    },
    "id": "Uvz9y4YbTK5Z",
    "outputId": "7b2e73ed-e765-476e-cc9c-32ca2bd3ed1a"
   },
   "outputs": [
    {
     "name": "stdout",
     "output_type": "stream",
     "text": [
      "INFO:tensorflow:Assets written to: models/model_3_dense/assets\n",
      "INFO:tensorflow:Assets written to: models/model_3_dense/assets\n",
      "INFO:tensorflow:Assets written to: models/model_3_dense/assets\n",
      "INFO:tensorflow:Assets written to: models/model_3_dense/assets\n",
      "INFO:tensorflow:Assets written to: models/model_3_dense/assets\n",
      "INFO:tensorflow:Assets written to: models/model_3_dense/assets\n",
      "INFO:tensorflow:Assets written to: models/model_3_dense/assets\n",
      "INFO:tensorflow:Assets written to: models/model_3_dense/assets\n",
      "INFO:tensorflow:Assets written to: models/model_3_dense/assets\n",
      "INFO:tensorflow:Assets written to: models/model_3_dense/assets\n",
      "INFO:tensorflow:Assets written to: models/model_3_dense/assets\n",
      "INFO:tensorflow:Assets written to: models/model_3_dense/assets\n",
      "INFO:tensorflow:Assets written to: models/model_3_dense/assets\n",
      "INFO:tensorflow:Assets written to: models/model_3_dense/assets\n",
      "INFO:tensorflow:Assets written to: models/model_3_dense/assets\n",
      "INFO:tensorflow:Assets written to: models/model_3_dense/assets\n",
      "INFO:tensorflow:Assets written to: models/model_3_dense/assets\n",
      "INFO:tensorflow:Assets written to: models/model_3_dense/assets\n",
      "INFO:tensorflow:Assets written to: models/model_3_dense/assets\n",
      "INFO:tensorflow:Assets written to: models/model_3_dense/assets\n",
      "INFO:tensorflow:Assets written to: models/model_3_dense/assets\n",
      "INFO:tensorflow:Assets written to: models/model_3_dense/assets\n",
      "INFO:tensorflow:Assets written to: models/model_3_dense/assets\n",
      "INFO:tensorflow:Assets written to: models/model_3_dense/assets\n"
     ]
    },
    {
     "data": {
      "text/plain": [
       "<keras.callbacks.History at 0x7f418efec910>"
      ]
     },
     "execution_count": 75,
     "metadata": {},
     "output_type": "execute_result"
    }
   ],
   "source": [
    "tf.random.set_seed(42)\n",
    "\n",
    "# Create model (same as model_1 except the different data input and output size)\n",
    "model_3 = tf.keras.Sequential([\n",
    "  layers.Dense(128, activation=\"relu\"),\n",
    "  layers.Dense(HORIZON)\n",
    "], name = \"model_3_dense\")\n",
    "\n",
    "# Compile\n",
    "model_3.compile(loss=\"MAE\", optimizer=tf.keras.optimizers.Adam())\n",
    "\n",
    "# Fit\n",
    "model_3.fit(train_windows,\n",
    "            train_labels,\n",
    "            batch_size = 128,\n",
    "            epochs=100,\n",
    "            verbose=0,\n",
    "            validation_data=(test_windows, test_labels),\n",
    "            callbacks=[create_model_checkpoint(model_name=model_3.name)])"
   ]
  },
  {
   "cell_type": "code",
   "execution_count": 76,
   "metadata": {
    "colab": {
     "base_uri": "https://localhost:8080/"
    },
    "id": "_IvGHEpiUUtZ",
    "outputId": "fba3f81b-eb35-4d77-ed93-2bce20368924"
   },
   "outputs": [
    {
     "name": "stdout",
     "output_type": "stream",
     "text": [
      "14/14 [==============================] - 0s 2ms/step - loss: 1179.1359\n"
     ]
    },
    {
     "data": {
      "text/plain": [
       "1179.1358642578125"
      ]
     },
     "execution_count": 76,
     "metadata": {},
     "output_type": "execute_result"
    }
   ],
   "source": [
    "# Evaluate the model on the test data\n",
    "model_3.evaluate(x = test_windows, y=test_labels)"
   ]
  },
  {
   "cell_type": "code",
   "execution_count": 77,
   "metadata": {
    "colab": {
     "base_uri": "https://localhost:8080/",
     "height": 54
    },
    "id": "mSc-Jo_2VSfI",
    "outputId": "289137b1-5163-4f11-91ed-70af03697884"
   },
   "outputs": [
    {
     "name": "stdout",
     "output_type": "stream",
     "text": [
      "14/14 [==============================] - 0s 2ms/step - loss: 1166.3425\n"
     ]
    },
    {
     "data": {
      "application/vnd.google.colaboratory.intrinsic+json": {
       "type": "string"
      },
      "text/plain": [
       "'\\n  Here the errors are high compared to the other models\\n  But, since we are predicting the price for 7 days, the\\n  errors for all the days are added up to give higher value\\n\\n'"
      ]
     },
     "execution_count": 77,
     "metadata": {},
     "output_type": "execute_result"
    }
   ],
   "source": [
    "# Load the best version of model_3 and evaluate\n",
    "model_3 = tf.keras.models.load_model(\"models/model_3_dense\")\n",
    "model_3.evaluate(x = test_windows, y=test_labels)\n",
    "\"\"\"\n",
    "  Here the errors are high compared to the other models\n",
    "  But, since we are predicting the price for 7 days, the\n",
    "  errors for all the days are added up to give higher value\n",
    "\n",
    "\"\"\""
   ]
  },
  {
   "cell_type": "code",
   "execution_count": 78,
   "metadata": {
    "colab": {
     "base_uri": "https://localhost:8080/"
    },
    "id": "MY_laPhNVgYL",
    "outputId": "586dc948-728e-4965-e86c-e621ba1872c9"
   },
   "outputs": [
    {
     "data": {
      "text/plain": [
       "<tf.Tensor: shape=(2, 7), dtype=float32, numpy=\n",
       "array([[7365.3643, 7369.7153, 7447.778 , 7252.211 , 7160.964 , 7343.4834,\n",
       "        7212.922 ],\n",
       "       [7439.1523, 7359.6763, 7445.0996, 7353.797 , 7180.5146, 7377.649 ,\n",
       "        7281.506 ]], dtype=float32)>"
      ]
     },
     "execution_count": 78,
     "metadata": {},
     "output_type": "execute_result"
    }
   ],
   "source": [
    "# Make predictions with model_3\n",
    "model_3_prediction = make_prediction(model_3, input_data=test_windows)\n",
    "model_3_prediction[:2]"
   ]
  },
  {
   "cell_type": "code",
   "execution_count": 79,
   "metadata": {
    "colab": {
     "base_uri": "https://localhost:8080/"
    },
    "id": "4s-ZWyELW-rO",
    "outputId": "1516dcfb-8900-4cbb-972a-4a2b4bedb9f3"
   },
   "outputs": [
    {
     "data": {
      "text/plain": [
       "(TensorShape([440, 7]), TensorShape([442]))"
      ]
     },
     "execution_count": 79,
     "metadata": {},
     "output_type": "execute_result"
    }
   ],
   "source": [
    "model_3_prediction.shape, model_2_prediction.shape"
   ]
  },
  {
   "cell_type": "code",
   "execution_count": 80,
   "metadata": {
    "id": "xh8bphmDZgDa"
   },
   "outputs": [],
   "source": [
    "# Make our evaluation function work for larger horizons\n",
    "# returns error metrics in dictionary form:\n",
    "def evaluate_preds(y_true, y_pred):\n",
    "  y_true = tf.cast(y_true, dtype=tf.float32)\n",
    "  y_pred = tf.cast(y_pred, dtype=tf.float32)\n",
    "\n",
    "  # better to use the numpy version of these too\n",
    "  mae = tf.keras.metrics.mean_absolute_error(y_true, y_pred)\n",
    "  mse = tf.keras.metrics.mean_squared_error(y_true, y_pred) # puts and emphasis on outliers (all errors get squared)\n",
    "  rmse = tf.sqrt(mse)\n",
    "  mape = tf.keras.metrics.mean_absolute_percentage_error(y_true, y_pred)\n",
    "  mase = mase_(y_true, y_pred)\n",
    "  \n",
    "  # Account for different size metrics for longer horizons, we want to\n",
    "  # reduce metrics to a single value\n",
    "  if mae.ndim >0:\n",
    "    # Aggregating the model_3 mae results to a single value just like tensorflow does\n",
    "    mae = tf.reduce_mean(mae)\n",
    "    mse = tf.reduce_mean(mse)\n",
    "    rmse = tf.reduce_mean(rmse)\n",
    "    mape = tf.reduce_mean(mape)\n",
    "    mase = tf.reduce_mean(mase)\n",
    "\n",
    "  return_dict =  {\n",
    "                  \"mae\": mae.numpy(),\n",
    "                  \"mse\": mse.numpy(),\n",
    "                  \"rmse\": rmse.numpy(),\n",
    "                  \"mape\": mape.numpy(),\n",
    "                  \"mase\": mase.numpy()\n",
    "                  }\n",
    "  return return_dict"
   ]
  },
  {
   "cell_type": "code",
   "execution_count": 81,
   "metadata": {
    "colab": {
     "base_uri": "https://localhost:8080/"
    },
    "id": "D550wK0MVvsN",
    "outputId": "df307e70-66b2-497a-c746-c599f318d1cd"
   },
   "outputs": [
    {
     "data": {
      "text/plain": [
       "{'mae': 1166.3427,\n",
       " 'mape': 5.943362,\n",
       " 'mase': 0.99872345,\n",
       " 'mse': 4639058.5,\n",
       " 'rmse': 1351.1919}"
      ]
     },
     "execution_count": 81,
     "metadata": {},
     "output_type": "execute_result"
    }
   ],
   "source": [
    "# Evaluate model_3 results\n",
    "model_3_results = evaluate_preds(y_true=tf.squeeze(test_labels), y_pred=model_3_prediction)\n",
    "model_3_results"
   ]
  },
  {
   "cell_type": "code",
   "execution_count": 82,
   "metadata": {
    "colab": {
     "base_uri": "https://localhost:8080/"
    },
    "id": "8xUojK3XbkmO",
    "outputId": "df23614e-3138-4c9a-b0c5-e1139fb7e966"
   },
   "outputs": [
    {
     "data": {
      "text/plain": [
       "<tf.Tensor: shape=(440, 7), dtype=float32, numpy=\n",
       "array([[ 7365.3643,  7369.7153,  7447.778 , ...,  7160.964 ,  7343.4834,\n",
       "         7212.922 ],\n",
       "       [ 7439.1523,  7359.6763,  7445.0996, ...,  7180.5146,  7377.649 ,\n",
       "         7281.506 ],\n",
       "       [ 7539.6426,  7516.575 ,  7526.529 , ...,  7351.826 ,  7478.5723,\n",
       "         7311.8237],\n",
       "       ...,\n",
       "       [58004.27  , 59421.184 , 60418.01  , ..., 57905.1   , 59278.92  ,\n",
       "        60419.336 ],\n",
       "       [58482.434 , 57751.77  , 59060.043 , ..., 57082.094 , 56592.934 ,\n",
       "        57142.938 ],\n",
       "       [56646.44  , 56851.457 , 57310.023 , ..., 53946.746 , 56224.4   ,\n",
       "        55596.734 ]], dtype=float32)>"
      ]
     },
     "execution_count": 82,
     "metadata": {},
     "output_type": "execute_result"
    }
   ],
   "source": [
    "model_3_prediction"
   ]
  },
  {
   "cell_type": "code",
   "execution_count": 83,
   "metadata": {
    "colab": {
     "base_uri": "https://localhost:8080/",
     "height": 497
    },
    "id": "AD_SR2O0W72H",
    "outputId": "c94744ae-3af5-44f0-8741-7ffd93b58d03"
   },
   "outputs": [
    {
     "data": {
      "image/png": "[encoded data removed]",
      "text/plain": [
       "<Figure size 720x576 with 1 Axes>"
      ]
     },
     "metadata": {
      "needs_background": "light"
     },
     "output_type": "display_data"
    }
   ],
   "source": [
    "plt.figure(figsize=(10, 8))\n",
    "offset = 400\n",
    "plot_time_series(timesteps=X_test[-len(test_windows):], values = test_labels[:, 0], start=offset, format = \"-\", label=\"Test data\")\n",
    "plot_time_series(timesteps=X_test[-len(test_windows):], values= tf.reduce_mean(model_3_prediction, axis = 1), start=offset, label=\"Model-3 prediction\")"
   ]
  },
  {
   "cell_type": "markdown",
   "metadata": {
    "id": "VNcyUtQ9aqdi"
   },
   "source": [
    "### Usually, to visualize we need to reduce the dimension. But, I think I can make more accurate prediction by getting the prediction value of that day from each arrays"
   ]
  },
  {
   "cell_type": "markdown",
   "metadata": {
    "id": "OZulHcBVcvzy"
   },
   "source": [
    "## Comparing models"
   ]
  },
  {
   "cell_type": "code",
   "execution_count": 84,
   "metadata": {
    "colab": {
     "base_uri": "https://localhost:8080/",
     "height": 513
    },
    "id": "Nq5lgpDKc6OP",
    "outputId": "3e6b1562-8680-445f-903a-f082d5d27caf"
   },
   "outputs": [
    {
     "data": {
      "text/plain": [
       "<matplotlib.axes._subplots.AxesSubplot at 0x7f418c5ed090>"
      ]
     },
     "execution_count": 84,
     "metadata": {},
     "output_type": "execute_result"
    },
    {
     "data": {
      "image/png": "[encoded data removed]",
      "text/plain": [
       "<Figure size 864x576 with 1 Axes>"
      ]
     },
     "metadata": {
      "needs_background": "light"
     },
     "output_type": "display_data"
    }
   ],
   "source": [
    "pd.DataFrame({\"model_naive\": naive_results[\"mae\"],\n",
    "              \"model_1\": model_1_results[\"mae\"],\n",
    "              \"model_2\": model_2_results[\"mae\"],\n",
    "              \"model_3\": model_3_results[\"mae\"]\n",
    "              }, index = [\"mae\"]).plot(figsize=(12,8), kind=\"bar\")"
   ]
  },
  {
   "cell_type": "markdown",
   "metadata": {
    "id": "9wh-MSO-eTwH"
   },
   "source": [
    "# Naive model gives the good results because the bitcoin dataset is also a auto-correlated data; Timeseries follow significant autocorrelation."
   ]
  },
  {
   "cell_type": "markdown",
   "metadata": {
    "id": "wj8gwOT5fhQ2"
   },
   "source": [
    "### The models are not CNN, maybe they are Recurrent Neural Networks (RNN)"
   ]
  },
  {
   "cell_type": "markdown",
   "metadata": {
    "id": "CjMo5r6eoMls"
   },
   "source": [
    "## Model-4: Conv1D"
   ]
  },
  {
   "cell_type": "code",
   "execution_count": 85,
   "metadata": {
    "id": "WYFb2At_oVpd"
   },
   "outputs": [],
   "source": [
    "HORIZON = 1\n",
    "WINDOW_SIZE = 7\n"
   ]
  },
  {
   "cell_type": "code",
   "execution_count": 86,
   "metadata": {
    "colab": {
     "base_uri": "https://localhost:8080/"
    },
    "id": "B81d8uqZw17x",
    "outputId": "f3540348-2b38-4665-e487-fb6f3d787147"
   },
   "outputs": [
    {
     "data": {
      "text/plain": [
       "array([  754.9 ,   784.19,   809.4 , ..., 55871.93, 57788.15, 59069.29])"
      ]
     },
     "execution_count": 86,
     "metadata": {},
     "output_type": "execute_result"
    }
   ],
   "source": [
    "prices"
   ]
  },
  {
   "cell_type": "code",
   "execution_count": 87,
   "metadata": {
    "colab": {
     "base_uri": "https://localhost:8080/"
    },
    "id": "OZzKJrHnoj16",
    "outputId": "8ad2f8a5-7d3a-4661-a96e-a02eb329e9c0"
   },
   "outputs": [
    {
     "data": {
      "text/plain": [
       "(2229, 2229)"
      ]
     },
     "execution_count": 87,
     "metadata": {},
     "output_type": "execute_result"
    }
   ],
   "source": [
    "# Create windowed data\n",
    "full_windows, full_labels = make_windows(prices, window_size=WINDOW_SIZE, horizon=HORIZON)\n",
    "len(full_windows), len(full_labels)"
   ]
  },
  {
   "cell_type": "code",
   "execution_count": 88,
   "metadata": {
    "id": "VEPQrFWjoz4W"
   },
   "outputs": [],
   "source": [
    "train_windows, test_windows, train_labels, test_labels = make_train_test_splits(full_windows, full_labels)"
   ]
  },
  {
   "cell_type": "markdown",
   "metadata": {
    "id": "cBXTGU8Yo72N"
   },
   "source": [
    "Tensorflow conv1D model uses temporal convolution.\n",
    "We need an input shape of: `(batch_size, timesteps, input_dim)`"
   ]
  },
  {
   "cell_type": "code",
   "execution_count": 89,
   "metadata": {
    "colab": {
     "base_uri": "https://localhost:8080/"
    },
    "id": "_rNhEeBFpdpw",
    "outputId": "eb9dca53-60c4-4a3f-ffa6-a42c19233e5b"
   },
   "outputs": [
    {
     "data": {
      "text/plain": [
       "(7,)"
      ]
     },
     "execution_count": 89,
     "metadata": {},
     "output_type": "execute_result"
    }
   ],
   "source": [
    "# Current input shape of our data\n",
    "# which means one sample of training window\n",
    "# input_dim should be one because we want our model to use 1 week of data to predict 1 horizon at a time\n",
    "train_windows[0].shape"
   ]
  },
  {
   "cell_type": "code",
   "execution_count": 90,
   "metadata": {
    "colab": {
     "base_uri": "https://localhost:8080/"
    },
    "id": "Mv_6peyepjsK",
    "outputId": "6cc5a234-85bc-4b8a-9e15-2bde958fd631"
   },
   "outputs": [
    {
     "data": {
      "text/plain": [
       "<tf.Tensor: shape=(7,), dtype=float64, numpy=array([754.9 , 784.19, 809.4 , 828.79, 905.  , 919.24, 785.  ])>"
      ]
     },
     "execution_count": 90,
     "metadata": {},
     "output_type": "execute_result"
    }
   ],
   "source": [
    "# Before we pass our data to the conv1D layer, reshaping it:\n",
    "x = tf.constant(train_windows[0])\n",
    "x"
   ]
  },
  {
   "cell_type": "code",
   "execution_count": 91,
   "metadata": {
    "id": "wQrxl7ihpmVu"
   },
   "outputs": [],
   "source": [
    "expand_dims_layer = layers.Lambda(lambda x: tf.expand_dims(x, axis=1)) # add an extra dimension for input dim\n",
    "# Instead of doing tf.expand_dims() directly, we are using lambda layers and the benefit of doing this\n",
    "# is that we can add this to a model"
   ]
  },
  {
   "cell_type": "code",
   "execution_count": 92,
   "metadata": {
    "colab": {
     "base_uri": "https://localhost:8080/"
    },
    "id": "mLh5UpXjqsG1",
    "outputId": "c4ebabb2-7a11-4800-eac1-22943d158d98"
   },
   "outputs": [
    {
     "name": "stdout",
     "output_type": "stream",
     "text": [
      "Original shape: (7,)\n",
      "Expanded shape: (7, 1)\n",
      "Original values with expanded shape:\n",
      " [[754.9 ]\n",
      " [784.19]\n",
      " [809.4 ]\n",
      " [828.79]\n",
      " [905.  ]\n",
      " [919.24]\n",
      " [785.  ]]\n"
     ]
    }
   ],
   "source": [
    "# Test out our lambda layer\n",
    "print(f\"Original shape: {x.shape}\") # WINDOW_SIZE\n",
    "print(f\"Expanded shape: {expand_dims_layer(x).shape}\")\n",
    "print(f\"Original values with expanded shape:\\n {expand_dims_layer(x)}\")"
   ]
  },
  {
   "cell_type": "code",
   "execution_count": 93,
   "metadata": {
    "colab": {
     "base_uri": "https://localhost:8080/"
    },
    "id": "FUityxbArU0v",
    "outputId": "127caa3f-059b-4243-8f50-78b7afc67dce"
   },
   "outputs": [
    {
     "name": "stdout",
     "output_type": "stream",
     "text": [
      "INFO:tensorflow:Assets written to: models/model_4_conv1D/assets\n",
      "INFO:tensorflow:Assets written to: models/model_4_conv1D/assets\n",
      "INFO:tensorflow:Assets written to: models/model_4_conv1D/assets\n",
      "INFO:tensorflow:Assets written to: models/model_4_conv1D/assets\n",
      "INFO:tensorflow:Assets written to: models/model_4_conv1D/assets\n",
      "INFO:tensorflow:Assets written to: models/model_4_conv1D/assets\n",
      "INFO:tensorflow:Assets written to: models/model_4_conv1D/assets\n",
      "INFO:tensorflow:Assets written to: models/model_4_conv1D/assets\n",
      "INFO:tensorflow:Assets written to: models/model_4_conv1D/assets\n",
      "INFO:tensorflow:Assets written to: models/model_4_conv1D/assets\n",
      "INFO:tensorflow:Assets written to: models/model_4_conv1D/assets\n",
      "INFO:tensorflow:Assets written to: models/model_4_conv1D/assets\n",
      "INFO:tensorflow:Assets written to: models/model_4_conv1D/assets\n",
      "INFO:tensorflow:Assets written to: models/model_4_conv1D/assets\n",
      "INFO:tensorflow:Assets written to: models/model_4_conv1D/assets\n",
      "INFO:tensorflow:Assets written to: models/model_4_conv1D/assets\n",
      "INFO:tensorflow:Assets written to: models/model_4_conv1D/assets\n",
      "INFO:tensorflow:Assets written to: models/model_4_conv1D/assets\n",
      "INFO:tensorflow:Assets written to: models/model_4_conv1D/assets\n",
      "INFO:tensorflow:Assets written to: models/model_4_conv1D/assets\n",
      "INFO:tensorflow:Assets written to: models/model_4_conv1D/assets\n",
      "INFO:tensorflow:Assets written to: models/model_4_conv1D/assets\n",
      "INFO:tensorflow:Assets written to: models/model_4_conv1D/assets\n",
      "INFO:tensorflow:Assets written to: models/model_4_conv1D/assets\n",
      "INFO:tensorflow:Assets written to: models/model_4_conv1D/assets\n",
      "INFO:tensorflow:Assets written to: models/model_4_conv1D/assets\n",
      "INFO:tensorflow:Assets written to: models/model_4_conv1D/assets\n",
      "INFO:tensorflow:Assets written to: models/model_4_conv1D/assets\n",
      "INFO:tensorflow:Assets written to: models/model_4_conv1D/assets\n",
      "INFO:tensorflow:Assets written to: models/model_4_conv1D/assets\n",
      "INFO:tensorflow:Assets written to: models/model_4_conv1D/assets\n"
     ]
    },
    {
     "data": {
      "text/plain": [
       "<keras.callbacks.History at 0x7f4181eeb050>"
      ]
     },
     "execution_count": 93,
     "metadata": {},
     "output_type": "execute_result"
    }
   ],
   "source": [
    "# Adjustments: 1000 epochs, 256 filters (multiples of 8)\n",
    "# Create model_4\n",
    "\n",
    "\n",
    "tf.random.set_seed(42)\n",
    "\n",
    "# Create Conv1D model\n",
    "model_4 = tf.keras.Sequential([\n",
    "  # expand_dims_layer\n",
    "  layers.Lambda(lambda k: tf.expand_dims(k, axis=1)), # firstly adjust the size of our input data\n",
    "  layers.Conv1D(filters=256, kernel_size=5, strides=1, padding=\"causal\", activation=\"relu\"),\n",
    "  layers.Dense(HORIZON)\n",
    "], name=\"model_4_conv1D\")\n",
    "\n",
    "# Compile model\n",
    "model_4.compile(loss=\"mae\",\n",
    "                optimizer=tf.keras.optimizers.Adam())\n",
    "\n",
    "# Fit model\n",
    "model_4.fit(train_windows, #if faced data cardinality error, do tf.stack(train_windows) or np.array(train_windows)\n",
    "            train_labels, \n",
    "            batch_size=128, \n",
    "            epochs=100, \n",
    "            verbose=0,\n",
    "            validation_data=(test_windows, test_labels),\n",
    "            callbacks=[create_model_checkpoint(model_name=model_4.name)]\n",
    "            )"
   ]
  },
  {
   "cell_type": "code",
   "execution_count": null,
   "metadata": {
    "id": "H0pl-NzjxJ9l"
   },
   "outputs": [],
   "source": [
    "# train_windows, tf.stack(train_windows)"
   ]
  },
  {
   "cell_type": "code",
   "execution_count": null,
   "metadata": {
    "colab": {
     "base_uri": "https://localhost:8080/"
    },
    "id": "PAQvFjVmv9Nj",
    "outputId": "b0edf013-ee2c-4b67-b4f1-0eccc2845d49"
   },
   "outputs": [
    {
     "name": "stdout",
     "output_type": "stream",
     "text": [
      "Model: \"model_4_conv1D\"\n",
      "_________________________________________________________________\n",
      " Layer (type)                Output Shape              Param #   \n",
      "=================================================================\n",
      " lambda_1 (Lambda)           (None, 1, 7)              0         \n",
      "                                                                 \n",
      " conv1d (Conv1D)             (None, 1, 256)            9216      \n",
      "                                                                 \n",
      " dense_6 (Dense)             (None, 1, 1)              257       \n",
      "                                                                 \n",
      "=================================================================\n",
      "Total params: 9,473\n",
      "Trainable params: 9,473\n",
      "Non-trainable params: 0\n",
      "_________________________________________________________________\n"
     ]
    }
   ],
   "source": [
    "model_4.summary()"
   ]
  },
  {
   "cell_type": "code",
   "execution_count": 94,
   "metadata": {
    "colab": {
     "base_uri": "https://localhost:8080/"
    },
    "id": "QUTNbUHQyYtE",
    "outputId": "6af04a66-c2e0-44c4-e146-4f90224cc1d6"
   },
   "outputs": [
    {
     "name": "stdout",
     "output_type": "stream",
     "text": [
      "Model: \"model_2_dense\"\n",
      "_________________________________________________________________\n",
      " Layer (type)                Output Shape              Param #   \n",
      "=================================================================\n",
      " dense_2 (Dense)             (None, 128)               3968      \n",
      "                                                                 \n",
      " dense_3 (Dense)             (None, 1)                 129       \n",
      "                                                                 \n",
      "=================================================================\n",
      "Total params: 4,097\n",
      "Trainable params: 4,097\n",
      "Non-trainable params: 0\n",
      "_________________________________________________________________\n"
     ]
    }
   ],
   "source": [
    "model_2.summary()"
   ]
  },
  {
   "cell_type": "code",
   "execution_count": 95,
   "metadata": {
    "colab": {
     "base_uri": "https://localhost:8080/"
    },
    "id": "EiYM32ntydUA",
    "outputId": "f05fbcee-2114-4b98-a161-d44696d3a448"
   },
   "outputs": [
    {
     "name": "stdout",
     "output_type": "stream",
     "text": [
      "14/14 [==============================] - 0s 3ms/step - loss: 563.0298\n"
     ]
    },
    {
     "data": {
      "text/plain": [
       "563.02978515625"
      ]
     },
     "execution_count": 95,
     "metadata": {},
     "output_type": "execute_result"
    }
   ],
   "source": [
    "model_4.evaluate(test_windows, test_labels)"
   ]
  },
  {
   "cell_type": "code",
   "execution_count": 96,
   "metadata": {
    "colab": {
     "base_uri": "https://localhost:8080/"
    },
    "id": "0aBSlzP-yhgp",
    "outputId": "27c5e2e0-9684-48e8-c755-ad0c3933ed67"
   },
   "outputs": [
    {
     "name": "stdout",
     "output_type": "stream",
     "text": [
      "14/14 [==============================] - 0s 2ms/step - loss: 563.0298\n"
     ]
    },
    {
     "data": {
      "text/plain": [
       "563.02978515625"
      ]
     },
     "execution_count": 96,
     "metadata": {},
     "output_type": "execute_result"
    }
   ],
   "source": [
    "model_4 = tf.keras.models.load_model(\"models/model_4_conv1D\")\n",
    "model_4.evaluate(test_windows, test_labels)"
   ]
  },
  {
   "cell_type": "code",
   "execution_count": 97,
   "metadata": {
    "colab": {
     "base_uri": "https://localhost:8080/"
    },
    "id": "vXhBw5eZyw0T",
    "outputId": "3182ae19-818c-4f98-edc5-87e64c48fba4"
   },
   "outputs": [
    {
     "data": {
      "text/plain": [
       "<tf.Tensor: shape=(5,), dtype=float32, numpy=\n",
       "array([7327.7354, 7379.137 , 7467.457 , 7580.364 , 7953.032 ],\n",
       "      dtype=float32)>"
      ]
     },
     "execution_count": 97,
     "metadata": {},
     "output_type": "execute_result"
    }
   ],
   "source": [
    "# Model predictions\n",
    "model_4_preds = make_prediction(model_4, test_windows)\n",
    "model_4_preds[:5]"
   ]
  },
  {
   "cell_type": "code",
   "execution_count": 98,
   "metadata": {
    "colab": {
     "base_uri": "https://localhost:8080/"
    },
    "id": "wO85vBCFy66C",
    "outputId": "f0635e78-06e0-4812-c100-43ff6e1e171b"
   },
   "outputs": [
    {
     "data": {
      "text/plain": [
       "{'mae': 563.0298,\n",
       " 'mape': 2.7528427,\n",
       " 'mase': 0.99867654,\n",
       " 'mse': 1327197.0,\n",
       " 'rmse': 1152.0403}"
      ]
     },
     "execution_count": 98,
     "metadata": {},
     "output_type": "execute_result"
    }
   ],
   "source": [
    "# Evaluate predictions\n",
    "model_4_results = evaluate_preds(y_true=tf.squeeze(test_labels), y_pred=model_4_preds)\n",
    "model_4_results"
   ]
  },
  {
   "cell_type": "code",
   "execution_count": null,
   "metadata": {
    "colab": {
     "base_uri": "https://localhost:8080/"
    },
    "id": "kpsrD5vwzMeQ",
    "outputId": "2151b3cd-e9f1-45bc-b874-d7f79ab8a29b"
   },
   "outputs": [
    {
     "data": {
      "text/plain": [
       "{'mae': 571.1008,\n",
       " 'mape': 2.7039125,\n",
       " 'mase': 0.99867797,\n",
       " 'mse': 1341613.6,\n",
       " 'rmse': 1158.2805}"
      ]
     },
     "execution_count": 92,
     "metadata": {},
     "output_type": "execute_result"
    }
   ],
   "source": [
    "naive_results"
   ]
  },
  {
   "cell_type": "code",
   "execution_count": 118,
   "metadata": {
    "colab": {
     "base_uri": "https://localhost:8080/",
     "height": 442
    },
    "id": "0XkY5mKYpO0k",
    "outputId": "29dbf56d-8f82-4677-98b7-2e3a2565ff83"
   },
   "outputs": [
    {
     "data": {
      "image/png": "[encoded data removed]",
      "text/plain": [
       "<Figure size 720x504 with 1 Axes>"
      ]
     },
     "metadata": {
      "needs_background": "light"
     },
     "output_type": "display_data"
    }
   ],
   "source": [
    "offset=400\n",
    "plt.figure(figsize=(10,7))\n",
    "plot_time_series(timesteps=X_test[-len(test_windows):], values=test_labels[:,0], format=\"-\", start=offset, label=\"Test Data\")\n",
    "plot_time_series(timesteps=X_test[-len(test_windows):], values=model_4_preds, format=\"-\", start=offset, label=\"Model-4 prediction\")"
   ]
  },
  {
   "cell_type": "markdown",
   "metadata": {
    "id": "K6kZdGmkzjL4"
   },
   "source": [
    "# Model 5: RNN (LSTM)"
   ]
  },
  {
   "cell_type": "code",
   "execution_count": 99,
   "metadata": {
    "colab": {
     "base_uri": "https://localhost:8080/"
    },
    "id": "TtY7ZSZHz59n",
    "outputId": "a3938a22-2406-4313-cfde-f357fc3945a8"
   },
   "outputs": [
    {
     "name": "stdout",
     "output_type": "stream",
     "text": [
      "WARNING:tensorflow:Layer lstm will not use cuDNN kernels since it doesn't meet the criteria. It will use a generic GPU kernel as fallback when running on GPU.\n",
      "Epoch 1/100\n",
      "10/14 [====================>.........] - ETA: 0s - loss: 3357.8757 INFO:tensorflow:Assets written to: models/model_5_lstm/assets\n"
     ]
    },
    {
     "name": "stderr",
     "output_type": "stream",
     "text": [
      "WARNING:absl:<keras.layers.recurrent.LSTMCell object at 0x7f4181b99ed0> has the same name 'LSTMCell' as a built-in Keras object. Consider renaming <class 'keras.layers.recurrent.LSTMCell'> to avoid naming conflicts when loading with `tf.keras.models.load_model`. If renaming is not possible, pass the object in the `custom_objects` parameter of the load function.\n"
     ]
    },
    {
     "name": "stdout",
     "output_type": "stream",
     "text": [
      "14/14 [==============================] - 3s 165ms/step - loss: 3095.0969 - val_loss: 10997.6348\n",
      "Epoch 2/100\n",
      "11/14 [======================>.......] - ETA: 0s - loss: 1784.3214INFO:tensorflow:Assets written to: models/model_5_lstm/assets\n"
     ]
    },
    {
     "name": "stderr",
     "output_type": "stream",
     "text": [
      "INFO:tensorflow:Assets written to: models/model_5_lstm/assets\n",
      "WARNING:absl:<keras.layers.recurrent.LSTMCell object at 0x7f4181b99ed0> has the same name 'LSTMCell' as a built-in Keras object. Consider renaming <class 'keras.layers.recurrent.LSTMCell'> to avoid naming conflicts when loading with `tf.keras.models.load_model`. If renaming is not possible, pass the object in the `custom_objects` parameter of the load function.\n"
     ]
    },
    {
     "name": "stdout",
     "output_type": "stream",
     "text": [
      "14/14 [==============================] - 2s 128ms/step - loss: 1626.9008 - val_loss: 3911.0088\n",
      "Epoch 3/100\n",
      "12/14 [========================>.....] - ETA: 0s - loss: 400.6266INFO:tensorflow:Assets written to: models/model_5_lstm/assets\n"
     ]
    },
    {
     "name": "stderr",
     "output_type": "stream",
     "text": [
      "INFO:tensorflow:Assets written to: models/model_5_lstm/assets\n",
      "WARNING:absl:<keras.layers.recurrent.LSTMCell object at 0x7f4181b99ed0> has the same name 'LSTMCell' as a built-in Keras object. Consider renaming <class 'keras.layers.recurrent.LSTMCell'> to avoid naming conflicts when loading with `tf.keras.models.load_model`. If renaming is not possible, pass the object in the `custom_objects` parameter of the load function.\n"
     ]
    },
    {
     "name": "stdout",
     "output_type": "stream",
     "text": [
      "14/14 [==============================] - 2s 123ms/step - loss: 403.4806 - val_loss: 1469.0134\n",
      "Epoch 4/100\n",
      "12/14 [========================>.....] - ETA: 0s - loss: 301.9387INFO:tensorflow:Assets written to: models/model_5_lstm/assets\n"
     ]
    },
    {
     "name": "stderr",
     "output_type": "stream",
     "text": [
      "INFO:tensorflow:Assets written to: models/model_5_lstm/assets\n",
      "WARNING:absl:<keras.layers.recurrent.LSTMCell object at 0x7f4181b99ed0> has the same name 'LSTMCell' as a built-in Keras object. Consider renaming <class 'keras.layers.recurrent.LSTMCell'> to avoid naming conflicts when loading with `tf.keras.models.load_model`. If renaming is not possible, pass the object in the `custom_objects` parameter of the load function.\n"
     ]
    },
    {
     "name": "stdout",
     "output_type": "stream",
     "text": [
      "14/14 [==============================] - 2s 121ms/step - loss: 290.4884 - val_loss: 1212.0911\n",
      "Epoch 5/100\n",
      "12/14 [========================>.....] - ETA: 0s - loss: 228.2712INFO:tensorflow:Assets written to: models/model_5_lstm/assets\n"
     ]
    },
    {
     "name": "stderr",
     "output_type": "stream",
     "text": [
      "INFO:tensorflow:Assets written to: models/model_5_lstm/assets\n",
      "WARNING:absl:<keras.layers.recurrent.LSTMCell object at 0x7f4181b99ed0> has the same name 'LSTMCell' as a built-in Keras object. Consider renaming <class 'keras.layers.recurrent.LSTMCell'> to avoid naming conflicts when loading with `tf.keras.models.load_model`. If renaming is not possible, pass the object in the `custom_objects` parameter of the load function.\n"
     ]
    },
    {
     "name": "stdout",
     "output_type": "stream",
     "text": [
      "14/14 [==============================] - 2s 149ms/step - loss: 229.8724 - val_loss: 869.4640\n",
      "Epoch 6/100\n",
      "14/14 [==============================] - 0s 8ms/step - loss: 213.5283 - val_loss: 1007.1722\n",
      "Epoch 7/100\n",
      "14/14 [==============================] - 0s 7ms/step - loss: 214.5539 - val_loss: 916.8719\n",
      "Epoch 8/100\n",
      "14/14 [==============================] - 0s 9ms/step - loss: 210.3837 - val_loss: 929.8438\n",
      "Epoch 9/100\n",
      "14/14 [==============================] - 0s 16ms/step - loss: 209.0407 - val_loss: 894.3557\n",
      "Epoch 10/100\n",
      "14/14 [==============================] - 0s 13ms/step - loss: 208.1452 - val_loss: 947.1334\n",
      "Epoch 11/100\n",
      "14/14 [==============================] - 0s 15ms/step - loss: 207.1694 - val_loss: 873.8168\n",
      "Epoch 12/100\n",
      "14/14 [==============================] - 0s 11ms/step - loss: 205.8418 - val_loss: 876.9938\n",
      "Epoch 13/100\n",
      "12/14 [========================>.....] - ETA: 0s - loss: 209.9911INFO:tensorflow:Assets written to: models/model_5_lstm/assets\n"
     ]
    },
    {
     "name": "stderr",
     "output_type": "stream",
     "text": [
      "INFO:tensorflow:Assets written to: models/model_5_lstm/assets\n",
      "WARNING:absl:<keras.layers.recurrent.LSTMCell object at 0x7f4181b99ed0> has the same name 'LSTMCell' as a built-in Keras object. Consider renaming <class 'keras.layers.recurrent.LSTMCell'> to avoid naming conflicts when loading with `tf.keras.models.load_model`. If renaming is not possible, pass the object in the `custom_objects` parameter of the load function.\n"
     ]
    },
    {
     "name": "stdout",
     "output_type": "stream",
     "text": [
      "14/14 [==============================] - 4s 330ms/step - loss: 204.5708 - val_loss: 861.7523\n",
      "Epoch 14/100\n",
      "14/14 [==============================] - 0s 14ms/step - loss: 203.4718 - val_loss: 884.7315\n",
      "Epoch 15/100\n",
      "14/14 [==============================] - 0s 16ms/step - loss: 203.0755 - val_loss: 903.8788\n",
      "Epoch 16/100\n",
      "14/14 [==============================] - 0s 11ms/step - loss: 199.9152 - val_loss: 867.3812\n",
      "Epoch 17/100\n",
      "14/14 [==============================] - 0s 16ms/step - loss: 198.5207 - val_loss: 868.9608\n",
      "Epoch 18/100\n",
      "14/14 [==============================] - 0s 12ms/step - loss: 197.4298 - val_loss: 869.5586\n",
      "Epoch 19/100\n",
      "13/14 [==========================>...] - ETA: 0s - loss: 199.8171INFO:tensorflow:Assets written to: models/model_5_lstm/assets\n"
     ]
    },
    {
     "name": "stderr",
     "output_type": "stream",
     "text": [
      "INFO:tensorflow:Assets written to: models/model_5_lstm/assets\n",
      "WARNING:absl:<keras.layers.recurrent.LSTMCell object at 0x7f4181b99ed0> has the same name 'LSTMCell' as a built-in Keras object. Consider renaming <class 'keras.layers.recurrent.LSTMCell'> to avoid naming conflicts when loading with `tf.keras.models.load_model`. If renaming is not possible, pass the object in the `custom_objects` parameter of the load function.\n"
     ]
    },
    {
     "name": "stdout",
     "output_type": "stream",
     "text": [
      "14/14 [==============================] - 4s 275ms/step - loss: 196.5982 - val_loss: 847.4627\n",
      "Epoch 20/100\n",
      "12/14 [========================>.....] - ETA: 0s - loss: 197.4993INFO:tensorflow:Assets written to: models/model_5_lstm/assets\n"
     ]
    },
    {
     "name": "stderr",
     "output_type": "stream",
     "text": [
      "INFO:tensorflow:Assets written to: models/model_5_lstm/assets\n",
      "WARNING:absl:<keras.layers.recurrent.LSTMCell object at 0x7f4181b99ed0> has the same name 'LSTMCell' as a built-in Keras object. Consider renaming <class 'keras.layers.recurrent.LSTMCell'> to avoid naming conflicts when loading with `tf.keras.models.load_model`. If renaming is not possible, pass the object in the `custom_objects` parameter of the load function.\n"
     ]
    },
    {
     "name": "stdout",
     "output_type": "stream",
     "text": [
      "14/14 [==============================] - 3s 232ms/step - loss: 194.8521 - val_loss: 807.9312\n",
      "Epoch 21/100\n",
      "14/14 [==============================] - 0s 7ms/step - loss: 193.5974 - val_loss: 833.2915\n",
      "Epoch 22/100\n",
      "14/14 [==============================] - 0s 7ms/step - loss: 192.1645 - val_loss: 851.9040\n",
      "Epoch 23/100\n",
      "10/14 [====================>.........] - ETA: 0s - loss: 195.4410INFO:tensorflow:Assets written to: models/model_5_lstm/assets\n"
     ]
    },
    {
     "name": "stderr",
     "output_type": "stream",
     "text": [
      "INFO:tensorflow:Assets written to: models/model_5_lstm/assets\n",
      "WARNING:absl:<keras.layers.recurrent.LSTMCell object at 0x7f4181b99ed0> has the same name 'LSTMCell' as a built-in Keras object. Consider renaming <class 'keras.layers.recurrent.LSTMCell'> to avoid naming conflicts when loading with `tf.keras.models.load_model`. If renaming is not possible, pass the object in the `custom_objects` parameter of the load function.\n"
     ]
    },
    {
     "name": "stdout",
     "output_type": "stream",
     "text": [
      "14/14 [==============================] - 2s 123ms/step - loss: 190.3922 - val_loss: 806.0174\n",
      "Epoch 24/100\n",
      "11/14 [======================>.......] - ETA: 0s - loss: 190.4501INFO:tensorflow:Assets written to: models/model_5_lstm/assets\n"
     ]
    },
    {
     "name": "stderr",
     "output_type": "stream",
     "text": [
      "INFO:tensorflow:Assets written to: models/model_5_lstm/assets\n",
      "WARNING:absl:<keras.layers.recurrent.LSTMCell object at 0x7f4181b99ed0> has the same name 'LSTMCell' as a built-in Keras object. Consider renaming <class 'keras.layers.recurrent.LSTMCell'> to avoid naming conflicts when loading with `tf.keras.models.load_model`. If renaming is not possible, pass the object in the `custom_objects` parameter of the load function.\n"
     ]
    },
    {
     "name": "stdout",
     "output_type": "stream",
     "text": [
      "14/14 [==============================] - 2s 124ms/step - loss: 191.2002 - val_loss: 776.3761\n",
      "Epoch 25/100\n",
      "14/14 [==============================] - 0s 7ms/step - loss: 189.2732 - val_loss: 789.4395\n",
      "Epoch 26/100\n",
      "14/14 [==============================] - 0s 7ms/step - loss: 185.4485 - val_loss: 826.9141\n",
      "Epoch 27/100\n",
      "12/14 [========================>.....] - ETA: 0s - loss: 182.2892INFO:tensorflow:Assets written to: models/model_5_lstm/assets\n"
     ]
    },
    {
     "name": "stderr",
     "output_type": "stream",
     "text": [
      "INFO:tensorflow:Assets written to: models/model_5_lstm/assets\n",
      "WARNING:absl:<keras.layers.recurrent.LSTMCell object at 0x7f4181b99ed0> has the same name 'LSTMCell' as a built-in Keras object. Consider renaming <class 'keras.layers.recurrent.LSTMCell'> to avoid naming conflicts when loading with `tf.keras.models.load_model`. If renaming is not possible, pass the object in the `custom_objects` parameter of the load function.\n"
     ]
    },
    {
     "name": "stdout",
     "output_type": "stream",
     "text": [
      "14/14 [==============================] - 2s 121ms/step - loss: 180.7771 - val_loss: 720.4572\n",
      "Epoch 28/100\n",
      "12/14 [========================>.....] - ETA: 0s - loss: 178.6579INFO:tensorflow:Assets written to: models/model_5_lstm/assets\n"
     ]
    },
    {
     "name": "stderr",
     "output_type": "stream",
     "text": [
      "INFO:tensorflow:Assets written to: models/model_5_lstm/assets\n",
      "WARNING:absl:<keras.layers.recurrent.LSTMCell object at 0x7f4181b99ed0> has the same name 'LSTMCell' as a built-in Keras object. Consider renaming <class 'keras.layers.recurrent.LSTMCell'> to avoid naming conflicts when loading with `tf.keras.models.load_model`. If renaming is not possible, pass the object in the `custom_objects` parameter of the load function.\n"
     ]
    },
    {
     "name": "stdout",
     "output_type": "stream",
     "text": [
      "14/14 [==============================] - 2s 147ms/step - loss: 177.3669 - val_loss: 702.2065\n",
      "Epoch 29/100\n",
      "14/14 [==============================] - 0s 7ms/step - loss: 200.3021 - val_loss: 801.3125\n",
      "Epoch 30/100\n",
      "14/14 [==============================] - 0s 7ms/step - loss: 185.9404 - val_loss: 766.1491\n",
      "Epoch 31/100\n",
      "14/14 [==============================] - 0s 9ms/step - loss: 180.4454 - val_loss: 748.2368\n",
      "Epoch 32/100\n",
      "14/14 [==============================] - 0s 8ms/step - loss: 178.5164 - val_loss: 738.5284\n",
      "Epoch 33/100\n",
      "14/14 [==============================] - 0s 7ms/step - loss: 176.6198 - val_loss: 817.3337\n",
      "Epoch 34/100\n",
      "14/14 [==============================] - 0s 7ms/step - loss: 175.6466 - val_loss: 801.8495\n",
      "Epoch 35/100\n",
      "14/14 [==============================] - 0s 7ms/step - loss: 173.6287 - val_loss: 758.5744\n",
      "Epoch 36/100\n",
      "14/14 [==============================] - 0s 7ms/step - loss: 171.5962 - val_loss: 772.8607\n",
      "Epoch 37/100\n",
      "14/14 [==============================] - 0s 8ms/step - loss: 170.8313 - val_loss: 769.5956\n",
      "Epoch 38/100\n",
      "14/14 [==============================] - 0s 7ms/step - loss: 170.5411 - val_loss: 750.4097\n",
      "Epoch 39/100\n",
      "14/14 [==============================] - 0s 7ms/step - loss: 168.5429 - val_loss: 748.6722\n",
      "Epoch 40/100\n",
      "14/14 [==============================] - 0s 8ms/step - loss: 166.9150 - val_loss: 726.0619\n",
      "Epoch 41/100\n",
      "14/14 [==============================] - 0s 7ms/step - loss: 166.0399 - val_loss: 720.7269\n",
      "Epoch 42/100\n",
      "14/14 [==============================] - 0s 7ms/step - loss: 163.9615 - val_loss: 729.0593\n",
      "Epoch 43/100\n",
      "14/14 [==============================] - 0s 8ms/step - loss: 163.0873 - val_loss: 703.0961\n",
      "Epoch 44/100\n",
      "11/14 [======================>.......] - ETA: 0s - loss: 172.3671INFO:tensorflow:Assets written to: models/model_5_lstm/assets\n"
     ]
    },
    {
     "name": "stderr",
     "output_type": "stream",
     "text": [
      "INFO:tensorflow:Assets written to: models/model_5_lstm/assets\n",
      "WARNING:absl:<keras.layers.recurrent.LSTMCell object at 0x7f4181b99ed0> has the same name 'LSTMCell' as a built-in Keras object. Consider renaming <class 'keras.layers.recurrent.LSTMCell'> to avoid naming conflicts when loading with `tf.keras.models.load_model`. If renaming is not possible, pass the object in the `custom_objects` parameter of the load function.\n"
     ]
    },
    {
     "name": "stdout",
     "output_type": "stream",
     "text": [
      "14/14 [==============================] - 2s 125ms/step - loss: 168.9908 - val_loss: 686.8840\n",
      "Epoch 45/100\n",
      "10/14 [====================>.........] - ETA: 0s - loss: 178.1078INFO:tensorflow:Assets written to: models/model_5_lstm/assets\n"
     ]
    },
    {
     "name": "stderr",
     "output_type": "stream",
     "text": [
      "INFO:tensorflow:Assets written to: models/model_5_lstm/assets\n",
      "WARNING:absl:<keras.layers.recurrent.LSTMCell object at 0x7f4181b99ed0> has the same name 'LSTMCell' as a built-in Keras object. Consider renaming <class 'keras.layers.recurrent.LSTMCell'> to avoid naming conflicts when loading with `tf.keras.models.load_model`. If renaming is not possible, pass the object in the `custom_objects` parameter of the load function.\n"
     ]
    },
    {
     "name": "stdout",
     "output_type": "stream",
     "text": [
      "14/14 [==============================] - 2s 126ms/step - loss: 169.3746 - val_loss: 671.9968\n",
      "Epoch 46/100\n",
      "12/14 [========================>.....] - ETA: 0s - loss: 168.6537INFO:tensorflow:Assets written to: models/model_5_lstm/assets\n"
     ]
    },
    {
     "name": "stderr",
     "output_type": "stream",
     "text": [
      "INFO:tensorflow:Assets written to: models/model_5_lstm/assets\n",
      "WARNING:absl:<keras.layers.recurrent.LSTMCell object at 0x7f4181b99ed0> has the same name 'LSTMCell' as a built-in Keras object. Consider renaming <class 'keras.layers.recurrent.LSTMCell'> to avoid naming conflicts when loading with `tf.keras.models.load_model`. If renaming is not possible, pass the object in the `custom_objects` parameter of the load function.\n"
     ]
    },
    {
     "name": "stdout",
     "output_type": "stream",
     "text": [
      "14/14 [==============================] - 2s 122ms/step - loss: 162.2892 - val_loss: 667.8841\n",
      "Epoch 47/100\n",
      "14/14 [==============================] - 0s 8ms/step - loss: 159.5396 - val_loss: 690.8059\n",
      "Epoch 48/100\n",
      "14/14 [==============================] - 0s 7ms/step - loss: 157.0992 - val_loss: 714.4670\n",
      "Epoch 49/100\n",
      "12/14 [========================>.....] - ETA: 0s - loss: 157.7953INFO:tensorflow:Assets written to: models/model_5_lstm/assets\n"
     ]
    },
    {
     "name": "stderr",
     "output_type": "stream",
     "text": [
      "INFO:tensorflow:Assets written to: models/model_5_lstm/assets\n",
      "WARNING:absl:<keras.layers.recurrent.LSTMCell object at 0x7f4181b99ed0> has the same name 'LSTMCell' as a built-in Keras object. Consider renaming <class 'keras.layers.recurrent.LSTMCell'> to avoid naming conflicts when loading with `tf.keras.models.load_model`. If renaming is not possible, pass the object in the `custom_objects` parameter of the load function.\n"
     ]
    },
    {
     "name": "stdout",
     "output_type": "stream",
     "text": [
      "14/14 [==============================] - 2s 150ms/step - loss: 156.7978 - val_loss: 655.0980\n",
      "Epoch 50/100\n",
      "10/14 [====================>.........] - ETA: 0s - loss: 162.6544INFO:tensorflow:Assets written to: models/model_5_lstm/assets\n"
     ]
    },
    {
     "name": "stderr",
     "output_type": "stream",
     "text": [
      "INFO:tensorflow:Assets written to: models/model_5_lstm/assets\n",
      "WARNING:absl:<keras.layers.recurrent.LSTMCell object at 0x7f4181b99ed0> has the same name 'LSTMCell' as a built-in Keras object. Consider renaming <class 'keras.layers.recurrent.LSTMCell'> to avoid naming conflicts when loading with `tf.keras.models.load_model`. If renaming is not possible, pass the object in the `custom_objects` parameter of the load function.\n"
     ]
    },
    {
     "name": "stdout",
     "output_type": "stream",
     "text": [
      "14/14 [==============================] - 2s 125ms/step - loss: 160.2476 - val_loss: 652.5286\n",
      "Epoch 51/100\n",
      "14/14 [==============================] - 0s 7ms/step - loss: 155.8842 - val_loss: 653.9545\n",
      "Epoch 52/100\n",
      " 9/14 [==================>...........] - ETA: 0s - loss: 156.2282INFO:tensorflow:Assets written to: models/model_5_lstm/assets\n"
     ]
    },
    {
     "name": "stderr",
     "output_type": "stream",
     "text": [
      "INFO:tensorflow:Assets written to: models/model_5_lstm/assets\n",
      "WARNING:absl:<keras.layers.recurrent.LSTMCell object at 0x7f4181b99ed0> has the same name 'LSTMCell' as a built-in Keras object. Consider renaming <class 'keras.layers.recurrent.LSTMCell'> to avoid naming conflicts when loading with `tf.keras.models.load_model`. If renaming is not possible, pass the object in the `custom_objects` parameter of the load function.\n"
     ]
    },
    {
     "name": "stdout",
     "output_type": "stream",
     "text": [
      "14/14 [==============================] - 2s 125ms/step - loss: 154.2570 - val_loss: 649.9645\n",
      "Epoch 53/100\n",
      "12/14 [========================>.....] - ETA: 0s - loss: 152.0563INFO:tensorflow:Assets written to: models/model_5_lstm/assets\n"
     ]
    },
    {
     "name": "stderr",
     "output_type": "stream",
     "text": [
      "INFO:tensorflow:Assets written to: models/model_5_lstm/assets\n",
      "WARNING:absl:<keras.layers.recurrent.LSTMCell object at 0x7f4181b99ed0> has the same name 'LSTMCell' as a built-in Keras object. Consider renaming <class 'keras.layers.recurrent.LSTMCell'> to avoid naming conflicts when loading with `tf.keras.models.load_model`. If renaming is not possible, pass the object in the `custom_objects` parameter of the load function.\n"
     ]
    },
    {
     "name": "stdout",
     "output_type": "stream",
     "text": [
      "14/14 [==============================] - 2s 143ms/step - loss: 153.7128 - val_loss: 647.3256\n",
      "Epoch 54/100\n",
      "11/14 [======================>.......] - ETA: 0s - loss: 154.2684INFO:tensorflow:Assets written to: models/model_5_lstm/assets\n"
     ]
    },
    {
     "name": "stderr",
     "output_type": "stream",
     "text": [
      "INFO:tensorflow:Assets written to: models/model_5_lstm/assets\n",
      "WARNING:absl:<keras.layers.recurrent.LSTMCell object at 0x7f4181b99ed0> has the same name 'LSTMCell' as a built-in Keras object. Consider renaming <class 'keras.layers.recurrent.LSTMCell'> to avoid naming conflicts when loading with `tf.keras.models.load_model`. If renaming is not possible, pass the object in the `custom_objects` parameter of the load function.\n"
     ]
    },
    {
     "name": "stdout",
     "output_type": "stream",
     "text": [
      "14/14 [==============================] - 2s 126ms/step - loss: 152.9613 - val_loss: 645.4499\n",
      "Epoch 55/100\n",
      "14/14 [==============================] - 0s 7ms/step - loss: 151.5489 - val_loss: 646.0309\n",
      "Epoch 56/100\n",
      "14/14 [==============================] - 0s 7ms/step - loss: 150.9307 - val_loss: 665.4194\n",
      "Epoch 57/100\n",
      "14/14 [==============================] - 0s 8ms/step - loss: 150.2966 - val_loss: 658.2276\n",
      "Epoch 58/100\n",
      "11/14 [======================>.......] - ETA: 0s - loss: 151.5116INFO:tensorflow:Assets written to: models/model_5_lstm/assets\n"
     ]
    },
    {
     "name": "stderr",
     "output_type": "stream",
     "text": [
      "INFO:tensorflow:Assets written to: models/model_5_lstm/assets\n",
      "WARNING:absl:<keras.layers.recurrent.LSTMCell object at 0x7f4181b99ed0> has the same name 'LSTMCell' as a built-in Keras object. Consider renaming <class 'keras.layers.recurrent.LSTMCell'> to avoid naming conflicts when loading with `tf.keras.models.load_model`. If renaming is not possible, pass the object in the `custom_objects` parameter of the load function.\n"
     ]
    },
    {
     "name": "stdout",
     "output_type": "stream",
     "text": [
      "14/14 [==============================] - 2s 124ms/step - loss: 150.5427 - val_loss: 635.2477\n",
      "Epoch 59/100\n",
      "14/14 [==============================] - 0s 8ms/step - loss: 148.5207 - val_loss: 659.7517\n",
      "Epoch 60/100\n",
      "14/14 [==============================] - 0s 8ms/step - loss: 148.5474 - val_loss: 699.8357\n",
      "Epoch 61/100\n",
      "14/14 [==============================] - 0s 7ms/step - loss: 148.6339 - val_loss: 640.8012\n",
      "Epoch 62/100\n",
      "14/14 [==============================] - 0s 7ms/step - loss: 147.6112 - val_loss: 635.9682\n",
      "Epoch 63/100\n",
      "14/14 [==============================] - 0s 7ms/step - loss: 146.9446 - val_loss: 651.4786\n",
      "Epoch 64/100\n",
      "12/14 [========================>.....] - ETA: 0s - loss: 148.7262INFO:tensorflow:Assets written to: models/model_5_lstm/assets\n"
     ]
    },
    {
     "name": "stderr",
     "output_type": "stream",
     "text": [
      "INFO:tensorflow:Assets written to: models/model_5_lstm/assets\n",
      "WARNING:absl:<keras.layers.recurrent.LSTMCell object at 0x7f4181b99ed0> has the same name 'LSTMCell' as a built-in Keras object. Consider renaming <class 'keras.layers.recurrent.LSTMCell'> to avoid naming conflicts when loading with `tf.keras.models.load_model`. If renaming is not possible, pass the object in the `custom_objects` parameter of the load function.\n"
     ]
    },
    {
     "name": "stdout",
     "output_type": "stream",
     "text": [
      "14/14 [==============================] - 2s 122ms/step - loss: 146.8891 - val_loss: 624.9724\n",
      "Epoch 65/100\n",
      "14/14 [==============================] - 0s 7ms/step - loss: 147.9570 - val_loss: 685.9843\n",
      "Epoch 66/100\n",
      "14/14 [==============================] - 0s 7ms/step - loss: 145.6583 - val_loss: 641.8665\n",
      "Epoch 67/100\n",
      "12/14 [========================>.....] - ETA: 0s - loss: 142.5473INFO:tensorflow:Assets written to: models/model_5_lstm/assets\n"
     ]
    },
    {
     "name": "stderr",
     "output_type": "stream",
     "text": [
      "INFO:tensorflow:Assets written to: models/model_5_lstm/assets\n",
      "WARNING:absl:<keras.layers.recurrent.LSTMCell object at 0x7f4181b99ed0> has the same name 'LSTMCell' as a built-in Keras object. Consider renaming <class 'keras.layers.recurrent.LSTMCell'> to avoid naming conflicts when loading with `tf.keras.models.load_model`. If renaming is not possible, pass the object in the `custom_objects` parameter of the load function.\n"
     ]
    },
    {
     "name": "stdout",
     "output_type": "stream",
     "text": [
      "14/14 [==============================] - 2s 144ms/step - loss: 146.0368 - val_loss: 621.8424\n",
      "Epoch 68/100\n",
      "14/14 [==============================] - 0s 7ms/step - loss: 146.7643 - val_loss: 652.1618\n",
      "Epoch 69/100\n",
      "14/14 [==============================] - 0s 7ms/step - loss: 146.1160 - val_loss: 630.1522\n",
      "Epoch 70/100\n",
      "12/14 [========================>.....] - ETA: 0s - loss: 141.1957INFO:tensorflow:Assets written to: models/model_5_lstm/assets\n"
     ]
    },
    {
     "name": "stderr",
     "output_type": "stream",
     "text": [
      "INFO:tensorflow:Assets written to: models/model_5_lstm/assets\n",
      "WARNING:absl:<keras.layers.recurrent.LSTMCell object at 0x7f4181b99ed0> has the same name 'LSTMCell' as a built-in Keras object. Consider renaming <class 'keras.layers.recurrent.LSTMCell'> to avoid naming conflicts when loading with `tf.keras.models.load_model`. If renaming is not possible, pass the object in the `custom_objects` parameter of the load function.\n"
     ]
    },
    {
     "name": "stdout",
     "output_type": "stream",
     "text": [
      "14/14 [==============================] - 2s 121ms/step - loss: 147.3013 - val_loss: 616.3434\n",
      "Epoch 71/100\n",
      "12/14 [========================>.....] - ETA: 0s - loss: 152.1795INFO:tensorflow:Assets written to: models/model_5_lstm/assets\n"
     ]
    },
    {
     "name": "stderr",
     "output_type": "stream",
     "text": [
      "INFO:tensorflow:Assets written to: models/model_5_lstm/assets\n",
      "WARNING:absl:<keras.layers.recurrent.LSTMCell object at 0x7f4181b99ed0> has the same name 'LSTMCell' as a built-in Keras object. Consider renaming <class 'keras.layers.recurrent.LSTMCell'> to avoid naming conflicts when loading with `tf.keras.models.load_model`. If renaming is not possible, pass the object in the `custom_objects` parameter of the load function.\n"
     ]
    },
    {
     "name": "stdout",
     "output_type": "stream",
     "text": [
      "14/14 [==============================] - 2s 123ms/step - loss: 153.1615 - val_loss: 615.7501\n",
      "Epoch 72/100\n",
      "14/14 [==============================] - 0s 7ms/step - loss: 155.3015 - val_loss: 673.6427\n",
      "Epoch 73/100\n",
      "14/14 [==============================] - 0s 8ms/step - loss: 147.5294 - val_loss: 667.4606\n",
      "Epoch 74/100\n",
      "14/14 [==============================] - 0s 8ms/step - loss: 144.3259 - val_loss: 623.6088\n",
      "Epoch 75/100\n",
      "12/14 [========================>.....] - ETA: 0s - loss: 143.7967INFO:tensorflow:Assets written to: models/model_5_lstm/assets\n"
     ]
    },
    {
     "name": "stderr",
     "output_type": "stream",
     "text": [
      "INFO:tensorflow:Assets written to: models/model_5_lstm/assets\n",
      "WARNING:absl:<keras.layers.recurrent.LSTMCell object at 0x7f4181b99ed0> has the same name 'LSTMCell' as a built-in Keras object. Consider renaming <class 'keras.layers.recurrent.LSTMCell'> to avoid naming conflicts when loading with `tf.keras.models.load_model`. If renaming is not possible, pass the object in the `custom_objects` parameter of the load function.\n"
     ]
    },
    {
     "name": "stdout",
     "output_type": "stream",
     "text": [
      "14/14 [==============================] - 2s 145ms/step - loss: 143.5679 - val_loss: 612.1233\n",
      "Epoch 76/100\n",
      "14/14 [==============================] - 0s 8ms/step - loss: 143.5831 - val_loss: 621.3458\n",
      "Epoch 77/100\n",
      "14/14 [==============================] - 0s 7ms/step - loss: 142.8464 - val_loss: 619.2380\n",
      "Epoch 78/100\n",
      "12/14 [========================>.....] - ETA: 0s - loss: 139.6149INFO:tensorflow:Assets written to: models/model_5_lstm/assets\n"
     ]
    },
    {
     "name": "stderr",
     "output_type": "stream",
     "text": [
      "INFO:tensorflow:Assets written to: models/model_5_lstm/assets\n",
      "WARNING:absl:<keras.layers.recurrent.LSTMCell object at 0x7f4181b99ed0> has the same name 'LSTMCell' as a built-in Keras object. Consider renaming <class 'keras.layers.recurrent.LSTMCell'> to avoid naming conflicts when loading with `tf.keras.models.load_model`. If renaming is not possible, pass the object in the `custom_objects` parameter of the load function.\n"
     ]
    },
    {
     "name": "stdout",
     "output_type": "stream",
     "text": [
      "14/14 [==============================] - 2s 123ms/step - loss: 143.3759 - val_loss: 608.2902\n",
      "Epoch 79/100\n",
      "14/14 [==============================] - 0s 7ms/step - loss: 143.0520 - val_loss: 614.0176\n",
      "Epoch 80/100\n",
      "14/14 [==============================] - 0s 7ms/step - loss: 141.5308 - val_loss: 610.1227\n",
      "Epoch 81/100\n",
      "14/14 [==============================] - 0s 7ms/step - loss: 141.8572 - val_loss: 626.2983\n",
      "Epoch 82/100\n",
      "14/14 [==============================] - 0s 8ms/step - loss: 141.1483 - val_loss: 618.3404\n",
      "Epoch 83/100\n",
      "14/14 [==============================] - 0s 7ms/step - loss: 140.9981 - val_loss: 610.1553\n",
      "Epoch 84/100\n",
      " 9/14 [==================>...........] - ETA: 0s - loss: 142.0237INFO:tensorflow:Assets written to: models/model_5_lstm/assets\n"
     ]
    },
    {
     "name": "stderr",
     "output_type": "stream",
     "text": [
      "INFO:tensorflow:Assets written to: models/model_5_lstm/assets\n",
      "WARNING:absl:<keras.layers.recurrent.LSTMCell object at 0x7f4181b99ed0> has the same name 'LSTMCell' as a built-in Keras object. Consider renaming <class 'keras.layers.recurrent.LSTMCell'> to avoid naming conflicts when loading with `tf.keras.models.load_model`. If renaming is not possible, pass the object in the `custom_objects` parameter of the load function.\n"
     ]
    },
    {
     "name": "stdout",
     "output_type": "stream",
     "text": [
      "14/14 [==============================] - 2s 121ms/step - loss: 141.2170 - val_loss: 605.6880\n",
      "Epoch 85/100\n",
      "14/14 [==============================] - 0s 8ms/step - loss: 141.6239 - val_loss: 672.9080\n",
      "Epoch 86/100\n",
      "14/14 [==============================] - 0s 7ms/step - loss: 141.4875 - val_loss: 623.3575\n",
      "Epoch 87/100\n",
      "12/14 [========================>.....] - ETA: 0s - loss: 145.0857INFO:tensorflow:Assets written to: models/model_5_lstm/assets\n"
     ]
    },
    {
     "name": "stderr",
     "output_type": "stream",
     "text": [
      "INFO:tensorflow:Assets written to: models/model_5_lstm/assets\n",
      "WARNING:absl:<keras.layers.recurrent.LSTMCell object at 0x7f4181b99ed0> has the same name 'LSTMCell' as a built-in Keras object. Consider renaming <class 'keras.layers.recurrent.LSTMCell'> to avoid naming conflicts when loading with `tf.keras.models.load_model`. If renaming is not possible, pass the object in the `custom_objects` parameter of the load function.\n"
     ]
    },
    {
     "name": "stdout",
     "output_type": "stream",
     "text": [
      "14/14 [==============================] - 2s 119ms/step - loss: 140.4497 - val_loss: 604.8954\n",
      "Epoch 88/100\n",
      "14/14 [==============================] - 0s 7ms/step - loss: 140.4147 - val_loss: 640.0852\n",
      "Epoch 89/100\n",
      "11/14 [======================>.......] - ETA: 0s - loss: 148.2961INFO:tensorflow:Assets written to: models/model_5_lstm/assets\n"
     ]
    },
    {
     "name": "stderr",
     "output_type": "stream",
     "text": [
      "INFO:tensorflow:Assets written to: models/model_5_lstm/assets\n",
      "WARNING:absl:<keras.layers.recurrent.LSTMCell object at 0x7f4181b99ed0> has the same name 'LSTMCell' as a built-in Keras object. Consider renaming <class 'keras.layers.recurrent.LSTMCell'> to avoid naming conflicts when loading with `tf.keras.models.load_model`. If renaming is not possible, pass the object in the `custom_objects` parameter of the load function.\n"
     ]
    },
    {
     "name": "stdout",
     "output_type": "stream",
     "text": [
      "14/14 [==============================] - 2s 150ms/step - loss: 142.0560 - val_loss: 601.2917\n",
      "Epoch 90/100\n",
      "14/14 [==============================] - 0s 7ms/step - loss: 140.8751 - val_loss: 612.8365\n",
      "Epoch 91/100\n",
      "14/14 [==============================] - 0s 8ms/step - loss: 139.9382 - val_loss: 604.1486\n",
      "Epoch 92/100\n",
      "14/14 [==============================] - 0s 7ms/step - loss: 142.5656 - val_loss: 707.6750\n",
      "Epoch 93/100\n",
      "11/14 [======================>.......] - ETA: 0s - loss: 152.1307INFO:tensorflow:Assets written to: models/model_5_lstm/assets\n"
     ]
    },
    {
     "name": "stderr",
     "output_type": "stream",
     "text": [
      "INFO:tensorflow:Assets written to: models/model_5_lstm/assets\n",
      "WARNING:absl:<keras.layers.recurrent.LSTMCell object at 0x7f4181b99ed0> has the same name 'LSTMCell' as a built-in Keras object. Consider renaming <class 'keras.layers.recurrent.LSTMCell'> to avoid naming conflicts when loading with `tf.keras.models.load_model`. If renaming is not possible, pass the object in the `custom_objects` parameter of the load function.\n"
     ]
    },
    {
     "name": "stdout",
     "output_type": "stream",
     "text": [
      "14/14 [==============================] - 2s 125ms/step - loss: 146.3547 - val_loss: 599.6319\n",
      "Epoch 94/100\n",
      "14/14 [==============================] - 0s 7ms/step - loss: 139.5687 - val_loss: 600.4816\n",
      "Epoch 95/100\n",
      "14/14 [==============================] - 0s 8ms/step - loss: 138.4352 - val_loss: 612.8209\n",
      "Epoch 96/100\n",
      "11/14 [======================>.......] - ETA: 0s - loss: 130.6992INFO:tensorflow:Assets written to: models/model_5_lstm/assets\n"
     ]
    },
    {
     "name": "stderr",
     "output_type": "stream",
     "text": [
      "INFO:tensorflow:Assets written to: models/model_5_lstm/assets\n",
      "WARNING:absl:<keras.layers.recurrent.LSTMCell object at 0x7f4181b99ed0> has the same name 'LSTMCell' as a built-in Keras object. Consider renaming <class 'keras.layers.recurrent.LSTMCell'> to avoid naming conflicts when loading with `tf.keras.models.load_model`. If renaming is not possible, pass the object in the `custom_objects` parameter of the load function.\n"
     ]
    },
    {
     "name": "stdout",
     "output_type": "stream",
     "text": [
      "14/14 [==============================] - 2s 121ms/step - loss: 138.0334 - val_loss: 597.4940\n",
      "Epoch 97/100\n",
      "14/14 [==============================] - 0s 7ms/step - loss: 139.9027 - val_loss: 636.2718\n",
      "Epoch 98/100\n",
      "11/14 [======================>.......] - ETA: 0s - loss: 136.5389INFO:tensorflow:Assets written to: models/model_5_lstm/assets\n"
     ]
    },
    {
     "name": "stderr",
     "output_type": "stream",
     "text": [
      "INFO:tensorflow:Assets written to: models/model_5_lstm/assets\n",
      "WARNING:absl:<keras.layers.recurrent.LSTMCell object at 0x7f4181b99ed0> has the same name 'LSTMCell' as a built-in Keras object. Consider renaming <class 'keras.layers.recurrent.LSTMCell'> to avoid naming conflicts when loading with `tf.keras.models.load_model`. If renaming is not possible, pass the object in the `custom_objects` parameter of the load function.\n"
     ]
    },
    {
     "name": "stdout",
     "output_type": "stream",
     "text": [
      "14/14 [==============================] - 2s 123ms/step - loss: 139.4778 - val_loss: 596.7295\n",
      "Epoch 99/100\n",
      "14/14 [==============================] - 0s 7ms/step - loss: 136.9311 - val_loss: 599.2811\n",
      "Epoch 100/100\n",
      "12/14 [========================>.....] - ETA: 0s - loss: 134.5575INFO:tensorflow:Assets written to: models/model_5_lstm/assets\n"
     ]
    },
    {
     "name": "stderr",
     "output_type": "stream",
     "text": [
      "INFO:tensorflow:Assets written to: models/model_5_lstm/assets\n",
      "WARNING:absl:<keras.layers.recurrent.LSTMCell object at 0x7f4181b99ed0> has the same name 'LSTMCell' as a built-in Keras object. Consider renaming <class 'keras.layers.recurrent.LSTMCell'> to avoid naming conflicts when loading with `tf.keras.models.load_model`. If renaming is not possible, pass the object in the `custom_objects` parameter of the load function.\n"
     ]
    },
    {
     "name": "stdout",
     "output_type": "stream",
     "text": [
      "14/14 [==============================] - 2s 152ms/step - loss: 137.3020 - val_loss: 596.1284\n"
     ]
    },
    {
     "data": {
      "text/plain": [
       "<keras.callbacks.History at 0x7f418ed71590>"
      ]
     },
     "execution_count": 99,
     "metadata": {},
     "output_type": "execute_result"
    }
   ],
   "source": [
    "# See improving a model section of the bit-predict notebook\n",
    "tf.random.set_seed(42)\n",
    "\n",
    "# Make an LSTM model with the functional API\n",
    "inputs=layers.Input(shape=WINDOW_SIZE)\n",
    "x = layers.Lambda(lambda x: tf.expand_dims(x, axis=1))(inputs)\n",
    "# x = layers.LSTM(128, return_sequences=True)(x) # to create more than 1 hidden layer\n",
    "x = layers.LSTM(128, activation=\"relu\")(x) # default activation function is \"tanx\"\n",
    "# One of the way of improving the accuracy of neural network is adding more layers\n",
    "# x = layers.Dense(32, activation=\"relu\")(x)\n",
    "output = layers.Dense(HORIZON)(x)\n",
    "model_5 = tf.keras.Model(inputs=inputs, outputs=output, name=\"model_5_lstm\")\n",
    "\n",
    "# Compile\n",
    "model_5.compile(loss=\"mae\",\n",
    "                optimizer=tf.keras.optimizers.Adam())\n",
    "\n",
    "# Fit\n",
    "model_5.fit(train_windows,\n",
    "            train_labels,\n",
    "            epochs=100,\n",
    "            verbose=1,\n",
    "            batch_size=128,\n",
    "            validation_data=(test_windows, test_labels),\n",
    "            callbacks=[create_model_checkpoint(model_name=model_5.name)]\n",
    "            )\n",
    "\n"
   ]
  },
  {
   "cell_type": "code",
   "execution_count": 100,
   "metadata": {
    "colab": {
     "base_uri": "https://localhost:8080/"
    },
    "id": "jl2ThNcm2B6w",
    "outputId": "36b3d80e-84cd-4673-aa8b-c1ef2eef3499"
   },
   "outputs": [
    {
     "name": "stdout",
     "output_type": "stream",
     "text": [
      "WARNING:tensorflow:Layer lstm will not use cuDNN kernels since it doesn't meet the criteria. It will use a generic GPU kernel as fallback when running on GPU.\n"
     ]
    },
    {
     "name": "stderr",
     "output_type": "stream",
     "text": [
      "WARNING:tensorflow:Layer lstm will not use cuDNN kernels since it doesn't meet the criteria. It will use a generic GPU kernel as fallback when running on GPU.\n"
     ]
    },
    {
     "name": "stdout",
     "output_type": "stream",
     "text": [
      "14/14 [==============================] - 0s 2ms/step - loss: 596.1284\n"
     ]
    },
    {
     "data": {
      "text/plain": [
       "596.1283569335938"
      ]
     },
     "execution_count": 100,
     "metadata": {},
     "output_type": "execute_result"
    }
   ],
   "source": [
    "model_5 = tf.keras.models.load_model(\"models/model_5_lstm\")\n",
    "model_5.evaluate(test_windows, test_labels)"
   ]
  },
  {
   "cell_type": "code",
   "execution_count": 101,
   "metadata": {
    "id": "bgbqoI4d4fPc"
   },
   "outputs": [],
   "source": [
    "# Make predictions with our LSTM model\n",
    "model_5_preds = make_prediction(model_5, test_windows)\n"
   ]
  },
  {
   "cell_type": "code",
   "execution_count": 102,
   "metadata": {
    "colab": {
     "base_uri": "https://localhost:8080/"
    },
    "id": "i_fBsYQi4vYb",
    "outputId": "5bbc3027-73e7-4a02-ad80-f645bdb9f380"
   },
   "outputs": [
    {
     "data": {
      "text/plain": [
       "{'mae': 596.12836,\n",
       " 'mape': 2.9427366,\n",
       " 'mase': 0.99867654,\n",
       " 'mse': 1409634.9,\n",
       " 'rmse': 1187.2804}"
      ]
     },
     "execution_count": 102,
     "metadata": {},
     "output_type": "execute_result"
    }
   ],
   "source": [
    "model_5_results = evaluate_preds(y_true=tf.squeeze(test_labels), y_pred=model_5_preds)\n",
    "model_5_results"
   ]
  },
  {
   "cell_type": "code",
   "execution_count": 105,
   "metadata": {
    "colab": {
     "base_uri": "https://localhost:8080/"
    },
    "id": "tvHZP5r8onK1",
    "outputId": "092ef33f-b2da-451d-bf40-f5a518f8a46b"
   },
   "outputs": [
    {
     "name": "stdout",
     "output_type": "stream",
     "text": [
      "Model: \"model_5_lstm\"\n",
      "_________________________________________________________________\n",
      " Layer (type)                Output Shape              Param #   \n",
      "=================================================================\n",
      " input_1 (InputLayer)        [(None, 7)]               0         \n",
      "                                                                 \n",
      " lambda_2 (Lambda)           (None, 1, 7)              0         \n",
      "                                                                 \n",
      " lstm (LSTM)                 (None, 128)               69632     \n",
      "                                                                 \n",
      " dense_7 (Dense)             (None, 1)                 129       \n",
      "                                                                 \n",
      "=================================================================\n",
      "Total params: 69,761\n",
      "Trainable params: 69,761\n",
      "Non-trainable params: 0\n",
      "_________________________________________________________________\n"
     ]
    }
   ],
   "source": [
    "model_5.summary()"
   ]
  },
  {
   "cell_type": "code",
   "execution_count": 119,
   "metadata": {
    "colab": {
     "base_uri": "https://localhost:8080/",
     "height": 442
    },
    "id": "mmJLkBYkqTtJ",
    "outputId": "d2f93ae3-375d-4fa9-b68d-107ad39e48ee"
   },
   "outputs": [
    {
     "data": {
      "image/png": "[encoded data removed]",
      "text/plain": [
       "<Figure size 720x504 with 1 Axes>"
      ]
     },
     "metadata": {
      "needs_background": "light"
     },
     "output_type": "display_data"
    }
   ],
   "source": [
    "offset=400\n",
    "plt.figure(figsize=(10,7))\n",
    "plot_time_series(timesteps=X_test[-len(test_windows):], values=test_labels[:,0], format=\"-\", start=offset, label=\"Test Data\")\n",
    "plot_time_series(timesteps=X_test[-len(test_windows):], values=model_5_preds, format=\"-\", start=offset, label=\"Model-5 prediction\")"
   ]
  },
  {
   "cell_type": "markdown",
   "metadata": {
    "id": "zBUJ53lj49bO"
   },
   "source": [
    "## Make a multivariate time-series\n",
    "\n",
    "In an open system, there are many features that affect the bitcoin price.\n",
    "In bitcoin halving event, as halving happens, the amount of block reward (the amount of bitcoin we get as a reward after mining) gets decreased."
   ]
  },
  {
   "cell_type": "code",
   "execution_count": 106,
   "metadata": {
    "colab": {
     "base_uri": "https://localhost:8080/",
     "height": 237
    },
    "id": "Wy6_71GLK46X",
    "outputId": "39cd1c18-7b96-48be-e056-e9fd02a6f09f"
   },
   "outputs": [
    {
     "data": {
      "text/html": [
       "\n",
       "  <div id=\"df-1e3f9ae6-aa52-497c-9534-89f9c1185b2f\">\n",
       "    <div class=\"colab-df-container\">\n",
       "      <div>\n",
       "<style scoped>\n",
       "    .dataframe tbody tr th:only-of-type {\n",
       "        vertical-align: middle;\n",
       "    }\n",
       "\n",
       "    .dataframe tbody tr th {\n",
       "        vertical-align: top;\n",
       "    }\n",
       "\n",
       "    .dataframe thead th {\n",
       "        text-align: right;\n",
       "    }\n",
       "</style>\n",
       "<table border=\"1\" class=\"dataframe\">\n",
       "  <thead>\n",
       "    <tr style=\"text-align: right;\">\n",
       "      <th></th>\n",
       "      <th>Price</th>\n",
       "    </tr>\n",
       "    <tr>\n",
       "      <th>Timestamp</th>\n",
       "      <th></th>\n",
       "    </tr>\n",
       "  </thead>\n",
       "  <tbody>\n",
       "    <tr>\n",
       "      <th>2021-03-26</th>\n",
       "      <td>52734.30</td>\n",
       "    </tr>\n",
       "    <tr>\n",
       "      <th>2021-03-27</th>\n",
       "      <td>54508.16</td>\n",
       "    </tr>\n",
       "    <tr>\n",
       "      <th>2021-03-28</th>\n",
       "      <td>55871.93</td>\n",
       "    </tr>\n",
       "    <tr>\n",
       "      <th>2021-03-29</th>\n",
       "      <td>57788.15</td>\n",
       "    </tr>\n",
       "    <tr>\n",
       "      <th>2021-03-30</th>\n",
       "      <td>59069.29</td>\n",
       "    </tr>\n",
       "  </tbody>\n",
       "</table>\n",
       "</div>\n",
       "      <button class=\"colab-df-convert\" onclick=\"convertToInteractive('df-1e3f9ae6-aa52-497c-9534-89f9c1185b2f')\"\n",
       "              title=\"Convert this dataframe to an interactive table.\"\n",
       "              style=\"display:none;\">\n",
       "        \n",
       "  <svg xmlns=\"http://www.w3.org/2000/svg\" height=\"24px\"viewBox=\"0 0 24 24\"\n",
       "       width=\"24px\">\n",
       "    <path d=\"M0 0h24v24H0V0z\" fill=\"none\"/>\n",
       "    <path d=\"M18.56 5.44l.94 2.06.94-2.06 2.06-.94-2.06-.94-.94-2.06-.94 2.06-2.06.94zm-11 1L8.5 8.5l.94-2.06 2.06-.94-2.06-.94L8.5 2.5l-.94 2.06-2.06.94zm10 10l.94 2.06.94-2.06 2.06-.94-2.06-.94-.94-2.06-.94 2.06-2.06.94z\"/><path d=\"M17.41 7.96l-1.37-1.37c-.4-.4-.92-.59-1.43-.59-.52 0-1.04.2-1.43.59L10.3 9.45l-7.72 7.72c-.78.78-.78 2.05 0 2.83L4 21.41c.39.39.9.59 1.41.59.51 0 1.02-.2 1.41-.59l7.78-7.78 2.81-2.81c.8-.78.8-2.07 0-2.86zM5.41 20L4 18.59l7.72-7.72 1.47 1.35L5.41 20z\"/>\n",
       "  </svg>\n",
       "      </button>\n",
       "      \n",
       "  <style>\n",
       "    .colab-df-container {\n",
       "      display:flex;\n",
       "      flex-wrap:wrap;\n",
       "      gap: 12px;\n",
       "    }\n",
       "\n",
       "    .colab-df-convert {\n",
       "      background-color: #E8F0FE;\n",
       "      border: none;\n",
       "      border-radius: 50%;\n",
       "      cursor: pointer;\n",
       "      display: none;\n",
       "      fill: #1967D2;\n",
       "      height: 32px;\n",
       "      padding: 0 0 0 0;\n",
       "      width: 32px;\n",
       "    }\n",
       "\n",
       "    .colab-df-convert:hover {\n",
       "      background-color: #E2EBFA;\n",
       "      box-shadow: 0px 1px 2px rgba(60, 64, 67, 0.3), 0px 1px 3px 1px rgba(60, 64, 67, 0.15);\n",
       "      fill: #174EA6;\n",
       "    }\n",
       "\n",
       "    [theme=dark] .colab-df-convert {\n",
       "      background-color: #3B4455;\n",
       "      fill: #D2E3FC;\n",
       "    }\n",
       "\n",
       "    [theme=dark] .colab-df-convert:hover {\n",
       "      background-color: #434B5C;\n",
       "      box-shadow: 0px 1px 3px 1px rgba(0, 0, 0, 0.15);\n",
       "      filter: drop-shadow(0px 1px 2px rgba(0, 0, 0, 0.3));\n",
       "      fill: #FFFFFF;\n",
       "    }\n",
       "  </style>\n",
       "\n",
       "      <script>\n",
       "        const buttonEl =\n",
       "          document.querySelector('#df-1e3f9ae6-aa52-497c-9534-89f9c1185b2f button.colab-df-convert');\n",
       "        buttonEl.style.display =\n",
       "          google.colab.kernel.accessAllowed ? 'block' : 'none';\n",
       "\n",
       "        async function convertToInteractive(key) {\n",
       "          const element = document.querySelector('#df-1e3f9ae6-aa52-497c-9534-89f9c1185b2f');\n",
       "          const dataTable =\n",
       "            await google.colab.kernel.invokeFunction('convertToInteractive',\n",
       "                                                     [key], {});\n",
       "          if (!dataTable) return;\n",
       "\n",
       "          const docLinkHtml = 'Like what you see? Visit the ' +\n",
       "            '<a target=\"_blank\" href=https://colab.research.google.com/notebooks/data_table.ipynb>data table notebook</a>'\n",
       "            + ' to learn more about interactive tables.';\n",
       "          element.innerHTML = '';\n",
       "          dataTable['output_type'] = 'display_data';\n",
       "          await google.colab.output.renderOutput(dataTable, element);\n",
       "          const docLink = document.createElement('div');\n",
       "          docLink.innerHTML = docLinkHtml;\n",
       "          element.appendChild(docLink);\n",
       "        }\n",
       "      </script>\n",
       "    </div>\n",
       "  </div>\n",
       "  "
      ],
      "text/plain": [
       "               Price\n",
       "Timestamp           \n",
       "2021-03-26  52734.30\n",
       "2021-03-27  54508.16\n",
       "2021-03-28  55871.93\n",
       "2021-03-29  57788.15\n",
       "2021-03-30  59069.29"
      ]
     },
     "execution_count": 106,
     "metadata": {},
     "output_type": "execute_result"
    }
   ],
   "source": [
    "# Lets make a multivariate time series\n",
    "btc_df.tail()"
   ]
  },
  {
   "cell_type": "code",
   "execution_count": 107,
   "metadata": {
    "id": "39CF6ElsMfjW"
   },
   "outputs": [],
   "source": [
    "# Adding the bitcoin halving events to our dataset\n",
    "block_reward_1 = 50 # 3 January 2009- this block reward isn't in our dataset\n",
    "block_reward_2 = 25 # 8 November 2012\n",
    "block_reward_3 = 12.5 # 9 July 2016\n",
    "block_reward_4 = 6.25 # 18 May 2020\n",
    "\n",
    "# Block reward dates\n",
    "block_reward_2_datetime = np.datetime64(\"2012-11-08\")\n",
    "block_reward_3_datetime = np.datetime64(\"2016-07-09\")\n",
    "block_reward_4_datetime = np.datetime64(\"2020-05-18\")"
   ]
  },
  {
   "cell_type": "code",
   "execution_count": 108,
   "metadata": {
    "colab": {
     "base_uri": "https://localhost:8080/"
    },
    "id": "XdFumpf_Oh9g",
    "outputId": "47c484cb-3396-4b08-fe3e-922da7143a79"
   },
   "outputs": [
    {
     "data": {
      "text/plain": [
       "True"
      ]
     },
     "execution_count": 108,
     "metadata": {},
     "output_type": "execute_result"
    }
   ],
   "source": [
    "btc_df.index[0] < block_reward_3_datetime"
   ]
  },
  {
   "cell_type": "code",
   "execution_count": 109,
   "metadata": {
    "id": "Mc6xF4ZpHPbG"
   },
   "outputs": [],
   "source": [
    "\n",
    "# block_reward_2_boundary = block_reward_3_datetime - btc_df.index[0]\n",
    "# block_reward_3_boundary = block_reward_4_datetime - btc_df.index[0]\n",
    "\n",
    "# block_reward_2_boundary.days, block_reward_3_boundary.days"
   ]
  },
  {
   "cell_type": "code",
   "execution_count": 110,
   "metadata": {
    "id": "_JPzUlFmMwpO"
   },
   "outputs": [],
   "source": [
    "# len(btc_df), btc_block_df.iloc[block_reward_3_boundary.days:]"
   ]
  },
  {
   "cell_type": "code",
   "execution_count": 111,
   "metadata": {
    "id": "aKVcdvC-ME_2"
   },
   "outputs": [],
   "source": [
    "# btc_block_df = btc_df.copy()\n",
    "# btc_block_df[\"Block_reward\"] = None\n",
    "\n",
    "# btc_block_df.iloc[:block_reward_2_boundary.days, -1] = block_reward_2 # -1 means get the last columns\n",
    "# btc_block_df.iloc[block_reward_2_boundary.days:block_reward_3_boundary.days,-1] = block_reward_3\n",
    "# btc_block_df.iloc[block_reward_3_boundary.days:, -1] = block_reward_4\n",
    "# btc_block_df.head(), btc_block_df.tail()\n"
   ]
  },
  {
   "cell_type": "code",
   "execution_count": 112,
   "metadata": {
    "id": "KkPoA9-wNi2n"
   },
   "outputs": [],
   "source": [
    "# Adding the specific block reward value\n",
    "reward = []\n",
    "for i in range(len(btc_df)):\n",
    "  timestamp = btc_df.index[i]\n",
    "  if (timestamp <= block_reward_3_datetime and timestamp >= block_reward_2_datetime): reward.append(block_reward_2)\n",
    "  elif (timestamp <= block_reward_4_datetime and timestamp >= block_reward_3_datetime): reward.append(block_reward_3)\n",
    "  else: reward.append(block_reward_4) \n"
   ]
  },
  {
   "cell_type": "code",
   "execution_count": 113,
   "metadata": {
    "colab": {
     "base_uri": "https://localhost:8080/",
     "height": 455
    },
    "id": "MwBXBE9iRONy",
    "outputId": "c40d35d5-8ac7-4c42-c06e-afec811c3699"
   },
   "outputs": [
    {
     "data": {
      "text/html": [
       "\n",
       "  <div id=\"df-e6569c6e-4f5b-4e0e-9bb2-ebeb5c54bd36\">\n",
       "    <div class=\"colab-df-container\">\n",
       "      <div>\n",
       "<style scoped>\n",
       "    .dataframe tbody tr th:only-of-type {\n",
       "        vertical-align: middle;\n",
       "    }\n",
       "\n",
       "    .dataframe tbody tr th {\n",
       "        vertical-align: top;\n",
       "    }\n",
       "\n",
       "    .dataframe thead th {\n",
       "        text-align: right;\n",
       "    }\n",
       "</style>\n",
       "<table border=\"1\" class=\"dataframe\">\n",
       "  <thead>\n",
       "    <tr style=\"text-align: right;\">\n",
       "      <th></th>\n",
       "      <th>Price</th>\n",
       "      <th>Block_reward</th>\n",
       "    </tr>\n",
       "    <tr>\n",
       "      <th>Timestamp</th>\n",
       "      <th></th>\n",
       "      <th></th>\n",
       "    </tr>\n",
       "  </thead>\n",
       "  <tbody>\n",
       "    <tr>\n",
       "      <th>2014-01-01</th>\n",
       "      <td>754.90</td>\n",
       "      <td>25.00</td>\n",
       "    </tr>\n",
       "    <tr>\n",
       "      <th>2014-01-02</th>\n",
       "      <td>784.19</td>\n",
       "      <td>25.00</td>\n",
       "    </tr>\n",
       "    <tr>\n",
       "      <th>2014-01-03</th>\n",
       "      <td>809.40</td>\n",
       "      <td>25.00</td>\n",
       "    </tr>\n",
       "    <tr>\n",
       "      <th>2014-01-04</th>\n",
       "      <td>828.79</td>\n",
       "      <td>25.00</td>\n",
       "    </tr>\n",
       "    <tr>\n",
       "      <th>2014-01-05</th>\n",
       "      <td>905.00</td>\n",
       "      <td>25.00</td>\n",
       "    </tr>\n",
       "    <tr>\n",
       "      <th>...</th>\n",
       "      <td>...</td>\n",
       "      <td>...</td>\n",
       "    </tr>\n",
       "    <tr>\n",
       "      <th>2021-03-26</th>\n",
       "      <td>52734.30</td>\n",
       "      <td>6.25</td>\n",
       "    </tr>\n",
       "    <tr>\n",
       "      <th>2021-03-27</th>\n",
       "      <td>54508.16</td>\n",
       "      <td>6.25</td>\n",
       "    </tr>\n",
       "    <tr>\n",
       "      <th>2021-03-28</th>\n",
       "      <td>55871.93</td>\n",
       "      <td>6.25</td>\n",
       "    </tr>\n",
       "    <tr>\n",
       "      <th>2021-03-29</th>\n",
       "      <td>57788.15</td>\n",
       "      <td>6.25</td>\n",
       "    </tr>\n",
       "    <tr>\n",
       "      <th>2021-03-30</th>\n",
       "      <td>59069.29</td>\n",
       "      <td>6.25</td>\n",
       "    </tr>\n",
       "  </tbody>\n",
       "</table>\n",
       "<p>2236 rows × 2 columns</p>\n",
       "</div>\n",
       "      <button class=\"colab-df-convert\" onclick=\"convertToInteractive('df-e6569c6e-4f5b-4e0e-9bb2-ebeb5c54bd36')\"\n",
       "              title=\"Convert this dataframe to an interactive table.\"\n",
       "              style=\"display:none;\">\n",
       "        \n",
       "  <svg xmlns=\"http://www.w3.org/2000/svg\" height=\"24px\"viewBox=\"0 0 24 24\"\n",
       "       width=\"24px\">\n",
       "    <path d=\"M0 0h24v24H0V0z\" fill=\"none\"/>\n",
       "    <path d=\"M18.56 5.44l.94 2.06.94-2.06 2.06-.94-2.06-.94-.94-2.06-.94 2.06-2.06.94zm-11 1L8.5 8.5l.94-2.06 2.06-.94-2.06-.94L8.5 2.5l-.94 2.06-2.06.94zm10 10l.94 2.06.94-2.06 2.06-.94-2.06-.94-.94-2.06-.94 2.06-2.06.94z\"/><path d=\"M17.41 7.96l-1.37-1.37c-.4-.4-.92-.59-1.43-.59-.52 0-1.04.2-1.43.59L10.3 9.45l-7.72 7.72c-.78.78-.78 2.05 0 2.83L4 21.41c.39.39.9.59 1.41.59.51 0 1.02-.2 1.41-.59l7.78-7.78 2.81-2.81c.8-.78.8-2.07 0-2.86zM5.41 20L4 18.59l7.72-7.72 1.47 1.35L5.41 20z\"/>\n",
       "  </svg>\n",
       "      </button>\n",
       "      \n",
       "  <style>\n",
       "    .colab-df-container {\n",
       "      display:flex;\n",
       "      flex-wrap:wrap;\n",
       "      gap: 12px;\n",
       "    }\n",
       "\n",
       "    .colab-df-convert {\n",
       "      background-color: #E8F0FE;\n",
       "      border: none;\n",
       "      border-radius: 50%;\n",
       "      cursor: pointer;\n",
       "      display: none;\n",
       "      fill: #1967D2;\n",
       "      height: 32px;\n",
       "      padding: 0 0 0 0;\n",
       "      width: 32px;\n",
       "    }\n",
       "\n",
       "    .colab-df-convert:hover {\n",
       "      background-color: #E2EBFA;\n",
       "      box-shadow: 0px 1px 2px rgba(60, 64, 67, 0.3), 0px 1px 3px 1px rgba(60, 64, 67, 0.15);\n",
       "      fill: #174EA6;\n",
       "    }\n",
       "\n",
       "    [theme=dark] .colab-df-convert {\n",
       "      background-color: #3B4455;\n",
       "      fill: #D2E3FC;\n",
       "    }\n",
       "\n",
       "    [theme=dark] .colab-df-convert:hover {\n",
       "      background-color: #434B5C;\n",
       "      box-shadow: 0px 1px 3px 1px rgba(0, 0, 0, 0.15);\n",
       "      filter: drop-shadow(0px 1px 2px rgba(0, 0, 0, 0.3));\n",
       "      fill: #FFFFFF;\n",
       "    }\n",
       "  </style>\n",
       "\n",
       "      <script>\n",
       "        const buttonEl =\n",
       "          document.querySelector('#df-e6569c6e-4f5b-4e0e-9bb2-ebeb5c54bd36 button.colab-df-convert');\n",
       "        buttonEl.style.display =\n",
       "          google.colab.kernel.accessAllowed ? 'block' : 'none';\n",
       "\n",
       "        async function convertToInteractive(key) {\n",
       "          const element = document.querySelector('#df-e6569c6e-4f5b-4e0e-9bb2-ebeb5c54bd36');\n",
       "          const dataTable =\n",
       "            await google.colab.kernel.invokeFunction('convertToInteractive',\n",
       "                                                     [key], {});\n",
       "          if (!dataTable) return;\n",
       "\n",
       "          const docLinkHtml = 'Like what you see? Visit the ' +\n",
       "            '<a target=\"_blank\" href=https://colab.research.google.com/notebooks/data_table.ipynb>data table notebook</a>'\n",
       "            + ' to learn more about interactive tables.';\n",
       "          element.innerHTML = '';\n",
       "          dataTable['output_type'] = 'display_data';\n",
       "          await google.colab.output.renderOutput(dataTable, element);\n",
       "          const docLink = document.createElement('div');\n",
       "          docLink.innerHTML = docLinkHtml;\n",
       "          element.appendChild(docLink);\n",
       "        }\n",
       "      </script>\n",
       "    </div>\n",
       "  </div>\n",
       "  "
      ],
      "text/plain": [
       "               Price  Block_reward\n",
       "Timestamp                         \n",
       "2014-01-01    754.90         25.00\n",
       "2014-01-02    784.19         25.00\n",
       "2014-01-03    809.40         25.00\n",
       "2014-01-04    828.79         25.00\n",
       "2014-01-05    905.00         25.00\n",
       "...              ...           ...\n",
       "2021-03-26  52734.30          6.25\n",
       "2021-03-27  54508.16          6.25\n",
       "2021-03-28  55871.93          6.25\n",
       "2021-03-29  57788.15          6.25\n",
       "2021-03-30  59069.29          6.25\n",
       "\n",
       "[2236 rows x 2 columns]"
      ]
     },
     "execution_count": 113,
     "metadata": {},
     "output_type": "execute_result"
    }
   ],
   "source": [
    "# len(reward), len(btc_df)\n",
    "# btc_df[\"reward\"] = reward\n",
    "btc_blk_df = btc_df.copy()\n",
    "btc_blk_df[\"Block_reward\"] = reward\n",
    "btc_blk_df"
   ]
  },
  {
   "cell_type": "code",
   "execution_count": 114,
   "metadata": {
    "colab": {
     "base_uri": "https://localhost:8080/",
     "height": 416
    },
    "id": "52-CusrTRWnq",
    "outputId": "dc34e6d2-07c3-4199-f73d-acd30fd7eaf8"
   },
   "outputs": [
    {
     "data": {
      "image/png": "[encoded data removed]",
      "text/plain": [
       "<Figure size 720x504 with 1 Axes>"
      ]
     },
     "metadata": {
      "needs_background": "light"
     },
     "output_type": "display_data"
    }
   ],
   "source": [
    "# Convert the y-scaling of each features to a range of [0,1] to include in the same plot\n",
    "from sklearn.preprocessing import minmax_scale\n",
    "scaled_btc_blk_df = pd.DataFrame(minmax_scale(btc_blk_df[[\"Price\", \"Block_reward\"]]), \n",
    "                                 columns = btc_blk_df.columns,\n",
    "                                 index=btc_blk_df.index\n",
    "                                 )\n",
    "\n",
    "scaled_btc_blk_df.plot(figsize = (10,7));"
   ]
  },
  {
   "cell_type": "markdown",
   "metadata": {
    "id": "cYRJf3lQ2hNs"
   },
   "source": [
    "## Making a windowed dataset with pandas\n",
    "Above functions for making a windowed dataset doesn't work for multivariate data.\n"
   ]
  },
  {
   "cell_type": "code",
   "execution_count": null,
   "metadata": {
    "id": "Grx9RxNmv4pS"
   },
   "outputs": [],
   "source": [
    "# Setup dataset hyperparameters\n",
    "HORIZON=1\n",
    "WINDOW_SIZE=7"
   ]
  },
  {
   "cell_type": "code",
   "execution_count": null,
   "metadata": {
    "colab": {
     "base_uri": "https://localhost:8080/",
     "height": 394
    },
    "id": "7VpoDzIVwmak",
    "outputId": "62df4b47-fed8-4413-d112-15a8af570026"
   },
   "outputs": [
    {
     "data": {
      "text/html": [
       "\n",
       "  <div id=\"df-b08ed6eb-f1f9-4b36-b566-7cce50e7c50f\">\n",
       "    <div class=\"colab-df-container\">\n",
       "      <div>\n",
       "<style scoped>\n",
       "    .dataframe tbody tr th:only-of-type {\n",
       "        vertical-align: middle;\n",
       "    }\n",
       "\n",
       "    .dataframe tbody tr th {\n",
       "        vertical-align: top;\n",
       "    }\n",
       "\n",
       "    .dataframe thead th {\n",
       "        text-align: right;\n",
       "    }\n",
       "</style>\n",
       "<table border=\"1\" class=\"dataframe\">\n",
       "  <thead>\n",
       "    <tr style=\"text-align: right;\">\n",
       "      <th></th>\n",
       "      <th>Price</th>\n",
       "      <th>Block_reward</th>\n",
       "      <th>Price+1</th>\n",
       "      <th>Price+2</th>\n",
       "      <th>Price+3</th>\n",
       "      <th>Price+4</th>\n",
       "      <th>Price+5</th>\n",
       "      <th>Price+6</th>\n",
       "      <th>Price+7</th>\n",
       "    </tr>\n",
       "    <tr>\n",
       "      <th>Timestamp</th>\n",
       "      <th></th>\n",
       "      <th></th>\n",
       "      <th></th>\n",
       "      <th></th>\n",
       "      <th></th>\n",
       "      <th></th>\n",
       "      <th></th>\n",
       "      <th></th>\n",
       "      <th></th>\n",
       "    </tr>\n",
       "  </thead>\n",
       "  <tbody>\n",
       "    <tr>\n",
       "      <th>2014-01-01</th>\n",
       "      <td>754.90</td>\n",
       "      <td>25.0</td>\n",
       "      <td>NaN</td>\n",
       "      <td>NaN</td>\n",
       "      <td>NaN</td>\n",
       "      <td>NaN</td>\n",
       "      <td>NaN</td>\n",
       "      <td>NaN</td>\n",
       "      <td>NaN</td>\n",
       "    </tr>\n",
       "    <tr>\n",
       "      <th>2014-01-02</th>\n",
       "      <td>784.19</td>\n",
       "      <td>25.0</td>\n",
       "      <td>754.90</td>\n",
       "      <td>NaN</td>\n",
       "      <td>NaN</td>\n",
       "      <td>NaN</td>\n",
       "      <td>NaN</td>\n",
       "      <td>NaN</td>\n",
       "      <td>NaN</td>\n",
       "    </tr>\n",
       "    <tr>\n",
       "      <th>2014-01-03</th>\n",
       "      <td>809.40</td>\n",
       "      <td>25.0</td>\n",
       "      <td>784.19</td>\n",
       "      <td>754.90</td>\n",
       "      <td>NaN</td>\n",
       "      <td>NaN</td>\n",
       "      <td>NaN</td>\n",
       "      <td>NaN</td>\n",
       "      <td>NaN</td>\n",
       "    </tr>\n",
       "    <tr>\n",
       "      <th>2014-01-04</th>\n",
       "      <td>828.79</td>\n",
       "      <td>25.0</td>\n",
       "      <td>809.40</td>\n",
       "      <td>784.19</td>\n",
       "      <td>754.90</td>\n",
       "      <td>NaN</td>\n",
       "      <td>NaN</td>\n",
       "      <td>NaN</td>\n",
       "      <td>NaN</td>\n",
       "    </tr>\n",
       "    <tr>\n",
       "      <th>2014-01-05</th>\n",
       "      <td>905.00</td>\n",
       "      <td>25.0</td>\n",
       "      <td>828.79</td>\n",
       "      <td>809.40</td>\n",
       "      <td>784.19</td>\n",
       "      <td>754.90</td>\n",
       "      <td>NaN</td>\n",
       "      <td>NaN</td>\n",
       "      <td>NaN</td>\n",
       "    </tr>\n",
       "    <tr>\n",
       "      <th>2014-01-06</th>\n",
       "      <td>919.24</td>\n",
       "      <td>25.0</td>\n",
       "      <td>905.00</td>\n",
       "      <td>828.79</td>\n",
       "      <td>809.40</td>\n",
       "      <td>784.19</td>\n",
       "      <td>754.90</td>\n",
       "      <td>NaN</td>\n",
       "      <td>NaN</td>\n",
       "    </tr>\n",
       "    <tr>\n",
       "      <th>2014-01-07</th>\n",
       "      <td>785.00</td>\n",
       "      <td>25.0</td>\n",
       "      <td>919.24</td>\n",
       "      <td>905.00</td>\n",
       "      <td>828.79</td>\n",
       "      <td>809.40</td>\n",
       "      <td>784.19</td>\n",
       "      <td>754.90</td>\n",
       "      <td>NaN</td>\n",
       "    </tr>\n",
       "    <tr>\n",
       "      <th>2014-01-09</th>\n",
       "      <td>824.76</td>\n",
       "      <td>25.0</td>\n",
       "      <td>785.00</td>\n",
       "      <td>919.24</td>\n",
       "      <td>905.00</td>\n",
       "      <td>828.79</td>\n",
       "      <td>809.40</td>\n",
       "      <td>784.19</td>\n",
       "      <td>754.90</td>\n",
       "    </tr>\n",
       "    <tr>\n",
       "      <th>2014-01-10</th>\n",
       "      <td>852.61</td>\n",
       "      <td>25.0</td>\n",
       "      <td>824.76</td>\n",
       "      <td>785.00</td>\n",
       "      <td>919.24</td>\n",
       "      <td>905.00</td>\n",
       "      <td>828.79</td>\n",
       "      <td>809.40</td>\n",
       "      <td>784.19</td>\n",
       "    </tr>\n",
       "    <tr>\n",
       "      <th>2014-01-11</th>\n",
       "      <td>896.59</td>\n",
       "      <td>25.0</td>\n",
       "      <td>852.61</td>\n",
       "      <td>824.76</td>\n",
       "      <td>785.00</td>\n",
       "      <td>919.24</td>\n",
       "      <td>905.00</td>\n",
       "      <td>828.79</td>\n",
       "      <td>809.40</td>\n",
       "    </tr>\n",
       "  </tbody>\n",
       "</table>\n",
       "</div>\n",
       "      <button class=\"colab-df-convert\" onclick=\"convertToInteractive('df-b08ed6eb-f1f9-4b36-b566-7cce50e7c50f')\"\n",
       "              title=\"Convert this dataframe to an interactive table.\"\n",
       "              style=\"display:none;\">\n",
       "        \n",
       "  <svg xmlns=\"http://www.w3.org/2000/svg\" height=\"24px\"viewBox=\"0 0 24 24\"\n",
       "       width=\"24px\">\n",
       "    <path d=\"M0 0h24v24H0V0z\" fill=\"none\"/>\n",
       "    <path d=\"M18.56 5.44l.94 2.06.94-2.06 2.06-.94-2.06-.94-.94-2.06-.94 2.06-2.06.94zm-11 1L8.5 8.5l.94-2.06 2.06-.94-2.06-.94L8.5 2.5l-.94 2.06-2.06.94zm10 10l.94 2.06.94-2.06 2.06-.94-2.06-.94-.94-2.06-.94 2.06-2.06.94z\"/><path d=\"M17.41 7.96l-1.37-1.37c-.4-.4-.92-.59-1.43-.59-.52 0-1.04.2-1.43.59L10.3 9.45l-7.72 7.72c-.78.78-.78 2.05 0 2.83L4 21.41c.39.39.9.59 1.41.59.51 0 1.02-.2 1.41-.59l7.78-7.78 2.81-2.81c.8-.78.8-2.07 0-2.86zM5.41 20L4 18.59l7.72-7.72 1.47 1.35L5.41 20z\"/>\n",
       "  </svg>\n",
       "      </button>\n",
       "      \n",
       "  <style>\n",
       "    .colab-df-container {\n",
       "      display:flex;\n",
       "      flex-wrap:wrap;\n",
       "      gap: 12px;\n",
       "    }\n",
       "\n",
       "    .colab-df-convert {\n",
       "      background-color: #E8F0FE;\n",
       "      border: none;\n",
       "      border-radius: 50%;\n",
       "      cursor: pointer;\n",
       "      display: none;\n",
       "      fill: #1967D2;\n",
       "      height: 32px;\n",
       "      padding: 0 0 0 0;\n",
       "      width: 32px;\n",
       "    }\n",
       "\n",
       "    .colab-df-convert:hover {\n",
       "      background-color: #E2EBFA;\n",
       "      box-shadow: 0px 1px 2px rgba(60, 64, 67, 0.3), 0px 1px 3px 1px rgba(60, 64, 67, 0.15);\n",
       "      fill: #174EA6;\n",
       "    }\n",
       "\n",
       "    [theme=dark] .colab-df-convert {\n",
       "      background-color: #3B4455;\n",
       "      fill: #D2E3FC;\n",
       "    }\n",
       "\n",
       "    [theme=dark] .colab-df-convert:hover {\n",
       "      background-color: #434B5C;\n",
       "      box-shadow: 0px 1px 3px 1px rgba(0, 0, 0, 0.15);\n",
       "      filter: drop-shadow(0px 1px 2px rgba(0, 0, 0, 0.3));\n",
       "      fill: #FFFFFF;\n",
       "    }\n",
       "  </style>\n",
       "\n",
       "      <script>\n",
       "        const buttonEl =\n",
       "          document.querySelector('#df-b08ed6eb-f1f9-4b36-b566-7cce50e7c50f button.colab-df-convert');\n",
       "        buttonEl.style.display =\n",
       "          google.colab.kernel.accessAllowed ? 'block' : 'none';\n",
       "\n",
       "        async function convertToInteractive(key) {\n",
       "          const element = document.querySelector('#df-b08ed6eb-f1f9-4b36-b566-7cce50e7c50f');\n",
       "          const dataTable =\n",
       "            await google.colab.kernel.invokeFunction('convertToInteractive',\n",
       "                                                     [key], {});\n",
       "          if (!dataTable) return;\n",
       "\n",
       "          const docLinkHtml = 'Like what you see? Visit the ' +\n",
       "            '<a target=\"_blank\" href=https://colab.research.google.com/notebooks/data_table.ipynb>data table notebook</a>'\n",
       "            + ' to learn more about interactive tables.';\n",
       "          element.innerHTML = '';\n",
       "          dataTable['output_type'] = 'display_data';\n",
       "          await google.colab.output.renderOutput(dataTable, element);\n",
       "          const docLink = document.createElement('div');\n",
       "          docLink.innerHTML = docLinkHtml;\n",
       "          element.appendChild(docLink);\n",
       "        }\n",
       "      </script>\n",
       "    </div>\n",
       "  </div>\n",
       "  "
      ],
      "text/plain": [
       "             Price  Block_reward  Price+1  Price+2  Price+3  Price+4  Price+5  \\\n",
       "Timestamp                                                                       \n",
       "2014-01-01  754.90          25.0      NaN      NaN      NaN      NaN      NaN   \n",
       "2014-01-02  784.19          25.0   754.90      NaN      NaN      NaN      NaN   \n",
       "2014-01-03  809.40          25.0   784.19   754.90      NaN      NaN      NaN   \n",
       "2014-01-04  828.79          25.0   809.40   784.19   754.90      NaN      NaN   \n",
       "2014-01-05  905.00          25.0   828.79   809.40   784.19   754.90      NaN   \n",
       "2014-01-06  919.24          25.0   905.00   828.79   809.40   784.19   754.90   \n",
       "2014-01-07  785.00          25.0   919.24   905.00   828.79   809.40   784.19   \n",
       "2014-01-09  824.76          25.0   785.00   919.24   905.00   828.79   809.40   \n",
       "2014-01-10  852.61          25.0   824.76   785.00   919.24   905.00   828.79   \n",
       "2014-01-11  896.59          25.0   852.61   824.76   785.00   919.24   905.00   \n",
       "\n",
       "            Price+6  Price+7  \n",
       "Timestamp                     \n",
       "2014-01-01      NaN      NaN  \n",
       "2014-01-02      NaN      NaN  \n",
       "2014-01-03      NaN      NaN  \n",
       "2014-01-04      NaN      NaN  \n",
       "2014-01-05      NaN      NaN  \n",
       "2014-01-06      NaN      NaN  \n",
       "2014-01-07   754.90      NaN  \n",
       "2014-01-09   784.19   754.90  \n",
       "2014-01-10   809.40   784.19  \n",
       "2014-01-11   828.79   809.40  "
      ]
     },
     "execution_count": 179,
     "metadata": {},
     "output_type": "execute_result"
    }
   ],
   "source": [
    "#  Windows the dataset directly from the pandas dataframe\n",
    "\"\"\"\n",
    "  [0,1,2,3,4,5,6,block_reward] -> [7]\n",
    "  [1,2,3,4,5,6,7,block_reward] -> [8]\n",
    "\"\"\"\n",
    "btc_windowed_df = btc_blk_df.copy() # copy is needed to avoid pandas warning\n",
    "\n",
    "# Adds windowed columns\n",
    "for i in range(WINDOW_SIZE):\n",
    "  btc_windowed_df[f\"Price+{i+1}\"] = btc_blk_df[\"Price\"].shift(periods=i+1)\n",
    "btc_windowed_df.head(10)"
   ]
  },
  {
   "cell_type": "code",
   "execution_count": null,
   "metadata": {
    "colab": {
     "base_uri": "https://localhost:8080/"
    },
    "id": "A0psFyvvxbQF",
    "outputId": "f0ce1438-74a5-4dda-9865-cb5e8281dd55"
   },
   "outputs": [
    {
     "data": {
      "text/plain": [
       "(            Block_reward     Price+1     Price+2     Price+3     Price+4  \\\n",
       " Timestamp                                                                  \n",
       " 2014-01-09          25.0  785.000000  919.239990  905.000000  828.789978   \n",
       " 2014-01-10          25.0  824.760010  785.000000  919.239990  905.000000   \n",
       " 2014-01-11          25.0  852.609985  824.760010  785.000000  919.239990   \n",
       " 2014-01-12          25.0  896.590027  852.609985  824.760010  785.000000   \n",
       " 2014-01-13          25.0  844.049988  896.590027  852.609985  824.760010   \n",
       " \n",
       "                Price+5     Price+6     Price+7  \n",
       " Timestamp                                       \n",
       " 2014-01-09  809.400024  784.190002  754.900024  \n",
       " 2014-01-10  828.789978  809.400024  784.190002  \n",
       " 2014-01-11  905.000000  828.789978  809.400024  \n",
       " 2014-01-12  919.239990  905.000000  828.789978  \n",
       " 2014-01-13  785.000000  919.239990  905.000000  , Timestamp\n",
       " 2014-01-09    824.760010\n",
       " 2014-01-10    852.609985\n",
       " 2014-01-11    896.590027\n",
       " 2014-01-12    844.049988\n",
       " 2014-01-13    823.000000\n",
       " Name: Price, dtype: float32)"
      ]
     },
     "execution_count": 180,
     "metadata": {},
     "output_type": "execute_result"
    }
   ],
   "source": [
    "# Removing the rows with the missing values\n",
    "# Create X (windows) and Y (horizons) features\n",
    "x = btc_windowed_df.dropna().drop(\"Price\", axis=1).astype(np.float32) # windows\n",
    "y = btc_windowed_df.dropna()[\"Price\"].astype(np.float32) # labels\n",
    "x.head(), y.head()"
   ]
  },
  {
   "cell_type": "code",
   "execution_count": null,
   "metadata": {
    "id": "FhHpyy2x0DBD"
   },
   "outputs": [],
   "source": [
    "# Make train and test sets using indexing\n",
    "split_size = int(len(x) * 0.8)\n",
    "x_train, y_train = x[:split_size], y[:split_size]\n",
    "x_test, y_test = x[split_size:], y[split_size:]\n"
   ]
  },
  {
   "cell_type": "code",
   "execution_count": null,
   "metadata": {
    "colab": {
     "base_uri": "https://localhost:8080/"
    },
    "id": "-fL5jEa-0frT",
    "outputId": "610b2a45-0ac7-45e9-a472-935432aafd95"
   },
   "outputs": [
    {
     "name": "stdout",
     "output_type": "stream",
     "text": [
      "Epoch 1/100\n",
      " 1/14 [=>............................] - ETA: 6s - loss: 4722.0156 - mae: 4722.0156INFO:tensorflow:Assets written to: models/model_6_multivariate/assets\n"
     ]
    },
    {
     "name": "stderr",
     "output_type": "stream",
     "text": [
      "INFO:tensorflow:Assets written to: models/model_6_multivariate/assets\n"
     ]
    },
    {
     "name": "stdout",
     "output_type": "stream",
     "text": [
      "14/14 [==============================] - 1s 67ms/step - loss: 1664.6705 - mae: 1664.6705 - val_loss: 2853.5791 - val_mae: 2853.5791\n",
      "Epoch 2/100\n",
      " 1/14 [=>............................] - ETA: 0s - loss: 663.1874 - mae: 663.1874INFO:tensorflow:Assets written to: models/model_6_multivariate/assets\n"
     ]
    },
    {
     "name": "stderr",
     "output_type": "stream",
     "text": [
      "INFO:tensorflow:Assets written to: models/model_6_multivariate/assets\n"
     ]
    },
    {
     "name": "stdout",
     "output_type": "stream",
     "text": [
      "14/14 [==============================] - 1s 57ms/step - loss: 380.9536 - mae: 380.9536 - val_loss: 903.4773 - val_mae: 903.4773\n",
      "Epoch 3/100\n",
      "14/14 [==============================] - 0s 6ms/step - loss: 260.0276 - mae: 260.0276 - val_loss: 932.3580 - val_mae: 932.3580\n",
      "Epoch 4/100\n",
      "14/14 [==============================] - ETA: 0s - loss: 208.2210 - mae: 208.2210INFO:tensorflow:Assets written to: models/model_6_multivariate/assets\n"
     ]
    },
    {
     "name": "stderr",
     "output_type": "stream",
     "text": [
      "INFO:tensorflow:Assets written to: models/model_6_multivariate/assets\n"
     ]
    },
    {
     "name": "stdout",
     "output_type": "stream",
     "text": [
      "14/14 [==============================] - 1s 58ms/step - loss: 208.2210 - mae: 208.2210 - val_loss: 806.9494 - val_mae: 806.9494\n",
      "Epoch 5/100\n",
      " 1/14 [=>............................] - ETA: 0s - loss: 169.9901 - mae: 169.9901INFO:tensorflow:Assets written to: models/model_6_multivariate/assets\n"
     ]
    },
    {
     "name": "stderr",
     "output_type": "stream",
     "text": [
      "INFO:tensorflow:Assets written to: models/model_6_multivariate/assets\n"
     ]
    },
    {
     "name": "stdout",
     "output_type": "stream",
     "text": [
      "14/14 [==============================] - 1s 57ms/step - loss: 188.2608 - mae: 188.2608 - val_loss: 742.2965 - val_mae: 742.2965\n",
      "Epoch 6/100\n",
      " 1/14 [=>............................] - ETA: 0s - loss: 179.3373 - mae: 179.3373INFO:tensorflow:Assets written to: models/model_6_multivariate/assets\n"
     ]
    },
    {
     "name": "stderr",
     "output_type": "stream",
     "text": [
      "INFO:tensorflow:Assets written to: models/model_6_multivariate/assets\n"
     ]
    },
    {
     "name": "stdout",
     "output_type": "stream",
     "text": [
      "14/14 [==============================] - 1s 58ms/step - loss: 169.8540 - mae: 169.8540 - val_loss: 710.6755 - val_mae: 710.6755\n",
      "Epoch 7/100\n",
      "14/14 [==============================] - 0s 7ms/step - loss: 159.4001 - mae: 159.4001 - val_loss: 714.6719 - val_mae: 714.6719\n",
      "Epoch 8/100\n",
      " 1/14 [=>............................] - ETA: 0s - loss: 172.4552 - mae: 172.4552INFO:tensorflow:Assets written to: models/model_6_multivariate/assets\n"
     ]
    },
    {
     "name": "stderr",
     "output_type": "stream",
     "text": [
      "INFO:tensorflow:Assets written to: models/model_6_multivariate/assets\n"
     ]
    },
    {
     "name": "stdout",
     "output_type": "stream",
     "text": [
      "14/14 [==============================] - 1s 57ms/step - loss: 151.0546 - mae: 151.0546 - val_loss: 701.3104 - val_mae: 701.3104\n",
      "Epoch 9/100\n",
      "14/14 [==============================] - 0s 6ms/step - loss: 147.5343 - mae: 147.5343 - val_loss: 746.7619 - val_mae: 746.7619\n",
      "Epoch 10/100\n",
      "11/14 [======================>.......] - ETA: 0s - loss: 150.2635 - mae: 150.2635INFO:tensorflow:Assets written to: models/model_6_multivariate/assets\n"
     ]
    },
    {
     "name": "stderr",
     "output_type": "stream",
     "text": [
      "INFO:tensorflow:Assets written to: models/model_6_multivariate/assets\n"
     ]
    },
    {
     "name": "stdout",
     "output_type": "stream",
     "text": [
      "14/14 [==============================] - 1s 59ms/step - loss: 148.4816 - mae: 148.4816 - val_loss: 650.9011 - val_mae: 650.9011\n",
      "Epoch 11/100\n",
      "14/14 [==============================] - ETA: 0s - loss: 141.8549 - mae: 141.8549INFO:tensorflow:Assets written to: models/model_6_multivariate/assets\n"
     ]
    },
    {
     "name": "stderr",
     "output_type": "stream",
     "text": [
      "INFO:tensorflow:Assets written to: models/model_6_multivariate/assets\n"
     ]
    },
    {
     "name": "stdout",
     "output_type": "stream",
     "text": [
      "14/14 [==============================] - 1s 59ms/step - loss: 141.8549 - mae: 141.8549 - val_loss: 646.2353 - val_mae: 646.2353\n",
      "Epoch 12/100\n",
      "14/14 [==============================] - 0s 7ms/step - loss: 144.4275 - mae: 144.4275 - val_loss: 703.6052 - val_mae: 703.6052\n",
      "Epoch 13/100\n",
      " 1/14 [=>............................] - ETA: 0s - loss: 156.1834 - mae: 156.1834INFO:tensorflow:Assets written to: models/model_6_multivariate/assets\n"
     ]
    },
    {
     "name": "stderr",
     "output_type": "stream",
     "text": [
      "INFO:tensorflow:Assets written to: models/model_6_multivariate/assets\n"
     ]
    },
    {
     "name": "stdout",
     "output_type": "stream",
     "text": [
      "14/14 [==============================] - 1s 56ms/step - loss: 150.5231 - mae: 150.5231 - val_loss: 622.1036 - val_mae: 622.1036\n",
      "Epoch 14/100\n",
      "14/14 [==============================] - ETA: 0s - loss: 141.8803 - mae: 141.8803INFO:tensorflow:Assets written to: models/model_6_multivariate/assets\n"
     ]
    },
    {
     "name": "stderr",
     "output_type": "stream",
     "text": [
      "INFO:tensorflow:Assets written to: models/model_6_multivariate/assets\n"
     ]
    },
    {
     "name": "stdout",
     "output_type": "stream",
     "text": [
      "14/14 [==============================] - 1s 57ms/step - loss: 141.8803 - mae: 141.8803 - val_loss: 620.8207 - val_mae: 620.8207\n",
      "Epoch 15/100\n",
      "14/14 [==============================] - 0s 7ms/step - loss: 141.8348 - mae: 141.8348 - val_loss: 659.0938 - val_mae: 659.0938\n",
      "Epoch 16/100\n",
      "14/14 [==============================] - 0s 6ms/step - loss: 139.7112 - mae: 139.7112 - val_loss: 632.5565 - val_mae: 632.5565\n",
      "Epoch 17/100\n",
      "14/14 [==============================] - ETA: 0s - loss: 141.8528 - mae: 141.8528INFO:tensorflow:Assets written to: models/model_6_multivariate/assets\n"
     ]
    },
    {
     "name": "stderr",
     "output_type": "stream",
     "text": [
      "INFO:tensorflow:Assets written to: models/model_6_multivariate/assets\n"
     ]
    },
    {
     "name": "stdout",
     "output_type": "stream",
     "text": [
      "14/14 [==============================] - 1s 58ms/step - loss: 141.8528 - mae: 141.8528 - val_loss: 619.2538 - val_mae: 619.2538\n",
      "Epoch 18/100\n",
      " 1/14 [=>............................] - ETA: 0s - loss: 142.3178 - mae: 142.3178INFO:tensorflow:Assets written to: models/model_6_multivariate/assets\n"
     ]
    },
    {
     "name": "stderr",
     "output_type": "stream",
     "text": [
      "INFO:tensorflow:Assets written to: models/model_6_multivariate/assets\n"
     ]
    },
    {
     "name": "stdout",
     "output_type": "stream",
     "text": [
      "14/14 [==============================] - 1s 55ms/step - loss: 138.5913 - mae: 138.5913 - val_loss: 613.0410 - val_mae: 613.0410\n",
      "Epoch 19/100\n",
      "14/14 [==============================] - 0s 7ms/step - loss: 150.2802 - mae: 150.2802 - val_loss: 664.3789 - val_mae: 664.3789\n",
      "Epoch 20/100\n",
      "14/14 [==============================] - 0s 6ms/step - loss: 143.5255 - mae: 143.5255 - val_loss: 628.1452 - val_mae: 628.1452\n",
      "Epoch 21/100\n",
      " 1/14 [=>............................] - ETA: 0s - loss: 132.4749 - mae: 132.4749INFO:tensorflow:Assets written to: models/model_6_multivariate/assets\n"
     ]
    },
    {
     "name": "stderr",
     "output_type": "stream",
     "text": [
      "INFO:tensorflow:Assets written to: models/model_6_multivariate/assets\n"
     ]
    },
    {
     "name": "stdout",
     "output_type": "stream",
     "text": [
      "14/14 [==============================] - 1s 57ms/step - loss: 137.5202 - mae: 137.5202 - val_loss: 600.9904 - val_mae: 600.9904\n",
      "Epoch 22/100\n",
      "14/14 [==============================] - 0s 7ms/step - loss: 138.8326 - mae: 138.8326 - val_loss: 607.5034 - val_mae: 607.5034\n",
      "Epoch 23/100\n",
      "14/14 [==============================] - 0s 6ms/step - loss: 146.2579 - mae: 146.2579 - val_loss: 606.4139 - val_mae: 606.4139\n",
      "Epoch 24/100\n",
      "14/14 [==============================] - 0s 6ms/step - loss: 150.5128 - mae: 150.5128 - val_loss: 670.9826 - val_mae: 670.9826\n",
      "Epoch 25/100\n",
      "14/14 [==============================] - 0s 7ms/step - loss: 135.5896 - mae: 135.5896 - val_loss: 601.6369 - val_mae: 601.6369\n",
      "Epoch 26/100\n",
      "14/14 [==============================] - 0s 7ms/step - loss: 135.2020 - mae: 135.2020 - val_loss: 608.8314 - val_mae: 608.8314\n",
      "Epoch 27/100\n",
      " 1/14 [=>............................] - ETA: 0s - loss: 144.2347 - mae: 144.2347INFO:tensorflow:Assets written to: models/model_6_multivariate/assets\n"
     ]
    },
    {
     "name": "stderr",
     "output_type": "stream",
     "text": [
      "INFO:tensorflow:Assets written to: models/model_6_multivariate/assets\n"
     ]
    },
    {
     "name": "stdout",
     "output_type": "stream",
     "text": [
      "14/14 [==============================] - 1s 89ms/step - loss: 135.7666 - mae: 135.7666 - val_loss: 592.3569 - val_mae: 592.3569\n",
      "Epoch 28/100\n",
      "14/14 [==============================] - 0s 7ms/step - loss: 137.0217 - mae: 137.0217 - val_loss: 678.4568 - val_mae: 678.4568\n",
      "Epoch 29/100\n",
      "14/14 [==============================] - 0s 7ms/step - loss: 147.3989 - mae: 147.3989 - val_loss: 713.8589 - val_mae: 713.8589\n",
      "Epoch 30/100\n",
      " 1/14 [=>............................] - ETA: 0s - loss: 141.8109 - mae: 141.8109INFO:tensorflow:Assets written to: models/model_6_multivariate/assets\n"
     ]
    },
    {
     "name": "stderr",
     "output_type": "stream",
     "text": [
      "INFO:tensorflow:Assets written to: models/model_6_multivariate/assets\n"
     ]
    },
    {
     "name": "stdout",
     "output_type": "stream",
     "text": [
      "14/14 [==============================] - 1s 56ms/step - loss: 141.2391 - mae: 141.2391 - val_loss: 590.8990 - val_mae: 590.8990\n",
      "Epoch 31/100\n",
      "14/14 [==============================] - 0s 6ms/step - loss: 140.4270 - mae: 140.4270 - val_loss: 646.3834 - val_mae: 646.3834\n",
      "Epoch 32/100\n",
      "14/14 [==============================] - 0s 6ms/step - loss: 139.2978 - mae: 139.2978 - val_loss: 629.9029 - val_mae: 629.9029\n",
      "Epoch 33/100\n",
      "14/14 [==============================] - 0s 7ms/step - loss: 139.6836 - mae: 139.6836 - val_loss: 659.2035 - val_mae: 659.2035\n",
      "Epoch 34/100\n",
      "14/14 [==============================] - 0s 6ms/step - loss: 141.9372 - mae: 141.9372 - val_loss: 594.3145 - val_mae: 594.3145\n",
      "Epoch 35/100\n",
      " 1/14 [=>............................] - ETA: 0s - loss: 122.4991 - mae: 122.4991INFO:tensorflow:Assets written to: models/model_6_multivariate/assets\n"
     ]
    },
    {
     "name": "stderr",
     "output_type": "stream",
     "text": [
      "INFO:tensorflow:Assets written to: models/model_6_multivariate/assets\n"
     ]
    },
    {
     "name": "stdout",
     "output_type": "stream",
     "text": [
      "14/14 [==============================] - 1s 56ms/step - loss: 132.4200 - mae: 132.4200 - val_loss: 588.4839 - val_mae: 588.4839\n",
      "Epoch 36/100\n",
      "14/14 [==============================] - 0s 6ms/step - loss: 132.3066 - mae: 132.3066 - val_loss: 625.8398 - val_mae: 625.8398\n",
      "Epoch 37/100\n",
      "11/14 [======================>.......] - ETA: 0s - loss: 129.6709 - mae: 129.6709INFO:tensorflow:Assets written to: models/model_6_multivariate/assets\n"
     ]
    },
    {
     "name": "stderr",
     "output_type": "stream",
     "text": [
      "INFO:tensorflow:Assets written to: models/model_6_multivariate/assets\n"
     ]
    },
    {
     "name": "stdout",
     "output_type": "stream",
     "text": [
      "14/14 [==============================] - 1s 59ms/step - loss: 132.9449 - mae: 132.9449 - val_loss: 586.7679 - val_mae: 586.7679\n",
      "Epoch 38/100\n",
      "14/14 [==============================] - 0s 7ms/step - loss: 131.3973 - mae: 131.3973 - val_loss: 594.2787 - val_mae: 594.2787\n",
      "Epoch 39/100\n",
      "14/14 [==============================] - ETA: 0s - loss: 132.3660 - mae: 132.3660INFO:tensorflow:Assets written to: models/model_6_multivariate/assets\n"
     ]
    },
    {
     "name": "stderr",
     "output_type": "stream",
     "text": [
      "INFO:tensorflow:Assets written to: models/model_6_multivariate/assets\n"
     ]
    },
    {
     "name": "stdout",
     "output_type": "stream",
     "text": [
      "14/14 [==============================] - 1s 58ms/step - loss: 132.3660 - mae: 132.3660 - val_loss: 583.9753 - val_mae: 583.9753\n",
      "Epoch 40/100\n",
      "14/14 [==============================] - 0s 6ms/step - loss: 130.4908 - mae: 130.4908 - val_loss: 586.1899 - val_mae: 586.1899\n",
      "Epoch 41/100\n",
      "14/14 [==============================] - 0s 6ms/step - loss: 130.4931 - mae: 130.4931 - val_loss: 597.9796 - val_mae: 597.9796\n",
      "Epoch 42/100\n",
      "14/14 [==============================] - 0s 7ms/step - loss: 139.0201 - mae: 139.0201 - val_loss: 792.6824 - val_mae: 792.6824\n",
      "Epoch 43/100\n",
      "14/14 [==============================] - 0s 8ms/step - loss: 141.8969 - mae: 141.8969 - val_loss: 594.8047 - val_mae: 594.8047\n",
      "Epoch 44/100\n",
      "14/14 [==============================] - 0s 7ms/step - loss: 136.1419 - mae: 136.1419 - val_loss: 660.4113 - val_mae: 660.4113\n",
      "Epoch 45/100\n",
      " 1/14 [=>............................] - ETA: 0s - loss: 128.1483 - mae: 128.1483INFO:tensorflow:Assets written to: models/model_6_multivariate/assets\n"
     ]
    },
    {
     "name": "stderr",
     "output_type": "stream",
     "text": [
      "INFO:tensorflow:Assets written to: models/model_6_multivariate/assets\n"
     ]
    },
    {
     "name": "stdout",
     "output_type": "stream",
     "text": [
      "14/14 [==============================] - 1s 58ms/step - loss: 145.3924 - mae: 145.3924 - val_loss: 579.9916 - val_mae: 579.9916\n",
      "Epoch 46/100\n",
      "14/14 [==============================] - 0s 6ms/step - loss: 138.8629 - mae: 138.8629 - val_loss: 587.2500 - val_mae: 587.2500\n",
      "Epoch 47/100\n",
      "14/14 [==============================] - 0s 7ms/step - loss: 164.2287 - mae: 164.2287 - val_loss: 844.5879 - val_mae: 844.5879\n",
      "Epoch 48/100\n",
      " 1/14 [=>............................] - ETA: 0s - loss: 240.5826 - mae: 240.5826INFO:tensorflow:Assets written to: models/model_6_multivariate/assets\n"
     ]
    },
    {
     "name": "stderr",
     "output_type": "stream",
     "text": [
      "INFO:tensorflow:Assets written to: models/model_6_multivariate/assets\n"
     ]
    },
    {
     "name": "stdout",
     "output_type": "stream",
     "text": [
      "14/14 [==============================] - 1s 56ms/step - loss: 174.0870 - mae: 174.0870 - val_loss: 574.8292 - val_mae: 574.8292\n",
      "Epoch 49/100\n",
      "14/14 [==============================] - 0s 6ms/step - loss: 146.5021 - mae: 146.5021 - val_loss: 582.3984 - val_mae: 582.3984\n",
      "Epoch 50/100\n",
      "14/14 [==============================] - 0s 7ms/step - loss: 136.6007 - mae: 136.6007 - val_loss: 592.7776 - val_mae: 592.7776\n",
      "Epoch 51/100\n",
      "14/14 [==============================] - 0s 8ms/step - loss: 133.1944 - mae: 133.1944 - val_loss: 613.4579 - val_mae: 613.4579\n",
      "Epoch 52/100\n",
      "14/14 [==============================] - 0s 6ms/step - loss: 133.8255 - mae: 133.8255 - val_loss: 576.9481 - val_mae: 576.9481\n",
      "Epoch 53/100\n",
      "14/14 [==============================] - 0s 7ms/step - loss: 132.0508 - mae: 132.0508 - val_loss: 718.9019 - val_mae: 718.9019\n",
      "Epoch 54/100\n",
      "14/14 [==============================] - 0s 7ms/step - loss: 133.3262 - mae: 133.3262 - val_loss: 601.8124 - val_mae: 601.8124\n",
      "Epoch 55/100\n",
      "14/14 [==============================] - 0s 7ms/step - loss: 133.2626 - mae: 133.2626 - val_loss: 692.1622 - val_mae: 692.1622\n",
      "Epoch 56/100\n",
      " 1/14 [=>............................] - ETA: 0s - loss: 124.3100 - mae: 124.3100INFO:tensorflow:Assets written to: models/model_6_multivariate/assets\n"
     ]
    },
    {
     "name": "stderr",
     "output_type": "stream",
     "text": [
      "INFO:tensorflow:Assets written to: models/model_6_multivariate/assets\n"
     ]
    },
    {
     "name": "stdout",
     "output_type": "stream",
     "text": [
      "14/14 [==============================] - 1s 55ms/step - loss: 134.6321 - mae: 134.6321 - val_loss: 574.5074 - val_mae: 574.5074\n",
      "Epoch 57/100\n",
      "14/14 [==============================] - 0s 6ms/step - loss: 129.9545 - mae: 129.9545 - val_loss: 609.1415 - val_mae: 609.1415\n",
      "Epoch 58/100\n",
      "14/14 [==============================] - 0s 6ms/step - loss: 129.3819 - mae: 129.3819 - val_loss: 620.6880 - val_mae: 620.6880\n",
      "Epoch 59/100\n",
      "14/14 [==============================] - 0s 6ms/step - loss: 129.4659 - mae: 129.4659 - val_loss: 585.4573 - val_mae: 585.4573\n",
      "Epoch 60/100\n",
      " 1/14 [=>............................] - ETA: 0s - loss: 104.7673 - mae: 104.7673INFO:tensorflow:Assets written to: models/model_6_multivariate/assets\n"
     ]
    },
    {
     "name": "stderr",
     "output_type": "stream",
     "text": [
      "INFO:tensorflow:Assets written to: models/model_6_multivariate/assets\n"
     ]
    },
    {
     "name": "stdout",
     "output_type": "stream",
     "text": [
      "14/14 [==============================] - 1s 56ms/step - loss: 134.8370 - mae: 134.8370 - val_loss: 573.0924 - val_mae: 573.0924\n",
      "Epoch 61/100\n",
      "14/14 [==============================] - 0s 6ms/step - loss: 130.0036 - mae: 130.0036 - val_loss: 576.0202 - val_mae: 576.0202\n",
      "Epoch 62/100\n",
      "14/14 [==============================] - 0s 9ms/step - loss: 134.3845 - mae: 134.3845 - val_loss: 654.3719 - val_mae: 654.3719\n",
      "Epoch 63/100\n",
      "14/14 [==============================] - 0s 6ms/step - loss: 134.1791 - mae: 134.1791 - val_loss: 600.5419 - val_mae: 600.5419\n",
      "Epoch 64/100\n",
      "14/14 [==============================] - 0s 7ms/step - loss: 133.2120 - mae: 133.2120 - val_loss: 576.6777 - val_mae: 576.6777\n",
      "Epoch 65/100\n",
      "14/14 [==============================] - 0s 6ms/step - loss: 129.1147 - mae: 129.1147 - val_loss: 704.2703 - val_mae: 704.2703\n",
      "Epoch 66/100\n",
      " 1/14 [=>............................] - ETA: 0s - loss: 177.4953 - mae: 177.4953INFO:tensorflow:Assets written to: models/model_6_multivariate/assets\n"
     ]
    },
    {
     "name": "stderr",
     "output_type": "stream",
     "text": [
      "INFO:tensorflow:Assets written to: models/model_6_multivariate/assets\n"
     ]
    },
    {
     "name": "stdout",
     "output_type": "stream",
     "text": [
      "14/14 [==============================] - 1s 57ms/step - loss: 130.9791 - mae: 130.9791 - val_loss: 571.6816 - val_mae: 571.6816\n",
      "Epoch 67/100\n",
      "14/14 [==============================] - 0s 7ms/step - loss: 128.1152 - mae: 128.1152 - val_loss: 581.8458 - val_mae: 581.8458\n",
      "Epoch 68/100\n",
      "14/14 [==============================] - 0s 6ms/step - loss: 134.1891 - mae: 134.1891 - val_loss: 585.6915 - val_mae: 585.6915\n",
      "Epoch 69/100\n",
      "14/14 [==============================] - 0s 7ms/step - loss: 136.8459 - mae: 136.8459 - val_loss: 723.5985 - val_mae: 723.5985\n",
      "Epoch 70/100\n",
      "14/14 [==============================] - 0s 6ms/step - loss: 133.2160 - mae: 133.2160 - val_loss: 600.2916 - val_mae: 600.2916\n",
      "Epoch 71/100\n",
      " 1/14 [=>............................] - ETA: 0s - loss: 128.9763 - mae: 128.9763INFO:tensorflow:Assets written to: models/model_6_multivariate/assets\n"
     ]
    },
    {
     "name": "stderr",
     "output_type": "stream",
     "text": [
      "INFO:tensorflow:Assets written to: models/model_6_multivariate/assets\n"
     ]
    },
    {
     "name": "stdout",
     "output_type": "stream",
     "text": [
      "14/14 [==============================] - 1s 57ms/step - loss: 136.1790 - mae: 136.1790 - val_loss: 569.4994 - val_mae: 569.4994\n",
      "Epoch 72/100\n",
      "14/14 [==============================] - 0s 6ms/step - loss: 139.7676 - mae: 139.7676 - val_loss: 675.4498 - val_mae: 675.4498\n",
      "Epoch 73/100\n",
      "14/14 [==============================] - 0s 6ms/step - loss: 141.4134 - mae: 141.4134 - val_loss: 640.1417 - val_mae: 640.1417\n",
      "Epoch 74/100\n",
      " 1/14 [=>............................] - ETA: 0s - loss: 139.0228 - mae: 139.0228INFO:tensorflow:Assets written to: models/model_6_multivariate/assets\n"
     ]
    },
    {
     "name": "stderr",
     "output_type": "stream",
     "text": [
      "INFO:tensorflow:Assets written to: models/model_6_multivariate/assets\n"
     ]
    },
    {
     "name": "stdout",
     "output_type": "stream",
     "text": [
      "14/14 [==============================] - 1s 58ms/step - loss: 131.6112 - mae: 131.6112 - val_loss: 568.7466 - val_mae: 568.7466\n",
      "Epoch 75/100\n",
      "14/14 [==============================] - 0s 7ms/step - loss: 131.0955 - mae: 131.0955 - val_loss: 656.8320 - val_mae: 656.8320\n",
      "Epoch 76/100\n",
      "14/14 [==============================] - 0s 7ms/step - loss: 130.3638 - mae: 130.3638 - val_loss: 572.6025 - val_mae: 572.6025\n",
      "Epoch 77/100\n",
      "14/14 [==============================] - 0s 7ms/step - loss: 131.5488 - mae: 131.5488 - val_loss: 615.9517 - val_mae: 615.9517\n",
      "Epoch 78/100\n",
      "14/14 [==============================] - 0s 7ms/step - loss: 144.8930 - mae: 144.8930 - val_loss: 620.6269 - val_mae: 620.6269\n",
      "Epoch 79/100\n",
      "14/14 [==============================] - 0s 7ms/step - loss: 146.5535 - mae: 146.5535 - val_loss: 596.0645 - val_mae: 596.0645\n",
      "Epoch 80/100\n",
      "14/14 [==============================] - 0s 8ms/step - loss: 138.1514 - mae: 138.1514 - val_loss: 633.9855 - val_mae: 633.9855\n",
      "Epoch 81/100\n",
      "14/14 [==============================] - 0s 6ms/step - loss: 143.6875 - mae: 143.6875 - val_loss: 922.9302 - val_mae: 922.9302\n",
      "Epoch 82/100\n",
      "14/14 [==============================] - 0s 6ms/step - loss: 165.4160 - mae: 165.4160 - val_loss: 754.4176 - val_mae: 754.4176\n",
      "Epoch 83/100\n",
      "14/14 [==============================] - 0s 6ms/step - loss: 154.2443 - mae: 154.2443 - val_loss: 581.9835 - val_mae: 581.9835\n",
      "Epoch 84/100\n",
      "14/14 [==============================] - 0s 6ms/step - loss: 135.3261 - mae: 135.3261 - val_loss: 604.8523 - val_mae: 604.8523\n",
      "Epoch 85/100\n",
      "14/14 [==============================] - 0s 6ms/step - loss: 128.2219 - mae: 128.2219 - val_loss: 633.1179 - val_mae: 633.1179\n",
      "Epoch 86/100\n",
      "14/14 [==============================] - 0s 7ms/step - loss: 130.9857 - mae: 130.9857 - val_loss: 668.7012 - val_mae: 668.7012\n",
      "Epoch 87/100\n",
      "14/14 [==============================] - 0s 6ms/step - loss: 129.0006 - mae: 129.0006 - val_loss: 582.9872 - val_mae: 582.9872\n",
      "Epoch 88/100\n",
      "14/14 [==============================] - 0s 6ms/step - loss: 131.5920 - mae: 131.5920 - val_loss: 571.5156 - val_mae: 571.5156\n",
      "Epoch 89/100\n",
      " 1/14 [=>............................] - ETA: 0s - loss: 142.9320 - mae: 142.9320INFO:tensorflow:Assets written to: models/model_6_multivariate/assets\n"
     ]
    },
    {
     "name": "stderr",
     "output_type": "stream",
     "text": [
      "INFO:tensorflow:Assets written to: models/model_6_multivariate/assets\n"
     ]
    },
    {
     "name": "stdout",
     "output_type": "stream",
     "text": [
      "14/14 [==============================] - 1s 58ms/step - loss: 126.1360 - mae: 126.1360 - val_loss: 567.5917 - val_mae: 567.5917\n",
      "Epoch 90/100\n",
      "14/14 [==============================] - 0s 7ms/step - loss: 128.5615 - mae: 128.5615 - val_loss: 625.6862 - val_mae: 625.6862\n",
      "Epoch 91/100\n",
      "14/14 [==============================] - 0s 7ms/step - loss: 132.0071 - mae: 132.0071 - val_loss: 666.4282 - val_mae: 666.4282\n",
      "Epoch 92/100\n",
      "14/14 [==============================] - 0s 7ms/step - loss: 133.1182 - mae: 133.1182 - val_loss: 567.9746 - val_mae: 567.9746\n",
      "Epoch 93/100\n",
      "14/14 [==============================] - 0s 7ms/step - loss: 131.1450 - mae: 131.1450 - val_loss: 641.3860 - val_mae: 641.3860\n",
      "Epoch 94/100\n",
      "14/14 [==============================] - 0s 8ms/step - loss: 137.4610 - mae: 137.4610 - val_loss: 600.2836 - val_mae: 600.2836\n",
      "Epoch 95/100\n",
      "14/14 [==============================] - 0s 6ms/step - loss: 129.2387 - mae: 129.2387 - val_loss: 589.6412 - val_mae: 589.6412\n",
      "Epoch 96/100\n",
      "14/14 [==============================] - 0s 8ms/step - loss: 127.9718 - mae: 127.9718 - val_loss: 568.1411 - val_mae: 568.1411\n",
      "Epoch 97/100\n",
      "14/14 [==============================] - 0s 7ms/step - loss: 128.2337 - mae: 128.2337 - val_loss: 660.5881 - val_mae: 660.5881\n",
      "Epoch 98/100\n",
      "14/14 [==============================] - 0s 7ms/step - loss: 128.3860 - mae: 128.3860 - val_loss: 575.9090 - val_mae: 575.9090\n",
      "Epoch 99/100\n",
      "14/14 [==============================] - 0s 7ms/step - loss: 125.9375 - mae: 125.9375 - val_loss: 576.5247 - val_mae: 576.5247\n",
      "Epoch 100/100\n",
      "14/14 [==============================] - ETA: 0s - loss: 126.8940 - mae: 126.8940INFO:tensorflow:Assets written to: models/model_6_multivariate/assets\n"
     ]
    },
    {
     "name": "stderr",
     "output_type": "stream",
     "text": [
      "INFO:tensorflow:Assets written to: models/model_6_multivariate/assets\n"
     ]
    },
    {
     "name": "stdout",
     "output_type": "stream",
     "text": [
      "14/14 [==============================] - 1s 59ms/step - loss: 126.8940 - mae: 126.8940 - val_loss: 566.6452 - val_mae: 566.6452\n"
     ]
    },
    {
     "data": {
      "text/plain": [
       "<keras.callbacks.History at 0x7f3d40573a10>"
      ]
     },
     "execution_count": 182,
     "metadata": {},
     "output_type": "execute_result"
    }
   ],
   "source": [
    "# Make model6\n",
    "model_6 = tf.keras.Sequential([\n",
    "  layers.Dense(128, activation=\"relu\"),\n",
    "  layers.Dense(128, activation=\"relu\"), # upgrading the model performance\n",
    "  layers.Dense(HORIZON)\n",
    "], name='model_6_multivariate')\n",
    "\n",
    "model_6.compile(\n",
    "    loss = \"mae\",\n",
    "    optimizer=tf.keras.optimizers.Adam(),\n",
    "    metrics = \"mae\"\n",
    ")\n",
    "\n",
    "model_6.fit(x=x_train,\n",
    "            y=y_train,\n",
    "            epochs=100,\n",
    "            verbose=1,\n",
    "            batch_size=128,\n",
    "            validation_data=(x_test, y_test),\n",
    "            callbacks=[create_model_checkpoint(model_name=model_6.name)]\n",
    "            )\n",
    "\n"
   ]
  },
  {
   "cell_type": "code",
   "execution_count": null,
   "metadata": {
    "colab": {
     "base_uri": "https://localhost:8080/"
    },
    "id": "yjrNXQGD0_Yl",
    "outputId": "bf69ae61-2731-418d-aed8-156f37e194fa"
   },
   "outputs": [
    {
     "name": "stdout",
     "output_type": "stream",
     "text": [
      "14/14 [==============================] - 0s 3ms/step - loss: 566.6452 - mae: 566.6452\n"
     ]
    },
    {
     "data": {
      "text/plain": [
       "[566.6452026367188, 566.6452026367188]"
      ]
     },
     "execution_count": 183,
     "metadata": {},
     "output_type": "execute_result"
    }
   ],
   "source": [
    "model_6.evaluate(x_test, y_test)"
   ]
  },
  {
   "cell_type": "code",
   "execution_count": null,
   "metadata": {
    "colab": {
     "base_uri": "https://localhost:8080/"
    },
    "id": "KQmcNeWS3i-D",
    "outputId": "07f20837-ac0d-41d7-cb73-8bba9c056f71"
   },
   "outputs": [
    {
     "name": "stdout",
     "output_type": "stream",
     "text": [
      "14/14 [==============================] - 0s 3ms/step - loss: 566.6452 - mae: 566.6452\n"
     ]
    },
    {
     "data": {
      "text/plain": [
       "[566.6452026367188, 566.6452026367188]"
      ]
     },
     "execution_count": 184,
     "metadata": {},
     "output_type": "execute_result"
    }
   ],
   "source": [
    "model_6 = tf.keras.models.load_model(\"models/model_6_multivariate\")\n",
    "model_6.evaluate(x_test, y_test)"
   ]
  },
  {
   "cell_type": "code",
   "execution_count": null,
   "metadata": {
    "colab": {
     "base_uri": "https://localhost:8080/"
    },
    "id": "oMQtQu1D3quW",
    "outputId": "18068d13-385f-405e-d132-867ad6d009cf"
   },
   "outputs": [
    {
     "data": {
      "text/plain": [
       "{'mae': 566.6452,\n",
       " 'mape': 2.8200758,\n",
       " 'mase': 0.99867654,\n",
       " 'mse': 1348993.0,\n",
       " 'rmse': 1161.4615}"
      ]
     },
     "execution_count": 185,
     "metadata": {},
     "output_type": "execute_result"
    }
   ],
   "source": [
    "# Make predictions\n",
    "\n",
    "model_6_preds = tf.squeeze(model_6.predict(x_test))\n",
    "model_6_results = evaluate_preds(y_true=y_test, y_pred=model_6_preds)\n",
    "model_6_results"
   ]
  },
  {
   "cell_type": "code",
   "execution_count": 120,
   "metadata": {
    "colab": {
     "base_uri": "https://localhost:8080/"
    },
    "id": "q8_4Y_kg4c3j",
    "outputId": "cc456c4d-461c-43d7-b7b8-0d2f415fd6e3"
   },
   "outputs": [
    {
     "name": "stdout",
     "output_type": "stream",
     "text": [
      "--2022-05-10 01:53:44--  https://raw.githubusercontent.com/mlee687/CS470_AI-auto-trading/main/daily_multi.csv\n",
      "Resolving raw.githubusercontent.com (raw.githubusercontent.com)... 185.199.108.133, 185.199.109.133, 185.199.110.133, ...\n",
      "Connecting to raw.githubusercontent.com (raw.githubusercontent.com)|185.199.108.133|:443... connected.\n",
      "HTTP request sent, awaiting response... 200 OK\n",
      "Length: 150707 (147K) [text/plain]\n",
      "Saving to: ‘daily_multi.csv’\n",
      "\n",
      "daily_multi.csv     100%[===================>] 147.17K  --.-KB/s    in 0.003s  \n",
      "\n",
      "2022-05-10 01:53:44 (57.2 MB/s) - ‘daily_multi.csv’ saved [150707/150707]\n",
      "\n"
     ]
    }
   ],
   "source": [
    "!wget https://raw.githubusercontent.com/mlee687/CS470_AI-auto-trading/main/daily_multi.csv"
   ]
  },
  {
   "cell_type": "code",
   "execution_count": 121,
   "metadata": {
    "colab": {
     "base_uri": "https://localhost:8080/"
    },
    "id": "oHcwpLqO8Wcd",
    "outputId": "0354bf81-c8d0-47b3-9ee6-efbf199b599e"
   },
   "outputs": [
    {
     "data": {
      "text/plain": [
       "(            BTC_Volume  CURRENCY_Volume  Daily_Open   Price  Daily_High  \\\n",
       " Timestamp                                                                 \n",
       " 2014-01-01   54.537393      41030.73303      732.00  754.90      757.99   \n",
       " 2014-01-02  473.353037     370482.78250      732.00  784.19      798.70   \n",
       " 2014-01-03   22.080903      17831.05554      784.19  809.40      818.99   \n",
       " 2014-01-04  513.010428     425028.52890      784.19  828.79      830.00   \n",
       " 2014-01-05    4.497195       4069.64165      828.79  905.00      948.00   \n",
       " \n",
       "             Daily_Low  \n",
       " Timestamp              \n",
       " 2014-01-01     729.01  \n",
       " 2014-01-02     729.01  \n",
       " 2014-01-03     767.62  \n",
       " 2014-01-04     767.62  \n",
       " 2014-01-05     826.07  ,\n",
       "             BTC_Volume  CURRENCY_Volume  Daily_Open     Price  Daily_High  \\\n",
       " Timestamp                                                                   \n",
       " 2021-03-26    1.432076     7.886414e+04    52704.74  52734.30    55114.86   \n",
       " 2021-03-27   35.303980     1.975370e+06    54511.41  54508.16    56686.15   \n",
       " 2021-03-28   47.089763     2.622254e+06    55852.64  55871.93    56470.00   \n",
       " 2021-03-29   29.981372     1.728355e+06    57817.09  57788.15    58402.68   \n",
       " 2021-03-30   67.667610     3.968835e+06    59072.35  59069.29    59388.66   \n",
       " \n",
       "             Daily_Low  \n",
       " Timestamp              \n",
       " 2021-03-26   52489.10  \n",
       " 2021-03-27   53948.35  \n",
       " 2021-03-28   54677.51  \n",
       " 2021-03-29   57091.37  \n",
       " 2021-03-30   58402.82  )"
      ]
     },
     "execution_count": 121,
     "metadata": {},
     "output_type": "execute_result"
    }
   ],
   "source": [
    "# Import with pandas \n",
    "import pandas as pd\n",
    "# Parse dates and set date column to index\n",
    "df = pd.read_csv(\"/content/daily_multi.csv\", parse_dates=[\"Timestamp\"])\n",
    "df.rename(columns = {\"Daily_Close\": \"Price\"}, inplace = True)\n",
    "df['Timestamp'] = pd.to_datetime(df['Timestamp'].dt.date)\n",
    "btc_df = df.set_index('Timestamp')\n",
    "btc_df.head(), btc_df.tail()"
   ]
  },
  {
   "cell_type": "code",
   "execution_count": 123,
   "metadata": {
    "colab": {
     "base_uri": "https://localhost:8080/",
     "height": 394
    },
    "id": "-TFPBN5B8qGA",
    "outputId": "628b6e43-3640-475a-9b18-7904737856b0"
   },
   "outputs": [
    {
     "data": {
      "text/html": [
       "\n",
       "  <div id=\"df-9cd8e499-15f7-4532-8039-5de202877cad\">\n",
       "    <div class=\"colab-df-container\">\n",
       "      <div>\n",
       "<style scoped>\n",
       "    .dataframe tbody tr th:only-of-type {\n",
       "        vertical-align: middle;\n",
       "    }\n",
       "\n",
       "    .dataframe tbody tr th {\n",
       "        vertical-align: top;\n",
       "    }\n",
       "\n",
       "    .dataframe thead th {\n",
       "        text-align: right;\n",
       "    }\n",
       "</style>\n",
       "<table border=\"1\" class=\"dataframe\">\n",
       "  <thead>\n",
       "    <tr style=\"text-align: right;\">\n",
       "      <th></th>\n",
       "      <th>BTC_Volume</th>\n",
       "      <th>CURRENCY_Volume</th>\n",
       "      <th>Daily_Open</th>\n",
       "      <th>Price</th>\n",
       "      <th>Daily_High</th>\n",
       "      <th>Daily_Low</th>\n",
       "      <th>Price+1</th>\n",
       "      <th>Price+2</th>\n",
       "      <th>Price+3</th>\n",
       "      <th>Price+4</th>\n",
       "      <th>Price+5</th>\n",
       "      <th>Price+6</th>\n",
       "      <th>Price+7</th>\n",
       "    </tr>\n",
       "    <tr>\n",
       "      <th>Timestamp</th>\n",
       "      <th></th>\n",
       "      <th></th>\n",
       "      <th></th>\n",
       "      <th></th>\n",
       "      <th></th>\n",
       "      <th></th>\n",
       "      <th></th>\n",
       "      <th></th>\n",
       "      <th></th>\n",
       "      <th></th>\n",
       "      <th></th>\n",
       "      <th></th>\n",
       "      <th></th>\n",
       "    </tr>\n",
       "  </thead>\n",
       "  <tbody>\n",
       "    <tr>\n",
       "      <th>2014-01-01</th>\n",
       "      <td>54.537393</td>\n",
       "      <td>4.103073e+04</td>\n",
       "      <td>732.00</td>\n",
       "      <td>754.90</td>\n",
       "      <td>757.99</td>\n",
       "      <td>729.01</td>\n",
       "      <td>NaN</td>\n",
       "      <td>NaN</td>\n",
       "      <td>NaN</td>\n",
       "      <td>NaN</td>\n",
       "      <td>NaN</td>\n",
       "      <td>NaN</td>\n",
       "      <td>NaN</td>\n",
       "    </tr>\n",
       "    <tr>\n",
       "      <th>2014-01-02</th>\n",
       "      <td>473.353037</td>\n",
       "      <td>3.704828e+05</td>\n",
       "      <td>732.00</td>\n",
       "      <td>784.19</td>\n",
       "      <td>798.70</td>\n",
       "      <td>729.01</td>\n",
       "      <td>754.90</td>\n",
       "      <td>NaN</td>\n",
       "      <td>NaN</td>\n",
       "      <td>NaN</td>\n",
       "      <td>NaN</td>\n",
       "      <td>NaN</td>\n",
       "      <td>NaN</td>\n",
       "    </tr>\n",
       "    <tr>\n",
       "      <th>2014-01-03</th>\n",
       "      <td>22.080903</td>\n",
       "      <td>1.783106e+04</td>\n",
       "      <td>784.19</td>\n",
       "      <td>809.40</td>\n",
       "      <td>818.99</td>\n",
       "      <td>767.62</td>\n",
       "      <td>784.19</td>\n",
       "      <td>754.90</td>\n",
       "      <td>NaN</td>\n",
       "      <td>NaN</td>\n",
       "      <td>NaN</td>\n",
       "      <td>NaN</td>\n",
       "      <td>NaN</td>\n",
       "    </tr>\n",
       "    <tr>\n",
       "      <th>2014-01-04</th>\n",
       "      <td>513.010428</td>\n",
       "      <td>4.250285e+05</td>\n",
       "      <td>784.19</td>\n",
       "      <td>828.79</td>\n",
       "      <td>830.00</td>\n",
       "      <td>767.62</td>\n",
       "      <td>809.40</td>\n",
       "      <td>784.19</td>\n",
       "      <td>754.90</td>\n",
       "      <td>NaN</td>\n",
       "      <td>NaN</td>\n",
       "      <td>NaN</td>\n",
       "      <td>NaN</td>\n",
       "    </tr>\n",
       "    <tr>\n",
       "      <th>2014-01-05</th>\n",
       "      <td>4.497195</td>\n",
       "      <td>4.069642e+03</td>\n",
       "      <td>828.79</td>\n",
       "      <td>905.00</td>\n",
       "      <td>948.00</td>\n",
       "      <td>826.07</td>\n",
       "      <td>828.79</td>\n",
       "      <td>809.40</td>\n",
       "      <td>784.19</td>\n",
       "      <td>754.90</td>\n",
       "      <td>NaN</td>\n",
       "      <td>NaN</td>\n",
       "      <td>NaN</td>\n",
       "    </tr>\n",
       "    <tr>\n",
       "      <th>2014-01-06</th>\n",
       "      <td>241.609301</td>\n",
       "      <td>2.206829e+05</td>\n",
       "      <td>905.00</td>\n",
       "      <td>919.24</td>\n",
       "      <td>995.00</td>\n",
       "      <td>876.00</td>\n",
       "      <td>905.00</td>\n",
       "      <td>828.79</td>\n",
       "      <td>809.40</td>\n",
       "      <td>784.19</td>\n",
       "      <td>754.90</td>\n",
       "      <td>NaN</td>\n",
       "      <td>NaN</td>\n",
       "    </tr>\n",
       "    <tr>\n",
       "      <th>2014-01-07</th>\n",
       "      <td>1886.630033</td>\n",
       "      <td>1.515490e+06</td>\n",
       "      <td>915.80</td>\n",
       "      <td>785.00</td>\n",
       "      <td>943.00</td>\n",
       "      <td>785.00</td>\n",
       "      <td>919.24</td>\n",
       "      <td>905.00</td>\n",
       "      <td>828.79</td>\n",
       "      <td>809.40</td>\n",
       "      <td>784.19</td>\n",
       "      <td>754.90</td>\n",
       "      <td>NaN</td>\n",
       "    </tr>\n",
       "    <tr>\n",
       "      <th>2014-01-09</th>\n",
       "      <td>667.490877</td>\n",
       "      <td>5.533121e+05</td>\n",
       "      <td>823.94</td>\n",
       "      <td>824.76</td>\n",
       "      <td>848.00</td>\n",
       "      <td>779.78</td>\n",
       "      <td>785.00</td>\n",
       "      <td>919.24</td>\n",
       "      <td>905.00</td>\n",
       "      <td>828.79</td>\n",
       "      <td>809.40</td>\n",
       "      <td>784.19</td>\n",
       "      <td>754.90</td>\n",
       "    </tr>\n",
       "    <tr>\n",
       "      <th>2014-01-10</th>\n",
       "      <td>7.394014</td>\n",
       "      <td>6.315893e+03</td>\n",
       "      <td>825.50</td>\n",
       "      <td>852.61</td>\n",
       "      <td>861.40</td>\n",
       "      <td>799.41</td>\n",
       "      <td>824.76</td>\n",
       "      <td>785.00</td>\n",
       "      <td>919.24</td>\n",
       "      <td>905.00</td>\n",
       "      <td>828.79</td>\n",
       "      <td>809.40</td>\n",
       "      <td>784.19</td>\n",
       "    </tr>\n",
       "    <tr>\n",
       "      <th>2014-01-11</th>\n",
       "      <td>245.935738</td>\n",
       "      <td>2.196137e+05</td>\n",
       "      <td>851.63</td>\n",
       "      <td>896.59</td>\n",
       "      <td>909.96</td>\n",
       "      <td>849.51</td>\n",
       "      <td>852.61</td>\n",
       "      <td>824.76</td>\n",
       "      <td>785.00</td>\n",
       "      <td>919.24</td>\n",
       "      <td>905.00</td>\n",
       "      <td>828.79</td>\n",
       "      <td>809.40</td>\n",
       "    </tr>\n",
       "  </tbody>\n",
       "</table>\n",
       "</div>\n",
       "      <button class=\"colab-df-convert\" onclick=\"convertToInteractive('df-9cd8e499-15f7-4532-8039-5de202877cad')\"\n",
       "              title=\"Convert this dataframe to an interactive table.\"\n",
       "              style=\"display:none;\">\n",
       "        \n",
       "  <svg xmlns=\"http://www.w3.org/2000/svg\" height=\"24px\"viewBox=\"0 0 24 24\"\n",
       "       width=\"24px\">\n",
       "    <path d=\"M0 0h24v24H0V0z\" fill=\"none\"/>\n",
       "    <path d=\"M18.56 5.44l.94 2.06.94-2.06 2.06-.94-2.06-.94-.94-2.06-.94 2.06-2.06.94zm-11 1L8.5 8.5l.94-2.06 2.06-.94-2.06-.94L8.5 2.5l-.94 2.06-2.06.94zm10 10l.94 2.06.94-2.06 2.06-.94-2.06-.94-.94-2.06-.94 2.06-2.06.94z\"/><path d=\"M17.41 7.96l-1.37-1.37c-.4-.4-.92-.59-1.43-.59-.52 0-1.04.2-1.43.59L10.3 9.45l-7.72 7.72c-.78.78-.78 2.05 0 2.83L4 21.41c.39.39.9.59 1.41.59.51 0 1.02-.2 1.41-.59l7.78-7.78 2.81-2.81c.8-.78.8-2.07 0-2.86zM5.41 20L4 18.59l7.72-7.72 1.47 1.35L5.41 20z\"/>\n",
       "  </svg>\n",
       "      </button>\n",
       "      \n",
       "  <style>\n",
       "    .colab-df-container {\n",
       "      display:flex;\n",
       "      flex-wrap:wrap;\n",
       "      gap: 12px;\n",
       "    }\n",
       "\n",
       "    .colab-df-convert {\n",
       "      background-color: #E8F0FE;\n",
       "      border: none;\n",
       "      border-radius: 50%;\n",
       "      cursor: pointer;\n",
       "      display: none;\n",
       "      fill: #1967D2;\n",
       "      height: 32px;\n",
       "      padding: 0 0 0 0;\n",
       "      width: 32px;\n",
       "    }\n",
       "\n",
       "    .colab-df-convert:hover {\n",
       "      background-color: #E2EBFA;\n",
       "      box-shadow: 0px 1px 2px rgba(60, 64, 67, 0.3), 0px 1px 3px 1px rgba(60, 64, 67, 0.15);\n",
       "      fill: #174EA6;\n",
       "    }\n",
       "\n",
       "    [theme=dark] .colab-df-convert {\n",
       "      background-color: #3B4455;\n",
       "      fill: #D2E3FC;\n",
       "    }\n",
       "\n",
       "    [theme=dark] .colab-df-convert:hover {\n",
       "      background-color: #434B5C;\n",
       "      box-shadow: 0px 1px 3px 1px rgba(0, 0, 0, 0.15);\n",
       "      filter: drop-shadow(0px 1px 2px rgba(0, 0, 0, 0.3));\n",
       "      fill: #FFFFFF;\n",
       "    }\n",
       "  </style>\n",
       "\n",
       "      <script>\n",
       "        const buttonEl =\n",
       "          document.querySelector('#df-9cd8e499-15f7-4532-8039-5de202877cad button.colab-df-convert');\n",
       "        buttonEl.style.display =\n",
       "          google.colab.kernel.accessAllowed ? 'block' : 'none';\n",
       "\n",
       "        async function convertToInteractive(key) {\n",
       "          const element = document.querySelector('#df-9cd8e499-15f7-4532-8039-5de202877cad');\n",
       "          const dataTable =\n",
       "            await google.colab.kernel.invokeFunction('convertToInteractive',\n",
       "                                                     [key], {});\n",
       "          if (!dataTable) return;\n",
       "\n",
       "          const docLinkHtml = 'Like what you see? Visit the ' +\n",
       "            '<a target=\"_blank\" href=https://colab.research.google.com/notebooks/data_table.ipynb>data table notebook</a>'\n",
       "            + ' to learn more about interactive tables.';\n",
       "          element.innerHTML = '';\n",
       "          dataTable['output_type'] = 'display_data';\n",
       "          await google.colab.output.renderOutput(dataTable, element);\n",
       "          const docLink = document.createElement('div');\n",
       "          docLink.innerHTML = docLinkHtml;\n",
       "          element.appendChild(docLink);\n",
       "        }\n",
       "      </script>\n",
       "    </div>\n",
       "  </div>\n",
       "  "
      ],
      "text/plain": [
       "             BTC_Volume  CURRENCY_Volume  Daily_Open   Price  Daily_High  \\\n",
       "Timestamp                                                                  \n",
       "2014-01-01    54.537393     4.103073e+04      732.00  754.90      757.99   \n",
       "2014-01-02   473.353037     3.704828e+05      732.00  784.19      798.70   \n",
       "2014-01-03    22.080903     1.783106e+04      784.19  809.40      818.99   \n",
       "2014-01-04   513.010428     4.250285e+05      784.19  828.79      830.00   \n",
       "2014-01-05     4.497195     4.069642e+03      828.79  905.00      948.00   \n",
       "2014-01-06   241.609301     2.206829e+05      905.00  919.24      995.00   \n",
       "2014-01-07  1886.630033     1.515490e+06      915.80  785.00      943.00   \n",
       "2014-01-09   667.490877     5.533121e+05      823.94  824.76      848.00   \n",
       "2014-01-10     7.394014     6.315893e+03      825.50  852.61      861.40   \n",
       "2014-01-11   245.935738     2.196137e+05      851.63  896.59      909.96   \n",
       "\n",
       "            Daily_Low  Price+1  Price+2  Price+3  Price+4  Price+5  Price+6  \\\n",
       "Timestamp                                                                     \n",
       "2014-01-01     729.01      NaN      NaN      NaN      NaN      NaN      NaN   \n",
       "2014-01-02     729.01   754.90      NaN      NaN      NaN      NaN      NaN   \n",
       "2014-01-03     767.62   784.19   754.90      NaN      NaN      NaN      NaN   \n",
       "2014-01-04     767.62   809.40   784.19   754.90      NaN      NaN      NaN   \n",
       "2014-01-05     826.07   828.79   809.40   784.19   754.90      NaN      NaN   \n",
       "2014-01-06     876.00   905.00   828.79   809.40   784.19   754.90      NaN   \n",
       "2014-01-07     785.00   919.24   905.00   828.79   809.40   784.19   754.90   \n",
       "2014-01-09     779.78   785.00   919.24   905.00   828.79   809.40   784.19   \n",
       "2014-01-10     799.41   824.76   785.00   919.24   905.00   828.79   809.40   \n",
       "2014-01-11     849.51   852.61   824.76   785.00   919.24   905.00   828.79   \n",
       "\n",
       "            Price+7  \n",
       "Timestamp            \n",
       "2014-01-01      NaN  \n",
       "2014-01-02      NaN  \n",
       "2014-01-03      NaN  \n",
       "2014-01-04      NaN  \n",
       "2014-01-05      NaN  \n",
       "2014-01-06      NaN  \n",
       "2014-01-07      NaN  \n",
       "2014-01-09   754.90  \n",
       "2014-01-10   784.19  \n",
       "2014-01-11   809.40  "
      ]
     },
     "execution_count": 123,
     "metadata": {},
     "output_type": "execute_result"
    }
   ],
   "source": [
    "#  Windows the dataset directly from the pandas dataframe\n",
    "\"\"\"\n",
    "  [0,1,2,3,4,5,6,BTC_Volume,CURRENCY_Volume,Daily_Open,Price,Daily_High,Daily_Low] -> [7]\n",
    "  [1,2,3,4,5,6,7,BTC_Volume,CURRENCY_Volume,Daily_Open,Price,Daily_High,Daily_Low] -> [8]\n",
    "\"\"\"\n",
    "btc_windowed_df = btc_df.copy() # copy is needed to avoid pandas warning\n",
    "\n",
    "# Adds windowed columns\n",
    "for i in range(WINDOW_SIZE):\n",
    "  btc_windowed_df[f\"Price+{i+1}\"] = btc_blk_df[\"Price\"].shift(periods=i+1)\n",
    "btc_windowed_df.head(10)"
   ]
  },
  {
   "cell_type": "code",
   "execution_count": 124,
   "metadata": {
    "colab": {
     "base_uri": "https://localhost:8080/"
    },
    "id": "3ERvud_H8zgM",
    "outputId": "c5a9ba71-962c-4544-d597-7612ffb4414c"
   },
   "outputs": [
    {
     "data": {
      "text/plain": [
       "(            BTC_Volume  CURRENCY_Volume  Daily_Open  Daily_High   Daily_Low  \\\n",
       " Timestamp                                                                     \n",
       " 2014-01-09  667.490906    553312.125000  823.940002  848.000000  779.780029   \n",
       " 2014-01-10    7.394014      6315.893066  825.500000  861.400024  799.409973   \n",
       " 2014-01-11  245.935730    219613.734375  851.630005  909.960022  849.510010   \n",
       " 2014-01-12  166.956573    141199.734375  895.000000  905.000000  826.460022   \n",
       " 2014-01-13   56.784340     46610.644531  844.039978  844.049988  783.109985   \n",
       " \n",
       "                Price+1     Price+2     Price+3     Price+4     Price+5  \\\n",
       " Timestamp                                                                \n",
       " 2014-01-09  785.000000  919.239990  905.000000  828.789978  809.400024   \n",
       " 2014-01-10  824.760010  785.000000  919.239990  905.000000  828.789978   \n",
       " 2014-01-11  852.609985  824.760010  785.000000  919.239990  905.000000   \n",
       " 2014-01-12  896.590027  852.609985  824.760010  785.000000  919.239990   \n",
       " 2014-01-13  844.049988  896.590027  852.609985  824.760010  785.000000   \n",
       " \n",
       "                Price+6     Price+7  \n",
       " Timestamp                           \n",
       " 2014-01-09  784.190002  754.900024  \n",
       " 2014-01-10  809.400024  784.190002  \n",
       " 2014-01-11  828.789978  809.400024  \n",
       " 2014-01-12  905.000000  828.789978  \n",
       " 2014-01-13  919.239990  905.000000  , Timestamp\n",
       " 2014-01-09    824.760010\n",
       " 2014-01-10    852.609985\n",
       " 2014-01-11    896.590027\n",
       " 2014-01-12    844.049988\n",
       " 2014-01-13    823.000000\n",
       " Name: Price, dtype: float32)"
      ]
     },
     "execution_count": 124,
     "metadata": {},
     "output_type": "execute_result"
    }
   ],
   "source": [
    "# Removing the rows with the missing values\n",
    "# Create X (windows) and Y (horizons) features\n",
    "x = btc_windowed_df.dropna().drop(\"Price\", axis=1).astype(np.float32) # windows\n",
    "y = btc_windowed_df.dropna()[\"Price\"].astype(np.float32) # labels\n",
    "x.head(), y.head()"
   ]
  },
  {
   "cell_type": "code",
   "execution_count": 125,
   "metadata": {
    "id": "UolZgQR286vn"
   },
   "outputs": [],
   "source": [
    "# Make train and test sets using indexing\n",
    "split_size = int(len(x) * 0.8)\n",
    "x_train, y_train = x[:split_size], y[:split_size]\n",
    "x_test, y_test = x[split_size:], y[split_size:]\n"
   ]
  },
  {
   "cell_type": "code",
   "execution_count": 126,
   "metadata": {
    "colab": {
     "base_uri": "https://localhost:8080/"
    },
    "id": "IomAxBqA8-HH",
    "outputId": "97e3a7fc-4d08-46f3-f75b-2004abe2a56f"
   },
   "outputs": [
    {
     "name": "stdout",
     "output_type": "stream",
     "text": [
      "Epoch 1/100\n",
      " 1/14 [=>............................] - ETA: 4s - loss: 26196.4141 - mae: 26196.4141INFO:tensorflow:Assets written to: models/model_6_multivariate/assets\n"
     ]
    },
    {
     "name": "stderr",
     "output_type": "stream",
     "text": [
      "INFO:tensorflow:Assets written to: models/model_6_multivariate/assets\n"
     ]
    },
    {
     "name": "stdout",
     "output_type": "stream",
     "text": [
      "14/14 [==============================] - 1s 46ms/step - loss: 7547.0161 - mae: 7547.0161 - val_loss: 13058.1699 - val_mae: 13058.1699\n",
      "Epoch 2/100\n",
      " 1/14 [=>............................] - ETA: 0s - loss: 4295.6519 - mae: 4295.6519INFO:tensorflow:Assets written to: models/model_6_multivariate/assets\n"
     ]
    },
    {
     "name": "stderr",
     "output_type": "stream",
     "text": [
      "INFO:tensorflow:Assets written to: models/model_6_multivariate/assets\n"
     ]
    },
    {
     "name": "stdout",
     "output_type": "stream",
     "text": [
      "14/14 [==============================] - 1s 39ms/step - loss: 4620.4087 - mae: 4620.4087 - val_loss: 2634.2102 - val_mae: 2634.2102\n",
      "Epoch 3/100\n",
      "14/14 [==============================] - 0s 5ms/step - loss: 2234.4558 - mae: 2234.4558 - val_loss: 16253.8027 - val_mae: 16253.8027\n",
      "Epoch 4/100\n",
      "14/14 [==============================] - 0s 4ms/step - loss: 4808.3657 - mae: 4808.3657 - val_loss: 9098.9150 - val_mae: 9098.9150\n",
      "Epoch 5/100\n",
      "14/14 [==============================] - 0s 6ms/step - loss: 2223.5181 - mae: 2223.5181 - val_loss: 18790.9531 - val_mae: 18790.9531\n",
      "Epoch 6/100\n",
      "14/14 [==============================] - 0s 4ms/step - loss: 7111.0898 - mae: 7111.0898 - val_loss: 15628.1279 - val_mae: 15628.1279\n",
      "Epoch 7/100\n",
      "14/14 [==============================] - 0s 6ms/step - loss: 2740.1687 - mae: 2740.1687 - val_loss: 3779.2659 - val_mae: 3779.2659\n",
      "Epoch 8/100\n",
      "14/14 [==============================] - 0s 5ms/step - loss: 3898.2725 - mae: 3898.2725 - val_loss: 41112.6641 - val_mae: 41112.6641\n",
      "Epoch 9/100\n",
      "14/14 [==============================] - 0s 5ms/step - loss: 5271.3760 - mae: 5271.3760 - val_loss: 18763.0195 - val_mae: 18763.0195\n",
      "Epoch 10/100\n",
      " 1/14 [=>............................] - ETA: 0s - loss: 4360.2461 - mae: 4360.2461INFO:tensorflow:Assets written to: models/model_6_multivariate/assets\n"
     ]
    },
    {
     "name": "stderr",
     "output_type": "stream",
     "text": [
      "INFO:tensorflow:Assets written to: models/model_6_multivariate/assets\n"
     ]
    },
    {
     "name": "stdout",
     "output_type": "stream",
     "text": [
      "14/14 [==============================] - 1s 61ms/step - loss: 3032.9109 - mae: 3032.9109 - val_loss: 986.2102 - val_mae: 986.2102\n",
      "Epoch 11/100\n",
      "14/14 [==============================] - 0s 5ms/step - loss: 2515.3433 - mae: 2515.3433 - val_loss: 29215.7168 - val_mae: 29215.7168\n",
      "Epoch 12/100\n",
      "14/14 [==============================] - 0s 5ms/step - loss: 5463.5972 - mae: 5463.5972 - val_loss: 13615.3408 - val_mae: 13615.3408\n",
      "Epoch 13/100\n",
      "14/14 [==============================] - 0s 5ms/step - loss: 2400.0352 - mae: 2400.0352 - val_loss: 5196.2871 - val_mae: 5196.2871\n",
      "Epoch 14/100\n",
      "14/14 [==============================] - 0s 5ms/step - loss: 2800.6970 - mae: 2800.6970 - val_loss: 28706.9551 - val_mae: 28706.9551\n",
      "Epoch 15/100\n",
      "14/14 [==============================] - 0s 4ms/step - loss: 6066.4268 - mae: 6066.4268 - val_loss: 21451.3281 - val_mae: 21451.3281\n",
      "Epoch 16/100\n",
      "14/14 [==============================] - 0s 5ms/step - loss: 5547.0928 - mae: 5547.0928 - val_loss: 5921.5220 - val_mae: 5921.5220\n",
      "Epoch 17/100\n",
      "14/14 [==============================] - 0s 5ms/step - loss: 1747.1411 - mae: 1747.1411 - val_loss: 17014.3320 - val_mae: 17014.3320\n",
      "Epoch 18/100\n",
      "14/14 [==============================] - 0s 6ms/step - loss: 4802.8901 - mae: 4802.8901 - val_loss: 58689.4492 - val_mae: 58689.4492\n",
      "Epoch 19/100\n",
      "14/14 [==============================] - 0s 4ms/step - loss: 10152.9268 - mae: 10152.9268 - val_loss: 9691.8271 - val_mae: 9691.8271\n",
      "Epoch 20/100\n",
      "14/14 [==============================] - 0s 5ms/step - loss: 8304.8496 - mae: 8304.8496 - val_loss: 29308.2910 - val_mae: 29308.2910\n",
      "Epoch 21/100\n",
      "14/14 [==============================] - 0s 4ms/step - loss: 5361.5508 - mae: 5361.5508 - val_loss: 3430.2603 - val_mae: 3430.2603\n",
      "Epoch 22/100\n",
      "14/14 [==============================] - 0s 5ms/step - loss: 4204.6660 - mae: 4204.6660 - val_loss: 27569.5449 - val_mae: 27569.5449\n",
      "Epoch 23/100\n",
      "14/14 [==============================] - 0s 4ms/step - loss: 7957.2642 - mae: 7957.2642 - val_loss: 56122.8594 - val_mae: 56122.8594\n",
      "Epoch 24/100\n",
      "14/14 [==============================] - 0s 6ms/step - loss: 10771.2910 - mae: 10771.2910 - val_loss: 21792.5410 - val_mae: 21792.5410\n",
      "Epoch 25/100\n",
      "14/14 [==============================] - 0s 4ms/step - loss: 6567.5444 - mae: 6567.5444 - val_loss: 11936.9170 - val_mae: 11936.9170\n",
      "Epoch 26/100\n",
      "14/14 [==============================] - 0s 5ms/step - loss: 3340.3030 - mae: 3340.3030 - val_loss: 2819.8352 - val_mae: 2819.8352\n",
      "Epoch 27/100\n",
      "14/14 [==============================] - 0s 6ms/step - loss: 3202.2751 - mae: 3202.2751 - val_loss: 5397.3779 - val_mae: 5397.3779\n",
      "Epoch 28/100\n",
      "14/14 [==============================] - 0s 4ms/step - loss: 4930.4951 - mae: 4930.4951 - val_loss: 22231.1035 - val_mae: 22231.1035\n",
      "Epoch 29/100\n",
      "14/14 [==============================] - 0s 4ms/step - loss: 6242.8804 - mae: 6242.8804 - val_loss: 31907.0430 - val_mae: 31907.0430\n",
      "Epoch 30/100\n",
      "14/14 [==============================] - 0s 4ms/step - loss: 6210.7686 - mae: 6210.7686 - val_loss: 28891.5703 - val_mae: 28891.5703\n",
      "Epoch 31/100\n",
      "14/14 [==============================] - 0s 4ms/step - loss: 6628.8687 - mae: 6628.8687 - val_loss: 37598.1562 - val_mae: 37598.1562\n",
      "Epoch 32/100\n",
      "14/14 [==============================] - 0s 6ms/step - loss: 4021.3296 - mae: 4021.3296 - val_loss: 1687.4387 - val_mae: 1687.4387\n",
      "Epoch 33/100\n",
      "14/14 [==============================] - 0s 5ms/step - loss: 2860.6807 - mae: 2860.6807 - val_loss: 16995.1484 - val_mae: 16995.1484\n",
      "Epoch 34/100\n",
      "14/14 [==============================] - 0s 4ms/step - loss: 4716.2705 - mae: 4716.2705 - val_loss: 3029.5044 - val_mae: 3029.5044\n",
      "Epoch 35/100\n",
      "14/14 [==============================] - 0s 6ms/step - loss: 7528.2666 - mae: 7528.2666 - val_loss: 18491.9062 - val_mae: 18491.9062\n",
      "Epoch 36/100\n",
      "14/14 [==============================] - 0s 5ms/step - loss: 4532.2485 - mae: 4532.2485 - val_loss: 7141.1060 - val_mae: 7141.1060\n",
      "Epoch 37/100\n",
      "14/14 [==============================] - 0s 4ms/step - loss: 2228.2825 - mae: 2228.2825 - val_loss: 5241.8306 - val_mae: 5241.8306\n",
      "Epoch 38/100\n",
      "14/14 [==============================] - 0s 5ms/step - loss: 1275.1233 - mae: 1275.1233 - val_loss: 5806.4385 - val_mae: 5806.4385\n",
      "Epoch 39/100\n",
      "14/14 [==============================] - 0s 5ms/step - loss: 1588.5808 - mae: 1588.5808 - val_loss: 7292.7983 - val_mae: 7292.7983\n",
      "Epoch 40/100\n",
      "14/14 [==============================] - 0s 6ms/step - loss: 1373.8073 - mae: 1373.8073 - val_loss: 5060.4878 - val_mae: 5060.4878\n",
      "Epoch 41/100\n",
      "14/14 [==============================] - 0s 4ms/step - loss: 4832.3589 - mae: 4832.3589 - val_loss: 39127.1328 - val_mae: 39127.1328\n",
      "Epoch 42/100\n",
      "14/14 [==============================] - 0s 4ms/step - loss: 7564.0386 - mae: 7564.0386 - val_loss: 3766.3054 - val_mae: 3766.3054\n",
      "Epoch 43/100\n",
      "14/14 [==============================] - 0s 6ms/step - loss: 4187.6709 - mae: 4187.6709 - val_loss: 12318.0469 - val_mae: 12318.0469\n",
      "Epoch 44/100\n",
      "14/14 [==============================] - 0s 5ms/step - loss: 1518.9658 - mae: 1518.9658 - val_loss: 2207.1753 - val_mae: 2207.1753\n",
      "Epoch 45/100\n",
      "14/14 [==============================] - 0s 5ms/step - loss: 3975.3323 - mae: 3975.3323 - val_loss: 36014.7969 - val_mae: 36014.7969\n",
      "Epoch 46/100\n",
      "14/14 [==============================] - 0s 4ms/step - loss: 7096.7939 - mae: 7096.7939 - val_loss: 13874.7627 - val_mae: 13874.7627\n",
      "Epoch 47/100\n",
      "14/14 [==============================] - 0s 5ms/step - loss: 3989.3835 - mae: 3989.3835 - val_loss: 13780.7412 - val_mae: 13780.7412\n",
      "Epoch 48/100\n",
      "14/14 [==============================] - 0s 5ms/step - loss: 2796.4553 - mae: 2796.4553 - val_loss: 7759.9229 - val_mae: 7759.9229\n",
      "Epoch 49/100\n",
      "14/14 [==============================] - 0s 4ms/step - loss: 3466.3174 - mae: 3466.3174 - val_loss: 19055.0273 - val_mae: 19055.0273\n",
      "Epoch 50/100\n",
      "14/14 [==============================] - 0s 4ms/step - loss: 5706.3916 - mae: 5706.3916 - val_loss: 33465.9688 - val_mae: 33465.9688\n",
      "Epoch 51/100\n",
      "14/14 [==============================] - 0s 12ms/step - loss: 7589.0483 - mae: 7589.0483 - val_loss: 3335.3022 - val_mae: 3335.3022\n",
      "Epoch 52/100\n",
      "14/14 [==============================] - 0s 15ms/step - loss: 3069.7964 - mae: 3069.7964 - val_loss: 12174.9092 - val_mae: 12174.9092\n",
      "Epoch 53/100\n",
      "14/14 [==============================] - 0s 17ms/step - loss: 4485.2505 - mae: 4485.2505 - val_loss: 29064.0137 - val_mae: 29064.0137\n",
      "Epoch 54/100\n",
      "14/14 [==============================] - 0s 12ms/step - loss: 6873.7344 - mae: 6873.7344 - val_loss: 12766.9346 - val_mae: 12766.9346\n",
      "Epoch 55/100\n",
      "14/14 [==============================] - 0s 12ms/step - loss: 3004.2476 - mae: 3004.2476 - val_loss: 6201.1504 - val_mae: 6201.1504\n",
      "Epoch 56/100\n",
      "10/14 [====================>.........] - ETA: 0s - loss: 909.3044 - mae: 909.3044  INFO:tensorflow:Assets written to: models/model_6_multivariate/assets\n"
     ]
    },
    {
     "name": "stderr",
     "output_type": "stream",
     "text": [
      "INFO:tensorflow:Assets written to: models/model_6_multivariate/assets\n"
     ]
    },
    {
     "name": "stdout",
     "output_type": "stream",
     "text": [
      "14/14 [==============================] - 1s 40ms/step - loss: 792.9655 - mae: 792.9655 - val_loss: 864.1033 - val_mae: 864.1033\n",
      "Epoch 57/100\n",
      "14/14 [==============================] - 0s 5ms/step - loss: 3559.4133 - mae: 3559.4133 - val_loss: 5234.0449 - val_mae: 5234.0449\n",
      "Epoch 58/100\n",
      "14/14 [==============================] - 0s 4ms/step - loss: 3644.2668 - mae: 3644.2666 - val_loss: 26092.4219 - val_mae: 26092.4219\n",
      "Epoch 59/100\n",
      "14/14 [==============================] - 0s 6ms/step - loss: 4944.2554 - mae: 4944.2554 - val_loss: 27901.3984 - val_mae: 27901.3984\n",
      "Epoch 60/100\n",
      "14/14 [==============================] - 0s 4ms/step - loss: 6410.7358 - mae: 6410.7358 - val_loss: 11685.5654 - val_mae: 11685.5654\n",
      "Epoch 61/100\n",
      "14/14 [==============================] - 0s 4ms/step - loss: 2552.3811 - mae: 2552.3811 - val_loss: 3453.3352 - val_mae: 3453.3352\n",
      "Epoch 62/100\n",
      "14/14 [==============================] - 0s 6ms/step - loss: 1949.4933 - mae: 1949.4933 - val_loss: 9861.2168 - val_mae: 9861.2168\n",
      "Epoch 63/100\n",
      "14/14 [==============================] - 0s 5ms/step - loss: 5219.5884 - mae: 5219.5884 - val_loss: 19617.8125 - val_mae: 19617.8125\n",
      "Epoch 64/100\n",
      "14/14 [==============================] - 0s 4ms/step - loss: 2957.0271 - mae: 2957.0271 - val_loss: 3189.7483 - val_mae: 3189.7483\n",
      "Epoch 65/100\n",
      "14/14 [==============================] - 0s 4ms/step - loss: 3169.8630 - mae: 3169.8630 - val_loss: 7608.8774 - val_mae: 7608.8774\n",
      "Epoch 66/100\n",
      "14/14 [==============================] - 0s 5ms/step - loss: 3386.6982 - mae: 3386.6982 - val_loss: 29282.5586 - val_mae: 29282.5586\n",
      "Epoch 67/100\n",
      "14/14 [==============================] - 0s 4ms/step - loss: 7001.2617 - mae: 7001.2617 - val_loss: 4359.1089 - val_mae: 4359.1089\n",
      "Epoch 68/100\n",
      "14/14 [==============================] - 0s 4ms/step - loss: 8306.5186 - mae: 8306.5186 - val_loss: 14600.1455 - val_mae: 14600.1455\n",
      "Epoch 69/100\n",
      "14/14 [==============================] - 0s 4ms/step - loss: 6679.2183 - mae: 6679.2183 - val_loss: 31471.3730 - val_mae: 31471.3730\n",
      "Epoch 70/100\n",
      "14/14 [==============================] - 0s 4ms/step - loss: 4030.1167 - mae: 4030.1167 - val_loss: 16198.0156 - val_mae: 16198.0156\n",
      "Epoch 71/100\n",
      "14/14 [==============================] - 0s 6ms/step - loss: 5952.2666 - mae: 5952.2666 - val_loss: 19879.2988 - val_mae: 19879.2988\n",
      "Epoch 72/100\n",
      "14/14 [==============================] - 0s 4ms/step - loss: 5130.1138 - mae: 5130.1138 - val_loss: 12026.1826 - val_mae: 12026.1826\n",
      "Epoch 73/100\n",
      "14/14 [==============================] - 0s 4ms/step - loss: 2510.9187 - mae: 2510.9187 - val_loss: 12266.0107 - val_mae: 12266.0107\n",
      "Epoch 74/100\n",
      "14/14 [==============================] - 0s 4ms/step - loss: 1902.8960 - mae: 1902.8960 - val_loss: 4373.4575 - val_mae: 4373.4575\n",
      "Epoch 75/100\n",
      "14/14 [==============================] - 0s 5ms/step - loss: 4118.9048 - mae: 4118.9048 - val_loss: 1702.6980 - val_mae: 1702.6980\n",
      "Epoch 76/100\n",
      "14/14 [==============================] - 0s 4ms/step - loss: 3188.4426 - mae: 3188.4426 - val_loss: 7897.7432 - val_mae: 7897.7432\n",
      "Epoch 77/100\n",
      "14/14 [==============================] - 0s 4ms/step - loss: 1198.4958 - mae: 1198.4958 - val_loss: 2645.6470 - val_mae: 2645.6470\n",
      "Epoch 78/100\n",
      "14/14 [==============================] - 0s 4ms/step - loss: 1438.6930 - mae: 1438.6930 - val_loss: 9680.1348 - val_mae: 9680.1348\n",
      "Epoch 79/100\n",
      "14/14 [==============================] - 0s 4ms/step - loss: 3007.4089 - mae: 3007.4089 - val_loss: 26842.6855 - val_mae: 26842.6855\n",
      "Epoch 80/100\n",
      "14/14 [==============================] - 0s 4ms/step - loss: 2457.1565 - mae: 2457.1565 - val_loss: 3840.9436 - val_mae: 3840.9436\n",
      "Epoch 81/100\n",
      "14/14 [==============================] - 0s 4ms/step - loss: 3119.3560 - mae: 3119.3560 - val_loss: 12432.6104 - val_mae: 12432.6104\n",
      "Epoch 82/100\n",
      "14/14 [==============================] - 0s 4ms/step - loss: 2062.8064 - mae: 2062.8064 - val_loss: 11619.5176 - val_mae: 11619.5176\n",
      "Epoch 83/100\n",
      "14/14 [==============================] - 0s 4ms/step - loss: 1259.4437 - mae: 1259.4437 - val_loss: 7194.1074 - val_mae: 7194.1074\n",
      "Epoch 84/100\n",
      "14/14 [==============================] - 0s 4ms/step - loss: 3680.5879 - mae: 3680.5879 - val_loss: 17891.6230 - val_mae: 17891.6230\n",
      "Epoch 85/100\n",
      "14/14 [==============================] - 0s 5ms/step - loss: 1609.2097 - mae: 1609.2097 - val_loss: 4349.1440 - val_mae: 4349.1440\n",
      "Epoch 86/100\n",
      "14/14 [==============================] - 0s 4ms/step - loss: 1074.9548 - mae: 1074.9548 - val_loss: 6263.9507 - val_mae: 6263.9507\n",
      "Epoch 87/100\n",
      "14/14 [==============================] - 0s 5ms/step - loss: 2305.0999 - mae: 2305.0999 - val_loss: 13672.5361 - val_mae: 13672.5361\n",
      "Epoch 88/100\n",
      "14/14 [==============================] - 0s 4ms/step - loss: 2700.3704 - mae: 2700.3704 - val_loss: 14858.9014 - val_mae: 14858.9014\n",
      "Epoch 89/100\n",
      "14/14 [==============================] - 0s 4ms/step - loss: 4210.1812 - mae: 4210.1812 - val_loss: 26234.6543 - val_mae: 26234.6543\n",
      "Epoch 90/100\n",
      "14/14 [==============================] - 0s 4ms/step - loss: 5067.0317 - mae: 5067.0317 - val_loss: 17646.8340 - val_mae: 17646.8340\n",
      "Epoch 91/100\n",
      " 1/14 [=>............................] - ETA: 0s - loss: 4720.6670 - mae: 4720.6670INFO:tensorflow:Assets written to: models/model_6_multivariate/assets\n"
     ]
    },
    {
     "name": "stderr",
     "output_type": "stream",
     "text": [
      "INFO:tensorflow:Assets written to: models/model_6_multivariate/assets\n"
     ]
    },
    {
     "name": "stdout",
     "output_type": "stream",
     "text": [
      "14/14 [==============================] - 1s 38ms/step - loss: 2773.2891 - mae: 2773.2891 - val_loss: 656.0136 - val_mae: 656.0136\n",
      "Epoch 92/100\n",
      "14/14 [==============================] - 0s 5ms/step - loss: 687.7838 - mae: 687.7838 - val_loss: 1579.3445 - val_mae: 1579.3445\n",
      "Epoch 93/100\n",
      "14/14 [==============================] - 0s 5ms/step - loss: 1686.4991 - mae: 1686.4991 - val_loss: 8516.2822 - val_mae: 8516.2822\n",
      "Epoch 94/100\n",
      "14/14 [==============================] - 0s 4ms/step - loss: 3978.5408 - mae: 3978.5408 - val_loss: 16415.7109 - val_mae: 16415.7109\n",
      "Epoch 95/100\n",
      "14/14 [==============================] - 0s 5ms/step - loss: 3549.9055 - mae: 3549.9055 - val_loss: 10812.2021 - val_mae: 10812.2021\n",
      "Epoch 96/100\n",
      "14/14 [==============================] - 0s 4ms/step - loss: 1623.5433 - mae: 1623.5433 - val_loss: 5622.2212 - val_mae: 5622.2212\n",
      "Epoch 97/100\n",
      "14/14 [==============================] - 0s 4ms/step - loss: 1356.1743 - mae: 1356.1743 - val_loss: 1680.2358 - val_mae: 1680.2358\n",
      "Epoch 98/100\n",
      "14/14 [==============================] - 0s 5ms/step - loss: 1052.6322 - mae: 1052.6322 - val_loss: 11697.0303 - val_mae: 11697.0303\n",
      "Epoch 99/100\n",
      " 1/14 [=>............................] - ETA: 0s - loss: 3246.5879 - mae: 3246.5879INFO:tensorflow:Assets written to: models/model_6_multivariate/assets\n"
     ]
    },
    {
     "name": "stderr",
     "output_type": "stream",
     "text": [
      "INFO:tensorflow:Assets written to: models/model_6_multivariate/assets\n"
     ]
    },
    {
     "name": "stdout",
     "output_type": "stream",
     "text": [
      "14/14 [==============================] - 1s 39ms/step - loss: 1581.8386 - mae: 1581.8386 - val_loss: 650.6743 - val_mae: 650.6743\n",
      "Epoch 100/100\n",
      "14/14 [==============================] - 0s 6ms/step - loss: 1525.2286 - mae: 1525.2286 - val_loss: 13327.6611 - val_mae: 13327.6611\n"
     ]
    },
    {
     "data": {
      "text/plain": [
       "<keras.callbacks.History at 0x7f41073c05d0>"
      ]
     },
     "execution_count": 126,
     "metadata": {},
     "output_type": "execute_result"
    }
   ],
   "source": [
    "# Make model6\n",
    "model_6 = tf.keras.Sequential([\n",
    "  layers.Dense(128, activation=\"relu\"),\n",
    "  layers.Dense(128, activation=\"relu\"), # upgrading the model performance\n",
    "  layers.Dense(HORIZON)\n",
    "], name='model_6_multivariate')\n",
    "\n",
    "model_6.compile(\n",
    "    loss = \"mae\",\n",
    "    optimizer=tf.keras.optimizers.Adam(),\n",
    "    metrics = \"mae\"\n",
    ")\n",
    "\n",
    "model_6.fit(x=x_train,\n",
    "            y=y_train,\n",
    "            epochs=100,\n",
    "            verbose=1,\n",
    "            batch_size=128,\n",
    "            validation_data=(x_test, y_test),\n",
    "            callbacks=[create_model_checkpoint(model_name=model_6.name)]\n",
    "            )\n",
    "\n"
   ]
  },
  {
   "cell_type": "code",
   "execution_count": 127,
   "metadata": {
    "colab": {
     "base_uri": "https://localhost:8080/"
    },
    "id": "UgI8eTFa9Adz",
    "outputId": "7983a22a-c25d-4286-fc0a-0d4dee1335a8"
   },
   "outputs": [
    {
     "name": "stdout",
     "output_type": "stream",
     "text": [
      "14/14 [==============================] - 0s 2ms/step - loss: 650.6743 - mae: 650.6743\n"
     ]
    },
    {
     "data": {
      "text/plain": [
       "[650.67431640625, 650.67431640625]"
      ]
     },
     "execution_count": 127,
     "metadata": {},
     "output_type": "execute_result"
    }
   ],
   "source": [
    "model_6 = tf.keras.models.load_model(\"models/model_6_multivariate\")\n",
    "model_6.evaluate(x_test, y_test)"
   ]
  },
  {
   "cell_type": "code",
   "execution_count": 128,
   "metadata": {
    "colab": {
     "base_uri": "https://localhost:8080/"
    },
    "id": "ivjhVJzB9GvP",
    "outputId": "1aea2932-6688-4c51-f039-99e0ce34b3ba"
   },
   "outputs": [
    {
     "data": {
      "text/plain": [
       "{'mae': 650.67426,\n",
       " 'mape': 3.389785,\n",
       " 'mase': 0.99867654,\n",
       " 'mse': 1315675.0,\n",
       " 'rmse': 1147.0287}"
      ]
     },
     "execution_count": 128,
     "metadata": {},
     "output_type": "execute_result"
    }
   ],
   "source": [
    "# Make predictions\n",
    "\n",
    "model_6_preds = tf.squeeze(model_6.predict(x_test))\n",
    "model_6_results = evaluate_preds(y_true=y_test, y_pred=model_6_preds)\n",
    "model_6_results"
   ]
  },
  {
   "cell_type": "code",
   "execution_count": 129,
   "metadata": {
    "colab": {
     "base_uri": "https://localhost:8080/",
     "height": 442
    },
    "id": "FD5agrwhr650",
    "outputId": "a6506dbd-3e79-42b5-fcff-69be46fc46e2"
   },
   "outputs": [
    {
     "data": {
      "image/png": "[encoded data removed]",
      "text/plain": [
       "<Figure size 720x504 with 1 Axes>"
      ]
     },
     "metadata": {
      "needs_background": "light"
     },
     "output_type": "display_data"
    }
   ],
   "source": [
    "offset=400\n",
    "plt.figure(figsize=(10,7))\n",
    "plot_time_series(timesteps=X_test[-len(test_windows):], values=test_labels[:,0], format=\"-\", start=offset, label=\"Test Data\")\n",
    "plot_time_series(timesteps=X_test[-len(test_windows):], values=model_6_preds, format=\"-\", start=offset, label=\"Model-6 prediction\")"
   ]
  },
  {
   "cell_type": "code",
   "execution_count": 130,
   "metadata": {
    "colab": {
     "base_uri": "https://localhost:8080/"
    },
    "id": "a1Cb1mxVsCsz",
    "outputId": "cce53fd0-3330-456e-aa1a-ef99d94d0fbe"
   },
   "outputs": [
    {
     "name": "stdout",
     "output_type": "stream",
     "text": [
      "Model: \"model_6_multivariate\"\n",
      "_________________________________________________________________\n",
      " Layer (type)                Output Shape              Param #   \n",
      "=================================================================\n",
      " dense_8 (Dense)             (None, 128)               1664      \n",
      "                                                                 \n",
      " dense_9 (Dense)             (None, 128)               16512     \n",
      "                                                                 \n",
      " dense_10 (Dense)            (None, 1)                 129       \n",
      "                                                                 \n",
      "=================================================================\n",
      "Total params: 18,305\n",
      "Trainable params: 18,305\n",
      "Non-trainable params: 0\n",
      "_________________________________________________________________\n"
     ]
    }
   ],
   "source": [
    "model_6.summary()"
   ]
  },
  {
   "cell_type": "markdown",
   "metadata": {
    "id": "g2zMZxe_9NAM"
   },
   "source": [
    "## Creating an ensemble model (which means stacking different models)\n",
    "Longer training and longer prediction time --> better accuracy.\n",
    "\n",
    "\n",
    "An ensemble combines many different models to predict a common goal."
   ]
  },
  {
   "cell_type": "code",
   "execution_count": null,
   "metadata": {
    "id": "WTd2fUyrAQyM"
   },
   "outputs": [],
   "source": [
    "HORIZON =1\n",
    "WINDOW_SIZE = 7"
   ]
  },
  {
   "cell_type": "code",
   "execution_count": null,
   "metadata": {
    "colab": {
     "base_uri": "https://localhost:8080/",
     "height": 455
    },
    "id": "yKvmvTvfELqL",
    "outputId": "f0c3e5da-9885-4cc8-b65e-7e31ef473d4b"
   },
   "outputs": [
    {
     "data": {
      "text/html": [
       "\n",
       "  <div id=\"df-876938cf-d79c-4930-8aa9-ec3021a34963\">\n",
       "    <div class=\"colab-df-container\">\n",
       "      <div>\n",
       "<style scoped>\n",
       "    .dataframe tbody tr th:only-of-type {\n",
       "        vertical-align: middle;\n",
       "    }\n",
       "\n",
       "    .dataframe tbody tr th {\n",
       "        vertical-align: top;\n",
       "    }\n",
       "\n",
       "    .dataframe thead th {\n",
       "        text-align: right;\n",
       "    }\n",
       "</style>\n",
       "<table border=\"1\" class=\"dataframe\">\n",
       "  <thead>\n",
       "    <tr style=\"text-align: right;\">\n",
       "      <th></th>\n",
       "      <th>Block_reward</th>\n",
       "      <th>Price+1</th>\n",
       "      <th>Price+2</th>\n",
       "      <th>Price+3</th>\n",
       "      <th>Price+4</th>\n",
       "      <th>Price+5</th>\n",
       "      <th>Price+6</th>\n",
       "      <th>Price+7</th>\n",
       "    </tr>\n",
       "    <tr>\n",
       "      <th>Timestamp</th>\n",
       "      <th></th>\n",
       "      <th></th>\n",
       "      <th></th>\n",
       "      <th></th>\n",
       "      <th></th>\n",
       "      <th></th>\n",
       "      <th></th>\n",
       "      <th></th>\n",
       "    </tr>\n",
       "  </thead>\n",
       "  <tbody>\n",
       "    <tr>\n",
       "      <th>2014-01-09</th>\n",
       "      <td>25.0</td>\n",
       "      <td>785.000000</td>\n",
       "      <td>919.239990</td>\n",
       "      <td>905.000000</td>\n",
       "      <td>828.789978</td>\n",
       "      <td>809.400024</td>\n",
       "      <td>784.190002</td>\n",
       "      <td>754.900024</td>\n",
       "    </tr>\n",
       "    <tr>\n",
       "      <th>2014-01-10</th>\n",
       "      <td>25.0</td>\n",
       "      <td>824.760010</td>\n",
       "      <td>785.000000</td>\n",
       "      <td>919.239990</td>\n",
       "      <td>905.000000</td>\n",
       "      <td>828.789978</td>\n",
       "      <td>809.400024</td>\n",
       "      <td>784.190002</td>\n",
       "    </tr>\n",
       "    <tr>\n",
       "      <th>2014-01-11</th>\n",
       "      <td>25.0</td>\n",
       "      <td>852.609985</td>\n",
       "      <td>824.760010</td>\n",
       "      <td>785.000000</td>\n",
       "      <td>919.239990</td>\n",
       "      <td>905.000000</td>\n",
       "      <td>828.789978</td>\n",
       "      <td>809.400024</td>\n",
       "    </tr>\n",
       "    <tr>\n",
       "      <th>2014-01-12</th>\n",
       "      <td>25.0</td>\n",
       "      <td>896.590027</td>\n",
       "      <td>852.609985</td>\n",
       "      <td>824.760010</td>\n",
       "      <td>785.000000</td>\n",
       "      <td>919.239990</td>\n",
       "      <td>905.000000</td>\n",
       "      <td>828.789978</td>\n",
       "    </tr>\n",
       "    <tr>\n",
       "      <th>2014-01-13</th>\n",
       "      <td>25.0</td>\n",
       "      <td>844.049988</td>\n",
       "      <td>896.590027</td>\n",
       "      <td>852.609985</td>\n",
       "      <td>824.760010</td>\n",
       "      <td>785.000000</td>\n",
       "      <td>919.239990</td>\n",
       "      <td>905.000000</td>\n",
       "    </tr>\n",
       "    <tr>\n",
       "      <th>...</th>\n",
       "      <td>...</td>\n",
       "      <td>...</td>\n",
       "      <td>...</td>\n",
       "      <td>...</td>\n",
       "      <td>...</td>\n",
       "      <td>...</td>\n",
       "      <td>...</td>\n",
       "      <td>...</td>\n",
       "    </tr>\n",
       "    <tr>\n",
       "      <th>2019-12-30</th>\n",
       "      <td>12.5</td>\n",
       "      <td>7326.000000</td>\n",
       "      <td>7284.589844</td>\n",
       "      <td>7133.649902</td>\n",
       "      <td>7181.729980</td>\n",
       "      <td>7208.689941</td>\n",
       "      <td>7366.009766</td>\n",
       "      <td>7548.990234</td>\n",
       "    </tr>\n",
       "    <tr>\n",
       "      <th>2019-12-31</th>\n",
       "      <td>12.5</td>\n",
       "      <td>7298.620117</td>\n",
       "      <td>7326.000000</td>\n",
       "      <td>7284.589844</td>\n",
       "      <td>7133.649902</td>\n",
       "      <td>7181.729980</td>\n",
       "      <td>7208.689941</td>\n",
       "      <td>7366.009766</td>\n",
       "    </tr>\n",
       "    <tr>\n",
       "      <th>2020-01-01</th>\n",
       "      <td>12.5</td>\n",
       "      <td>7222.109863</td>\n",
       "      <td>7298.620117</td>\n",
       "      <td>7326.000000</td>\n",
       "      <td>7284.589844</td>\n",
       "      <td>7133.649902</td>\n",
       "      <td>7181.729980</td>\n",
       "      <td>7208.689941</td>\n",
       "    </tr>\n",
       "    <tr>\n",
       "      <th>2020-01-02</th>\n",
       "      <td>12.5</td>\n",
       "      <td>7171.680176</td>\n",
       "      <td>7222.109863</td>\n",
       "      <td>7298.620117</td>\n",
       "      <td>7326.000000</td>\n",
       "      <td>7284.589844</td>\n",
       "      <td>7133.649902</td>\n",
       "      <td>7181.729980</td>\n",
       "    </tr>\n",
       "    <tr>\n",
       "      <th>2020-01-03</th>\n",
       "      <td>12.5</td>\n",
       "      <td>7129.200195</td>\n",
       "      <td>7171.680176</td>\n",
       "      <td>7222.109863</td>\n",
       "      <td>7298.620117</td>\n",
       "      <td>7326.000000</td>\n",
       "      <td>7284.589844</td>\n",
       "      <td>7133.649902</td>\n",
       "    </tr>\n",
       "  </tbody>\n",
       "</table>\n",
       "<p>1783 rows × 8 columns</p>\n",
       "</div>\n",
       "      <button class=\"colab-df-convert\" onclick=\"convertToInteractive('df-876938cf-d79c-4930-8aa9-ec3021a34963')\"\n",
       "              title=\"Convert this dataframe to an interactive table.\"\n",
       "              style=\"display:none;\">\n",
       "        \n",
       "  <svg xmlns=\"http://www.w3.org/2000/svg\" height=\"24px\"viewBox=\"0 0 24 24\"\n",
       "       width=\"24px\">\n",
       "    <path d=\"M0 0h24v24H0V0z\" fill=\"none\"/>\n",
       "    <path d=\"M18.56 5.44l.94 2.06.94-2.06 2.06-.94-2.06-.94-.94-2.06-.94 2.06-2.06.94zm-11 1L8.5 8.5l.94-2.06 2.06-.94-2.06-.94L8.5 2.5l-.94 2.06-2.06.94zm10 10l.94 2.06.94-2.06 2.06-.94-2.06-.94-.94-2.06-.94 2.06-2.06.94z\"/><path d=\"M17.41 7.96l-1.37-1.37c-.4-.4-.92-.59-1.43-.59-.52 0-1.04.2-1.43.59L10.3 9.45l-7.72 7.72c-.78.78-.78 2.05 0 2.83L4 21.41c.39.39.9.59 1.41.59.51 0 1.02-.2 1.41-.59l7.78-7.78 2.81-2.81c.8-.78.8-2.07 0-2.86zM5.41 20L4 18.59l7.72-7.72 1.47 1.35L5.41 20z\"/>\n",
       "  </svg>\n",
       "      </button>\n",
       "      \n",
       "  <style>\n",
       "    .colab-df-container {\n",
       "      display:flex;\n",
       "      flex-wrap:wrap;\n",
       "      gap: 12px;\n",
       "    }\n",
       "\n",
       "    .colab-df-convert {\n",
       "      background-color: #E8F0FE;\n",
       "      border: none;\n",
       "      border-radius: 50%;\n",
       "      cursor: pointer;\n",
       "      display: none;\n",
       "      fill: #1967D2;\n",
       "      height: 32px;\n",
       "      padding: 0 0 0 0;\n",
       "      width: 32px;\n",
       "    }\n",
       "\n",
       "    .colab-df-convert:hover {\n",
       "      background-color: #E2EBFA;\n",
       "      box-shadow: 0px 1px 2px rgba(60, 64, 67, 0.3), 0px 1px 3px 1px rgba(60, 64, 67, 0.15);\n",
       "      fill: #174EA6;\n",
       "    }\n",
       "\n",
       "    [theme=dark] .colab-df-convert {\n",
       "      background-color: #3B4455;\n",
       "      fill: #D2E3FC;\n",
       "    }\n",
       "\n",
       "    [theme=dark] .colab-df-convert:hover {\n",
       "      background-color: #434B5C;\n",
       "      box-shadow: 0px 1px 3px 1px rgba(0, 0, 0, 0.15);\n",
       "      filter: drop-shadow(0px 1px 2px rgba(0, 0, 0, 0.3));\n",
       "      fill: #FFFFFF;\n",
       "    }\n",
       "  </style>\n",
       "\n",
       "      <script>\n",
       "        const buttonEl =\n",
       "          document.querySelector('#df-876938cf-d79c-4930-8aa9-ec3021a34963 button.colab-df-convert');\n",
       "        buttonEl.style.display =\n",
       "          google.colab.kernel.accessAllowed ? 'block' : 'none';\n",
       "\n",
       "        async function convertToInteractive(key) {\n",
       "          const element = document.querySelector('#df-876938cf-d79c-4930-8aa9-ec3021a34963');\n",
       "          const dataTable =\n",
       "            await google.colab.kernel.invokeFunction('convertToInteractive',\n",
       "                                                     [key], {});\n",
       "          if (!dataTable) return;\n",
       "\n",
       "          const docLinkHtml = 'Like what you see? Visit the ' +\n",
       "            '<a target=\"_blank\" href=https://colab.research.google.com/notebooks/data_table.ipynb>data table notebook</a>'\n",
       "            + ' to learn more about interactive tables.';\n",
       "          element.innerHTML = '';\n",
       "          dataTable['output_type'] = 'display_data';\n",
       "          await google.colab.output.renderOutput(dataTable, element);\n",
       "          const docLink = document.createElement('div');\n",
       "          docLink.innerHTML = docLinkHtml;\n",
       "          element.appendChild(docLink);\n",
       "        }\n",
       "      </script>\n",
       "    </div>\n",
       "  </div>\n",
       "  "
      ],
      "text/plain": [
       "            Block_reward      Price+1      Price+2      Price+3      Price+4  \\\n",
       "Timestamp                                                                      \n",
       "2014-01-09          25.0   785.000000   919.239990   905.000000   828.789978   \n",
       "2014-01-10          25.0   824.760010   785.000000   919.239990   905.000000   \n",
       "2014-01-11          25.0   852.609985   824.760010   785.000000   919.239990   \n",
       "2014-01-12          25.0   896.590027   852.609985   824.760010   785.000000   \n",
       "2014-01-13          25.0   844.049988   896.590027   852.609985   824.760010   \n",
       "...                  ...          ...          ...          ...          ...   \n",
       "2019-12-30          12.5  7326.000000  7284.589844  7133.649902  7181.729980   \n",
       "2019-12-31          12.5  7298.620117  7326.000000  7284.589844  7133.649902   \n",
       "2020-01-01          12.5  7222.109863  7298.620117  7326.000000  7284.589844   \n",
       "2020-01-02          12.5  7171.680176  7222.109863  7298.620117  7326.000000   \n",
       "2020-01-03          12.5  7129.200195  7171.680176  7222.109863  7298.620117   \n",
       "\n",
       "                Price+5      Price+6      Price+7  \n",
       "Timestamp                                          \n",
       "2014-01-09   809.400024   784.190002   754.900024  \n",
       "2014-01-10   828.789978   809.400024   784.190002  \n",
       "2014-01-11   905.000000   828.789978   809.400024  \n",
       "2014-01-12   919.239990   905.000000   828.789978  \n",
       "2014-01-13   785.000000   919.239990   905.000000  \n",
       "...                 ...          ...          ...  \n",
       "2019-12-30  7208.689941  7366.009766  7548.990234  \n",
       "2019-12-31  7181.729980  7208.689941  7366.009766  \n",
       "2020-01-01  7133.649902  7181.729980  7208.689941  \n",
       "2020-01-02  7284.589844  7133.649902  7181.729980  \n",
       "2020-01-03  7326.000000  7284.589844  7133.649902  \n",
       "\n",
       "[1783 rows x 8 columns]"
      ]
     },
     "execution_count": 190,
     "metadata": {},
     "output_type": "execute_result"
    }
   ],
   "source": [
    "x_train"
   ]
  },
  {
   "cell_type": "code",
   "execution_count": null,
   "metadata": {
    "colab": {
     "base_uri": "https://localhost:8080/"
    },
    "id": "VtjZqzP1CC31",
    "outputId": "341b1fe7-3e47-40a8-8592-6c03bed76417"
   },
   "outputs": [
    {
     "data": {
      "text/plain": [
       "(<PrefetchDataset element_spec=(TensorSpec(shape=(None, 8), dtype=tf.float32, name=None), TensorSpec(shape=(None,), dtype=tf.float32, name=None))>,\n",
       " <PrefetchDataset element_spec=(TensorSpec(shape=(None, 8), dtype=tf.float32, name=None), TensorSpec(shape=(None,), dtype=tf.float32, name=None))>)"
      ]
     },
     "execution_count": 191,
     "metadata": {},
     "output_type": "execute_result"
    }
   ],
   "source": [
    "len(x_train), len(y_train), len(x_test), len(y_test)\n",
    "                                             \n",
    "# Convert the train and test datasets to tf.data.Dataset to ensure fast running time\n",
    "# 1. Turn train and test arrays into tensor Datasets\n",
    "train_features_dataset = tf.data.Dataset.from_tensor_slices(x_train)\n",
    "train_labels_dataset = tf.data.Dataset.from_tensor_slices(y_train)\n",
    "\n",
    "test_features_dataset = tf.data.Dataset.from_tensor_slices(x_test)\n",
    "test_labels_dataset = tf.data.Dataset.from_tensor_slices(y_test)\n",
    "\n",
    "# 2. Combine features & labels\n",
    "train_dataset = tf.data.Dataset.zip((train_features_dataset, train_labels_dataset))\n",
    "test_dataset = tf.data.Dataset.zip((test_features_dataset, test_labels_dataset))\n",
    "\n",
    "# 3. Batch and prefetch for optimal performance\n",
    "BATCH_SIZE = 1024 # taken from Appendix D in N-BEATS paper\n",
    "train_dataset = train_dataset.batch(BATCH_SIZE).prefetch(tf.data.AUTOTUNE)\n",
    "test_dataset = test_dataset.batch(BATCH_SIZE).prefetch(tf.data.AUTOTUNE)\n",
    "\n",
    "train_dataset, test_dataset"
   ]
  },
  {
   "cell_type": "code",
   "execution_count": null,
   "metadata": {
    "id": "sxsOcvPSCS7N"
   },
   "outputs": [],
   "source": [
    "# Constructs and fits and ensembles models (using different loss functions)\n",
    "def get_ensemble_models(horizon=HORIZON,\n",
    "                        train_data=train_dataset,\n",
    "                        test_data=test_dataset,\n",
    "                        num_iter=10,\n",
    "                        num_epochs=1000,\n",
    "                        loss_fns=[\"mae\", \"mse\", \"mape\"]):\n",
    "  \"\"\"\n",
    "  Returns a list of num_iter models each trained on MAE, MSE and MAPE loss.\n",
    "  For example: if num_iter==10, a list of 30 trained models will be returned:\n",
    "  10*len(loss_fns)\n",
    "  \"\"\"\n",
    "  # Make empty list for trained ensemble models\n",
    "  ensemble_models=[]\n",
    "\n",
    "  # Create num_iter number of models per loss function\n",
    "  for i in range(num_iter):\n",
    "    # Build and fit a new model with a different loss function\n",
    "    for loss_function in loss_fns:\n",
    "      print(f\"Optimizing model by reducing: {loss_function} for {num_epochs} epochs, model number: {i}\")\n",
    "\n",
    "      # Construct a simple model (similar to model_1)\n",
    "      model = tf.keras.Sequential([\n",
    "        # initializing the normal distribution instead of the default uniform\n",
    "        # normal distribution is used to initialize for estimating prediction intervals later on\n",
    "        layers.Dense(128, kernel_initializer=\"he_normal\", activation=\"relu\"),\n",
    "        layers.Dense(128, kernel_initializer=\"he_normal\", activation=\"relu\"),\n",
    "        layers.Dense(HORIZON) # output layer\n",
    "      ])\n",
    "\n",
    "      # Compile simple model with current loss function\n",
    "      model.compile(loss=loss_function,\n",
    "                    optimizer=tf.keras.optimizers.Adam(),\n",
    "                    metrics=[\"mae\", \"mse\"])\n",
    "      \n",
    "      # Fit the current model\n",
    "      model.fit(train_data,\n",
    "            epochs=num_epochs,\n",
    "            verbose=0,\n",
    "            validation_data=test_data,\n",
    "            # First callback: If the val_loss doesn't change for 200 epochs, then do not \n",
    "            # wait. Load the best model and exit\n",
    "            callbacks=[tf.keras.callbacks.EarlyStopping(monitor=\"val_loss\",\n",
    "                                                        patience=200,\n",
    "                                                        restore_best_weights=True),\n",
    "                       tf.keras.callbacks.ReduceLROnPlateau(monitor=\"val_loss\",\n",
    "                                                            patience=100,\n",
    "                                                            verbose=1)]\n",
    "            )\n",
    "      ensemble_models.append(model)\n",
    "  return ensemble_models"
   ]
  },
  {
   "cell_type": "code",
   "execution_count": null,
   "metadata": {
    "colab": {
     "base_uri": "https://localhost:8080/"
    },
    "id": "w7SBjDPWAdC2",
    "outputId": "e5bde12c-4cd2-4f43-8e59-73c8cef3e661"
   },
   "outputs": [
    {
     "name": "stdout",
     "output_type": "stream",
     "text": [
      "Optimizing model by reducing: mae for 100 epochs, model number: 0\n",
      "Optimizing model by reducing: mse for 100 epochs, model number: 0\n",
      "Optimizing model by reducing: mape for 100 epochs, model number: 0\n",
      "Optimizing model by reducing: mae for 100 epochs, model number: 1\n",
      "Optimizing model by reducing: mse for 100 epochs, model number: 1\n",
      "Optimizing model by reducing: mape for 100 epochs, model number: 1\n",
      "Optimizing model by reducing: mae for 100 epochs, model number: 2\n",
      "Optimizing model by reducing: mse for 100 epochs, model number: 2\n",
      "Optimizing model by reducing: mape for 100 epochs, model number: 2\n",
      "Optimizing model by reducing: mae for 100 epochs, model number: 3\n",
      "Optimizing model by reducing: mse for 100 epochs, model number: 3\n",
      "Optimizing model by reducing: mape for 100 epochs, model number: 3\n",
      "Optimizing model by reducing: mae for 100 epochs, model number: 4\n",
      "Optimizing model by reducing: mse for 100 epochs, model number: 4\n",
      "Optimizing model by reducing: mape for 100 epochs, model number: 4\n",
      "CPU times: user 1min 12s, sys: 6.21 s, total: 1min 18s\n",
      "Wall time: 1min 26s\n"
     ]
    }
   ],
   "source": [
    "%%time\n",
    "# Get list of trained ensemble models\n",
    "ensemble_models = get_ensemble_models(num_iter=5,\n",
    "                                      num_epochs=100)"
   ]
  },
  {
   "cell_type": "code",
   "execution_count": null,
   "metadata": {
    "colab": {
     "base_uri": "https://localhost:8080/"
    },
    "id": "q6uEYqzIDUWw",
    "outputId": "6aec01c4-2137-4752-94a9-ace2f8322b66"
   },
   "outputs": [
    {
     "data": {
      "text/plain": [
       "15"
      ]
     },
     "execution_count": 199,
     "metadata": {},
     "output_type": "execute_result"
    }
   ],
   "source": [
    "len(ensemble_models)\n",
    "# ensemble_models"
   ]
  },
  {
   "cell_type": "markdown",
   "metadata": {
    "id": "W8fUXH8AFE-z"
   },
   "source": [
    "### Make predictions with our ensemble model"
   ]
  },
  {
   "cell_type": "code",
   "execution_count": null,
   "metadata": {
    "id": "9zTxdQeEFVvs"
   },
   "outputs": [],
   "source": [
    "# Create a functions which uses a list of trained models to make and return a list of predictions\n",
    "def make_ensemble_predictions(ensemble_models, data):\n",
    "  ensemble_preds=[]\n",
    "  for model in ensemble_models:\n",
    "    preds = model.predict(data)\n",
    "    ensemble_preds.append(preds)\n",
    "  return tf.constant(tf.squeeze(ensemble_preds))"
   ]
  },
  {
   "cell_type": "code",
   "execution_count": null,
   "metadata": {
    "colab": {
     "base_uri": "https://localhost:8080/"
    },
    "id": "wXtV-LiNF7m1",
    "outputId": "b9f95ebe-cbef-4b08-81fc-b15ae86594db"
   },
   "outputs": [
    {
     "name": "stdout",
     "output_type": "stream",
     "text": [
      "CPU times: user 833 ms, sys: 38 ms, total: 871 ms\n",
      "Wall time: 826 ms\n"
     ]
    }
   ],
   "source": [
    "# Create a list of ensemble predictions\n",
    "%%time\n",
    "ensemble_preds = make_ensemble_predictions(ensemble_models=ensemble_models, data=test_dataset)\n",
    "# Trade-off in this process is that we are repeatedly calling tensorflow function in a for-loop\n",
    "# so maybe there is a decent slowdown"
   ]
  },
  {
   "cell_type": "code",
   "execution_count": null,
   "metadata": {
    "colab": {
     "base_uri": "https://localhost:8080/"
    },
    "id": "VKsSzLKGGGZ3",
    "outputId": "fca51324-7ad1-40db-f634-671869e4d1b3"
   },
   "outputs": [
    {
     "data": {
      "text/plain": [
       "<tf.Tensor: shape=(15, 446), dtype=float32, numpy=\n",
       "array([[ 7260.148 ,  7298.5693,  7388.3716, ..., 53908.094 , 55533.188 ,\n",
       "        56655.207 ],\n",
       "       [ 7221.5337,  7274.737 ,  7349.6216, ..., 53910.406 , 55216.06  ,\n",
       "        56302.652 ],\n",
       "       [ 7057.406 ,  7115.173 ,  7189.946 , ..., 53074.65  , 53673.004 ,\n",
       "        56465.004 ],\n",
       "       ...,\n",
       "       [ 7282.0205,  7327.464 ,  7385.246 , ..., 55309.77  , 54673.02  ,\n",
       "        58222.562 ],\n",
       "       [ 7187.251 ,  7319.388 ,  7337.8184, ..., 54291.414 , 55455.848 ,\n",
       "        56857.953 ],\n",
       "       [ 7430.3022,  7469.784 ,  7588.4194, ..., 56285.64  , 55785.254 ,\n",
       "        59358.805 ]], dtype=float32)>"
      ]
     },
     "execution_count": 202,
     "metadata": {},
     "output_type": "execute_result"
    }
   ],
   "source": [
    "\"\"\"\n",
    "  All these 15 loss functions are different because:\n",
    "  (i) They use different loss-functions\n",
    "  (ii) They are randomly initialized    \n",
    "\"\"\"\n",
    "ensemble_preds"
   ]
  },
  {
   "cell_type": "code",
   "execution_count": null,
   "metadata": {
    "colab": {
     "base_uri": "https://localhost:8080/"
    },
    "id": "4NB9W3y_HEe8",
    "outputId": "61bffc96-6c4f-490f-e696-2fb34703d05c"
   },
   "outputs": [
    {
     "data": {
      "text/plain": [
       "{'mae': 668.74744,\n",
       " 'mape': 3.361051,\n",
       " 'mase': 0.99867654,\n",
       " 'mse': 1651769.5,\n",
       " 'rmse': 1280.1855}"
      ]
     },
     "execution_count": 203,
     "metadata": {},
     "output_type": "execute_result"
    }
   ],
   "source": [
    "# Evaluate ensemble model predictions\n",
    "ensemble_results = evaluate_preds(y_true=y_test, y_pred=ensemble_preds)\n",
    "ensemble_results"
   ]
  },
  {
   "cell_type": "code",
   "execution_count": null,
   "metadata": {
    "colab": {
     "base_uri": "https://localhost:8080/"
    },
    "id": "RW4KIvZTHYDi",
    "outputId": "df0ed0dc-d1cd-4ed3-f361-d1dc1560ff29"
   },
   "outputs": [
    {
     "data": {
      "text/plain": [
       "TensorShape([446])"
      ]
     },
     "execution_count": 204,
     "metadata": {},
     "output_type": "execute_result"
    }
   ],
   "source": [
    "ensemble_mean = tf.reduce_mean(ensemble_preds, axis = 0) # take mean on the rows\n",
    "# In this all models make their predictions and we are taking the mean of the predictions\n",
    "# made by each model\n",
    "ensemble_mean.shape"
   ]
  },
  {
   "cell_type": "code",
   "execution_count": null,
   "metadata": {
    "colab": {
     "base_uri": "https://localhost:8080/"
    },
    "id": "YJGqNTs7IeB_",
    "outputId": "99c4dff5-1a55-413f-c4fb-9d4e8a2ea9c3"
   },
   "outputs": [
    {
     "data": {
      "text/plain": [
       "446"
      ]
     },
     "execution_count": 205,
     "metadata": {},
     "output_type": "execute_result"
    }
   ],
   "source": [
    "# Since tensorflow doesn't have tf.reduce_median to compute median directly\n",
    "# we are going to use numpy\n",
    "ensemble_median = np.median(ensemble_preds, axis=0)\n",
    "len(ensemble_median)"
   ]
  },
  {
   "cell_type": "code",
   "execution_count": null,
   "metadata": {
    "colab": {
     "base_uri": "https://localhost:8080/"
    },
    "id": "ICge6JU_JpG_",
    "outputId": "44544035-f1a6-44ad-8f14-6c4469978ef4"
   },
   "outputs": [
    {
     "data": {
      "text/plain": [
       "{'mae': 593.55084,\n",
       " 'mape': 2.902447,\n",
       " 'mase': 0.99867654,\n",
       " 'mse': 1376315.8,\n",
       " 'rmse': 1173.1648}"
      ]
     },
     "execution_count": 206,
     "metadata": {},
     "output_type": "execute_result"
    }
   ],
   "source": [
    "evaluate_preds(y_true=y_test, y_pred=ensemble_mean)"
   ]
  },
  {
   "cell_type": "code",
   "execution_count": null,
   "metadata": {
    "colab": {
     "base_uri": "https://localhost:8080/"
    },
    "id": "XI00Wci0KP6E",
    "outputId": "626c9de7-f902-4ea8-9580-04f25a35ba24"
   },
   "outputs": [
    {
     "data": {
      "text/plain": [
       "{'mae': 602.22534,\n",
       " 'mape': 2.9396405,\n",
       " 'mase': 0.99867654,\n",
       " 'mse': 1429014.5,\n",
       " 'rmse': 1195.414}"
      ]
     },
     "execution_count": 207,
     "metadata": {},
     "output_type": "execute_result"
    }
   ],
   "source": [
    "evaluate_preds(y_true=y_test, y_pred=ensemble_median)"
   ]
  },
  {
   "cell_type": "markdown",
   "metadata": {
    "id": "6G8GqjLdKUbA"
   },
   "source": [
    "### Plotting the prediction intervals (uncertainty estimates) of our ensemble\n",
    "Till now, we are making a point prediction, but we can make a range prediciton too using the ensemble models.\n",
    "\n",
    "Because the point predictions are never exactly correct. So, giving a range is better and give more information on how our model is thinking. But, when we have a range, there comes a problem on whether we should choose the upper bound or choose the lower bound.\n",
    "\n",
    "One way to get the 95% confidence prediction intervals for a deep learning model is the bootstrap method:\n",
    "1. Take the predictions from a number of randomly initialized models (we've got this from our ensemble models)\n",
    "2. Measure the standard deviation of the predictions\n",
    "3. Multiply the standard deviation by 1.96 (assuming the distribution is normal and this is also the reason that when defining the ensemble model, the kernel initializer is used as the kernel)\n",
    "4. To get the prediction interval upper and lower bounds, add and subtract the value obtained in (3) to the mean/median of the predictions made in (1)."
   ]
  },
  {
   "cell_type": "markdown",
   "metadata": {
    "id": "rUvaD27eO0pa"
   },
   "source": [
    "# Future prediction Model"
   ]
  },
  {
   "cell_type": "markdown",
   "metadata": {
    "id": "ReiMpN84S3r9"
   },
   "source": [
    "## Model 9: Train a model on the full historical data to make a prediction into the future\n",
    "So far all of our models have predicted on the test dataset. However this is only pseudofuture. Let's now build a model which is capable of predicting into the future."
   ]
  },
  {
   "cell_type": "code",
   "execution_count": 132,
   "metadata": {
    "colab": {
     "base_uri": "https://localhost:8080/",
     "height": 237
    },
    "id": "qaCG5ppDTPgo",
    "outputId": "1a47bfc0-0c76-4fca-ce64-4e81e0af2e4c"
   },
   "outputs": [
    {
     "data": {
      "text/html": [
       "\n",
       "  <div id=\"df-263716bd-b362-4faa-a0dd-dd98169546d5\">\n",
       "    <div class=\"colab-df-container\">\n",
       "      <div>\n",
       "<style scoped>\n",
       "    .dataframe tbody tr th:only-of-type {\n",
       "        vertical-align: middle;\n",
       "    }\n",
       "\n",
       "    .dataframe tbody tr th {\n",
       "        vertical-align: top;\n",
       "    }\n",
       "\n",
       "    .dataframe thead th {\n",
       "        text-align: right;\n",
       "    }\n",
       "</style>\n",
       "<table border=\"1\" class=\"dataframe\">\n",
       "  <thead>\n",
       "    <tr style=\"text-align: right;\">\n",
       "      <th></th>\n",
       "      <th>BTC_Volume</th>\n",
       "      <th>CURRENCY_Volume</th>\n",
       "      <th>Daily_Open</th>\n",
       "      <th>Price</th>\n",
       "      <th>Daily_High</th>\n",
       "      <th>Daily_Low</th>\n",
       "      <th>Price+1</th>\n",
       "      <th>Price+2</th>\n",
       "      <th>Price+3</th>\n",
       "      <th>Price+4</th>\n",
       "      <th>Price+5</th>\n",
       "      <th>Price+6</th>\n",
       "      <th>Price+7</th>\n",
       "    </tr>\n",
       "    <tr>\n",
       "      <th>Timestamp</th>\n",
       "      <th></th>\n",
       "      <th></th>\n",
       "      <th></th>\n",
       "      <th></th>\n",
       "      <th></th>\n",
       "      <th></th>\n",
       "      <th></th>\n",
       "      <th></th>\n",
       "      <th></th>\n",
       "      <th></th>\n",
       "      <th></th>\n",
       "      <th></th>\n",
       "      <th></th>\n",
       "    </tr>\n",
       "  </thead>\n",
       "  <tbody>\n",
       "    <tr>\n",
       "      <th>2014-01-01</th>\n",
       "      <td>54.537393</td>\n",
       "      <td>41030.73303</td>\n",
       "      <td>732.00</td>\n",
       "      <td>754.90</td>\n",
       "      <td>757.99</td>\n",
       "      <td>729.01</td>\n",
       "      <td>NaN</td>\n",
       "      <td>NaN</td>\n",
       "      <td>NaN</td>\n",
       "      <td>NaN</td>\n",
       "      <td>NaN</td>\n",
       "      <td>NaN</td>\n",
       "      <td>NaN</td>\n",
       "    </tr>\n",
       "    <tr>\n",
       "      <th>2014-01-02</th>\n",
       "      <td>473.353037</td>\n",
       "      <td>370482.78250</td>\n",
       "      <td>732.00</td>\n",
       "      <td>784.19</td>\n",
       "      <td>798.70</td>\n",
       "      <td>729.01</td>\n",
       "      <td>754.90</td>\n",
       "      <td>NaN</td>\n",
       "      <td>NaN</td>\n",
       "      <td>NaN</td>\n",
       "      <td>NaN</td>\n",
       "      <td>NaN</td>\n",
       "      <td>NaN</td>\n",
       "    </tr>\n",
       "    <tr>\n",
       "      <th>2014-01-03</th>\n",
       "      <td>22.080903</td>\n",
       "      <td>17831.05554</td>\n",
       "      <td>784.19</td>\n",
       "      <td>809.40</td>\n",
       "      <td>818.99</td>\n",
       "      <td>767.62</td>\n",
       "      <td>784.19</td>\n",
       "      <td>754.90</td>\n",
       "      <td>NaN</td>\n",
       "      <td>NaN</td>\n",
       "      <td>NaN</td>\n",
       "      <td>NaN</td>\n",
       "      <td>NaN</td>\n",
       "    </tr>\n",
       "    <tr>\n",
       "      <th>2014-01-04</th>\n",
       "      <td>513.010428</td>\n",
       "      <td>425028.52890</td>\n",
       "      <td>784.19</td>\n",
       "      <td>828.79</td>\n",
       "      <td>830.00</td>\n",
       "      <td>767.62</td>\n",
       "      <td>809.40</td>\n",
       "      <td>784.19</td>\n",
       "      <td>754.90</td>\n",
       "      <td>NaN</td>\n",
       "      <td>NaN</td>\n",
       "      <td>NaN</td>\n",
       "      <td>NaN</td>\n",
       "    </tr>\n",
       "    <tr>\n",
       "      <th>2014-01-05</th>\n",
       "      <td>4.497195</td>\n",
       "      <td>4069.64165</td>\n",
       "      <td>828.79</td>\n",
       "      <td>905.00</td>\n",
       "      <td>948.00</td>\n",
       "      <td>826.07</td>\n",
       "      <td>828.79</td>\n",
       "      <td>809.40</td>\n",
       "      <td>784.19</td>\n",
       "      <td>754.9</td>\n",
       "      <td>NaN</td>\n",
       "      <td>NaN</td>\n",
       "      <td>NaN</td>\n",
       "    </tr>\n",
       "  </tbody>\n",
       "</table>\n",
       "</div>\n",
       "      <button class=\"colab-df-convert\" onclick=\"convertToInteractive('df-263716bd-b362-4faa-a0dd-dd98169546d5')\"\n",
       "              title=\"Convert this dataframe to an interactive table.\"\n",
       "              style=\"display:none;\">\n",
       "        \n",
       "  <svg xmlns=\"http://www.w3.org/2000/svg\" height=\"24px\"viewBox=\"0 0 24 24\"\n",
       "       width=\"24px\">\n",
       "    <path d=\"M0 0h24v24H0V0z\" fill=\"none\"/>\n",
       "    <path d=\"M18.56 5.44l.94 2.06.94-2.06 2.06-.94-2.06-.94-.94-2.06-.94 2.06-2.06.94zm-11 1L8.5 8.5l.94-2.06 2.06-.94-2.06-.94L8.5 2.5l-.94 2.06-2.06.94zm10 10l.94 2.06.94-2.06 2.06-.94-2.06-.94-.94-2.06-.94 2.06-2.06.94z\"/><path d=\"M17.41 7.96l-1.37-1.37c-.4-.4-.92-.59-1.43-.59-.52 0-1.04.2-1.43.59L10.3 9.45l-7.72 7.72c-.78.78-.78 2.05 0 2.83L4 21.41c.39.39.9.59 1.41.59.51 0 1.02-.2 1.41-.59l7.78-7.78 2.81-2.81c.8-.78.8-2.07 0-2.86zM5.41 20L4 18.59l7.72-7.72 1.47 1.35L5.41 20z\"/>\n",
       "  </svg>\n",
       "      </button>\n",
       "      \n",
       "  <style>\n",
       "    .colab-df-container {\n",
       "      display:flex;\n",
       "      flex-wrap:wrap;\n",
       "      gap: 12px;\n",
       "    }\n",
       "\n",
       "    .colab-df-convert {\n",
       "      background-color: #E8F0FE;\n",
       "      border: none;\n",
       "      border-radius: 50%;\n",
       "      cursor: pointer;\n",
       "      display: none;\n",
       "      fill: #1967D2;\n",
       "      height: 32px;\n",
       "      padding: 0 0 0 0;\n",
       "      width: 32px;\n",
       "    }\n",
       "\n",
       "    .colab-df-convert:hover {\n",
       "      background-color: #E2EBFA;\n",
       "      box-shadow: 0px 1px 2px rgba(60, 64, 67, 0.3), 0px 1px 3px 1px rgba(60, 64, 67, 0.15);\n",
       "      fill: #174EA6;\n",
       "    }\n",
       "\n",
       "    [theme=dark] .colab-df-convert {\n",
       "      background-color: #3B4455;\n",
       "      fill: #D2E3FC;\n",
       "    }\n",
       "\n",
       "    [theme=dark] .colab-df-convert:hover {\n",
       "      background-color: #434B5C;\n",
       "      box-shadow: 0px 1px 3px 1px rgba(0, 0, 0, 0.15);\n",
       "      filter: drop-shadow(0px 1px 2px rgba(0, 0, 0, 0.3));\n",
       "      fill: #FFFFFF;\n",
       "    }\n",
       "  </style>\n",
       "\n",
       "      <script>\n",
       "        const buttonEl =\n",
       "          document.querySelector('#df-263716bd-b362-4faa-a0dd-dd98169546d5 button.colab-df-convert');\n",
       "        buttonEl.style.display =\n",
       "          google.colab.kernel.accessAllowed ? 'block' : 'none';\n",
       "\n",
       "        async function convertToInteractive(key) {\n",
       "          const element = document.querySelector('#df-263716bd-b362-4faa-a0dd-dd98169546d5');\n",
       "          const dataTable =\n",
       "            await google.colab.kernel.invokeFunction('convertToInteractive',\n",
       "                                                     [key], {});\n",
       "          if (!dataTable) return;\n",
       "\n",
       "          const docLinkHtml = 'Like what you see? Visit the ' +\n",
       "            '<a target=\"_blank\" href=https://colab.research.google.com/notebooks/data_table.ipynb>data table notebook</a>'\n",
       "            + ' to learn more about interactive tables.';\n",
       "          element.innerHTML = '';\n",
       "          dataTable['output_type'] = 'display_data';\n",
       "          await google.colab.output.renderOutput(dataTable, element);\n",
       "          const docLink = document.createElement('div');\n",
       "          docLink.innerHTML = docLinkHtml;\n",
       "          element.appendChild(docLink);\n",
       "        }\n",
       "      </script>\n",
       "    </div>\n",
       "  </div>\n",
       "  "
      ],
      "text/plain": [
       "            BTC_Volume  CURRENCY_Volume  Daily_Open   Price  Daily_High  \\\n",
       "Timestamp                                                                 \n",
       "2014-01-01   54.537393      41030.73303      732.00  754.90      757.99   \n",
       "2014-01-02  473.353037     370482.78250      732.00  784.19      798.70   \n",
       "2014-01-03   22.080903      17831.05554      784.19  809.40      818.99   \n",
       "2014-01-04  513.010428     425028.52890      784.19  828.79      830.00   \n",
       "2014-01-05    4.497195       4069.64165      828.79  905.00      948.00   \n",
       "\n",
       "            Daily_Low  Price+1  Price+2  Price+3  Price+4  Price+5  Price+6  \\\n",
       "Timestamp                                                                     \n",
       "2014-01-01     729.01      NaN      NaN      NaN      NaN      NaN      NaN   \n",
       "2014-01-02     729.01   754.90      NaN      NaN      NaN      NaN      NaN   \n",
       "2014-01-03     767.62   784.19   754.90      NaN      NaN      NaN      NaN   \n",
       "2014-01-04     767.62   809.40   784.19   754.90      NaN      NaN      NaN   \n",
       "2014-01-05     826.07   828.79   809.40   784.19    754.9      NaN      NaN   \n",
       "\n",
       "            Price+7  \n",
       "Timestamp            \n",
       "2014-01-01      NaN  \n",
       "2014-01-02      NaN  \n",
       "2014-01-03      NaN  \n",
       "2014-01-04      NaN  \n",
       "2014-01-05      NaN  "
      ]
     },
     "execution_count": 132,
     "metadata": {},
     "output_type": "execute_result"
    }
   ],
   "source": [
    "btc_windowed_df.head()"
   ]
  },
  {
   "cell_type": "code",
   "execution_count": 131,
   "metadata": {
    "colab": {
     "base_uri": "https://localhost:8080/",
     "height": 392
    },
    "id": "yHouroYrTWuJ",
    "outputId": "22a42582-7e27-487e-a8f3-4c30a71ba333"
   },
   "outputs": [
    {
     "ename": "KeyError",
     "evalue": "ignored",
     "output_type": "error",
     "traceback": [
      "\u001b[0;31m---------------------------------------------------------------------------\u001b[0m",
      "\u001b[0;31mKeyError\u001b[0m                                  Traceback (most recent call last)",
      "\u001b[0;32m<ipython-input-131-c185c5f8ebe1>\u001b[0m in \u001b[0;36m<module>\u001b[0;34m()\u001b[0m\n\u001b[1;32m      1\u001b[0m \u001b[0;31m# In the function of predicting the future, there is no test sets\u001b[0m\u001b[0;34m\u001b[0m\u001b[0;34m\u001b[0m\u001b[0;34m\u001b[0m\u001b[0m\n\u001b[1;32m      2\u001b[0m \u001b[0;31m# Train model on entire data to make predictions for the next day\u001b[0m\u001b[0;34m\u001b[0m\u001b[0;34m\u001b[0m\u001b[0;34m\u001b[0m\u001b[0m\n\u001b[0;32m----> 3\u001b[0;31m \u001b[0mx_all\u001b[0m \u001b[0;34m=\u001b[0m \u001b[0mbtc_windowed_df\u001b[0m\u001b[0;34m.\u001b[0m\u001b[0mdropna\u001b[0m\u001b[0;34m(\u001b[0m\u001b[0;34m)\u001b[0m\u001b[0;34m.\u001b[0m\u001b[0mdrop\u001b[0m\u001b[0;34m(\u001b[0m\u001b[0;34m[\u001b[0m\u001b[0;34m\"Price\"\u001b[0m\u001b[0;34m,\u001b[0m \u001b[0;34m\"Block_reward\"\u001b[0m\u001b[0;34m]\u001b[0m\u001b[0;34m,\u001b[0m \u001b[0maxis\u001b[0m\u001b[0;34m=\u001b[0m\u001b[0;36m1\u001b[0m\u001b[0;34m)\u001b[0m\u001b[0;34m.\u001b[0m\u001b[0mto_numpy\u001b[0m\u001b[0;34m(\u001b[0m\u001b[0;34m)\u001b[0m\u001b[0;34m\u001b[0m\u001b[0;34m\u001b[0m\u001b[0m\n\u001b[0m\u001b[1;32m      4\u001b[0m \u001b[0;34m\u001b[0m\u001b[0m\n\u001b[1;32m      5\u001b[0m \u001b[0;31m# Get labels\u001b[0m\u001b[0;34m\u001b[0m\u001b[0;34m\u001b[0m\u001b[0;34m\u001b[0m\u001b[0m\n",
      "\u001b[0;32m/usr/local/lib/python3.7/dist-packages/pandas/util/_decorators.py\u001b[0m in \u001b[0;36mwrapper\u001b[0;34m(*args, **kwargs)\u001b[0m\n\u001b[1;32m    309\u001b[0m                     \u001b[0mstacklevel\u001b[0m\u001b[0;34m=\u001b[0m\u001b[0mstacklevel\u001b[0m\u001b[0;34m,\u001b[0m\u001b[0;34m\u001b[0m\u001b[0;34m\u001b[0m\u001b[0m\n\u001b[1;32m    310\u001b[0m                 )\n\u001b[0;32m--> 311\u001b[0;31m             \u001b[0;32mreturn\u001b[0m \u001b[0mfunc\u001b[0m\u001b[0;34m(\u001b[0m\u001b[0;34m*\u001b[0m\u001b[0margs\u001b[0m\u001b[0;34m,\u001b[0m \u001b[0;34m**\u001b[0m\u001b[0mkwargs\u001b[0m\u001b[0;34m)\u001b[0m\u001b[0;34m\u001b[0m\u001b[0;34m\u001b[0m\u001b[0m\n\u001b[0m\u001b[1;32m    312\u001b[0m \u001b[0;34m\u001b[0m\u001b[0m\n\u001b[1;32m    313\u001b[0m         \u001b[0;32mreturn\u001b[0m \u001b[0mwrapper\u001b[0m\u001b[0;34m\u001b[0m\u001b[0;34m\u001b[0m\u001b[0m\n",
      "\u001b[0;32m/usr/local/lib/python3.7/dist-packages/pandas/core/frame.py\u001b[0m in \u001b[0;36mdrop\u001b[0;34m(self, labels, axis, index, columns, level, inplace, errors)\u001b[0m\n\u001b[1;32m   4911\u001b[0m             \u001b[0mlevel\u001b[0m\u001b[0;34m=\u001b[0m\u001b[0mlevel\u001b[0m\u001b[0;34m,\u001b[0m\u001b[0;34m\u001b[0m\u001b[0;34m\u001b[0m\u001b[0m\n\u001b[1;32m   4912\u001b[0m             \u001b[0minplace\u001b[0m\u001b[0;34m=\u001b[0m\u001b[0minplace\u001b[0m\u001b[0;34m,\u001b[0m\u001b[0;34m\u001b[0m\u001b[0;34m\u001b[0m\u001b[0m\n\u001b[0;32m-> 4913\u001b[0;31m             \u001b[0merrors\u001b[0m\u001b[0;34m=\u001b[0m\u001b[0merrors\u001b[0m\u001b[0;34m,\u001b[0m\u001b[0;34m\u001b[0m\u001b[0;34m\u001b[0m\u001b[0m\n\u001b[0m\u001b[1;32m   4914\u001b[0m         )\n\u001b[1;32m   4915\u001b[0m \u001b[0;34m\u001b[0m\u001b[0m\n",
      "\u001b[0;32m/usr/local/lib/python3.7/dist-packages/pandas/core/generic.py\u001b[0m in \u001b[0;36mdrop\u001b[0;34m(self, labels, axis, index, columns, level, inplace, errors)\u001b[0m\n\u001b[1;32m   4148\u001b[0m         \u001b[0;32mfor\u001b[0m \u001b[0maxis\u001b[0m\u001b[0;34m,\u001b[0m \u001b[0mlabels\u001b[0m \u001b[0;32min\u001b[0m \u001b[0maxes\u001b[0m\u001b[0;34m.\u001b[0m\u001b[0mitems\u001b[0m\u001b[0;34m(\u001b[0m\u001b[0;34m)\u001b[0m\u001b[0;34m:\u001b[0m\u001b[0;34m\u001b[0m\u001b[0;34m\u001b[0m\u001b[0m\n\u001b[1;32m   4149\u001b[0m             \u001b[0;32mif\u001b[0m \u001b[0mlabels\u001b[0m \u001b[0;32mis\u001b[0m \u001b[0;32mnot\u001b[0m \u001b[0;32mNone\u001b[0m\u001b[0;34m:\u001b[0m\u001b[0;34m\u001b[0m\u001b[0;34m\u001b[0m\u001b[0m\n\u001b[0;32m-> 4150\u001b[0;31m                 \u001b[0mobj\u001b[0m \u001b[0;34m=\u001b[0m \u001b[0mobj\u001b[0m\u001b[0;34m.\u001b[0m\u001b[0m_drop_axis\u001b[0m\u001b[0;34m(\u001b[0m\u001b[0mlabels\u001b[0m\u001b[0;34m,\u001b[0m \u001b[0maxis\u001b[0m\u001b[0;34m,\u001b[0m \u001b[0mlevel\u001b[0m\u001b[0;34m=\u001b[0m\u001b[0mlevel\u001b[0m\u001b[0;34m,\u001b[0m \u001b[0merrors\u001b[0m\u001b[0;34m=\u001b[0m\u001b[0merrors\u001b[0m\u001b[0;34m)\u001b[0m\u001b[0;34m\u001b[0m\u001b[0;34m\u001b[0m\u001b[0m\n\u001b[0m\u001b[1;32m   4151\u001b[0m \u001b[0;34m\u001b[0m\u001b[0m\n\u001b[1;32m   4152\u001b[0m         \u001b[0;32mif\u001b[0m \u001b[0minplace\u001b[0m\u001b[0;34m:\u001b[0m\u001b[0;34m\u001b[0m\u001b[0;34m\u001b[0m\u001b[0m\n",
      "\u001b[0;32m/usr/local/lib/python3.7/dist-packages/pandas/core/generic.py\u001b[0m in \u001b[0;36m_drop_axis\u001b[0;34m(self, labels, axis, level, errors)\u001b[0m\n\u001b[1;32m   4183\u001b[0m                 \u001b[0mnew_axis\u001b[0m \u001b[0;34m=\u001b[0m \u001b[0maxis\u001b[0m\u001b[0;34m.\u001b[0m\u001b[0mdrop\u001b[0m\u001b[0;34m(\u001b[0m\u001b[0mlabels\u001b[0m\u001b[0;34m,\u001b[0m \u001b[0mlevel\u001b[0m\u001b[0;34m=\u001b[0m\u001b[0mlevel\u001b[0m\u001b[0;34m,\u001b[0m \u001b[0merrors\u001b[0m\u001b[0;34m=\u001b[0m\u001b[0merrors\u001b[0m\u001b[0;34m)\u001b[0m\u001b[0;34m\u001b[0m\u001b[0;34m\u001b[0m\u001b[0m\n\u001b[1;32m   4184\u001b[0m             \u001b[0;32melse\u001b[0m\u001b[0;34m:\u001b[0m\u001b[0;34m\u001b[0m\u001b[0;34m\u001b[0m\u001b[0m\n\u001b[0;32m-> 4185\u001b[0;31m                 \u001b[0mnew_axis\u001b[0m \u001b[0;34m=\u001b[0m \u001b[0maxis\u001b[0m\u001b[0;34m.\u001b[0m\u001b[0mdrop\u001b[0m\u001b[0;34m(\u001b[0m\u001b[0mlabels\u001b[0m\u001b[0;34m,\u001b[0m \u001b[0merrors\u001b[0m\u001b[0;34m=\u001b[0m\u001b[0merrors\u001b[0m\u001b[0;34m)\u001b[0m\u001b[0;34m\u001b[0m\u001b[0;34m\u001b[0m\u001b[0m\n\u001b[0m\u001b[1;32m   4186\u001b[0m             \u001b[0mresult\u001b[0m \u001b[0;34m=\u001b[0m \u001b[0mself\u001b[0m\u001b[0;34m.\u001b[0m\u001b[0mreindex\u001b[0m\u001b[0;34m(\u001b[0m\u001b[0;34m**\u001b[0m\u001b[0;34m{\u001b[0m\u001b[0maxis_name\u001b[0m\u001b[0;34m:\u001b[0m \u001b[0mnew_axis\u001b[0m\u001b[0;34m}\u001b[0m\u001b[0;34m)\u001b[0m\u001b[0;34m\u001b[0m\u001b[0;34m\u001b[0m\u001b[0m\n\u001b[1;32m   4187\u001b[0m \u001b[0;34m\u001b[0m\u001b[0m\n",
      "\u001b[0;32m/usr/local/lib/python3.7/dist-packages/pandas/core/indexes/base.py\u001b[0m in \u001b[0;36mdrop\u001b[0;34m(self, labels, errors)\u001b[0m\n\u001b[1;32m   6015\u001b[0m         \u001b[0;32mif\u001b[0m \u001b[0mmask\u001b[0m\u001b[0;34m.\u001b[0m\u001b[0many\u001b[0m\u001b[0;34m(\u001b[0m\u001b[0;34m)\u001b[0m\u001b[0;34m:\u001b[0m\u001b[0;34m\u001b[0m\u001b[0;34m\u001b[0m\u001b[0m\n\u001b[1;32m   6016\u001b[0m             \u001b[0;32mif\u001b[0m \u001b[0merrors\u001b[0m \u001b[0;34m!=\u001b[0m \u001b[0;34m\"ignore\"\u001b[0m\u001b[0;34m:\u001b[0m\u001b[0;34m\u001b[0m\u001b[0;34m\u001b[0m\u001b[0m\n\u001b[0;32m-> 6017\u001b[0;31m                 \u001b[0;32mraise\u001b[0m \u001b[0mKeyError\u001b[0m\u001b[0;34m(\u001b[0m\u001b[0;34mf\"{labels[mask]} not found in axis\"\u001b[0m\u001b[0;34m)\u001b[0m\u001b[0;34m\u001b[0m\u001b[0;34m\u001b[0m\u001b[0m\n\u001b[0m\u001b[1;32m   6018\u001b[0m             \u001b[0mindexer\u001b[0m \u001b[0;34m=\u001b[0m \u001b[0mindexer\u001b[0m\u001b[0;34m[\u001b[0m\u001b[0;34m~\u001b[0m\u001b[0mmask\u001b[0m\u001b[0;34m]\u001b[0m\u001b[0;34m\u001b[0m\u001b[0;34m\u001b[0m\u001b[0m\n\u001b[1;32m   6019\u001b[0m         \u001b[0;32mreturn\u001b[0m \u001b[0mself\u001b[0m\u001b[0;34m.\u001b[0m\u001b[0mdelete\u001b[0m\u001b[0;34m(\u001b[0m\u001b[0mindexer\u001b[0m\u001b[0;34m)\u001b[0m\u001b[0;34m\u001b[0m\u001b[0;34m\u001b[0m\u001b[0m\n",
      "\u001b[0;31mKeyError\u001b[0m: \"['Block_reward'] not found in axis\""
     ]
    }
   ],
   "source": [
    "# In the function of predicting the future, there is no test sets\n",
    "# Train model on entire data to make predictions for the next day\n",
    "x_all = btc_windowed_df.dropna().drop([\"Price\", \"Block_reward\"], axis=1).to_numpy()\n",
    "\n",
    "# Get labels\n",
    "y_all = btc_windowed_df.dropna()[\"Price\"]\n",
    "\n",
    "len(x_all), len(y_all)"
   ]
  },
  {
   "cell_type": "code",
   "execution_count": null,
   "metadata": {
    "colab": {
     "base_uri": "https://localhost:8080/"
    },
    "id": "EUAx0xhPWnUB",
    "outputId": "6ab583f9-3c02-4660-f2f6-0aecad797f0a"
   },
   "outputs": [
    {
     "data": {
      "text/plain": [
       "(array([[785.  , 919.24, 905.  , 828.79, 809.4 , 784.19, 754.9 ],\n",
       "        [824.76, 785.  , 919.24, 905.  , 828.79, 809.4 , 784.19],\n",
       "        [852.61, 824.76, 785.  , 919.24, 905.  , 828.79, 809.4 ],\n",
       "        [896.59, 852.61, 824.76, 785.  , 919.24, 905.  , 828.79],\n",
       "        [844.05, 896.59, 852.61, 824.76, 785.  , 919.24, 905.  ],\n",
       "        [823.  , 844.05, 896.59, 852.61, 824.76, 785.  , 919.24],\n",
       "        [841.14, 823.  , 844.05, 896.59, 852.61, 824.76, 785.  ],\n",
       "        [814.4 , 841.14, 823.  , 844.05, 896.59, 852.61, 824.76],\n",
       "        [797.2 , 814.4 , 841.14, 823.  , 844.05, 896.59, 852.61],\n",
       "        [842.07, 797.2 , 814.4 , 841.14, 823.  , 844.05, 896.59]]), Timestamp\n",
       " 2014-01-09    824.76\n",
       " 2014-01-10    852.61\n",
       " 2014-01-11    896.59\n",
       " 2014-01-12    844.05\n",
       " 2014-01-13    823.00\n",
       " 2014-01-15    841.14\n",
       " 2014-01-16    814.40\n",
       " 2014-01-17    797.20\n",
       " 2014-01-19    842.07\n",
       " 2014-01-20    826.02\n",
       " Name: Price, dtype: float64)"
      ]
     },
     "execution_count": 209,
     "metadata": {},
     "output_type": "execute_result"
    }
   ],
   "source": [
    "x_all[:10], y_all[:10]"
   ]
  },
  {
   "cell_type": "code",
   "execution_count": null,
   "metadata": {
    "colab": {
     "base_uri": "https://localhost:8080/"
    },
    "id": "3V1a0ernXNPM",
    "outputId": "5c60b55f-364b-4b71-9500-e7be3094760e"
   },
   "outputs": [
    {
     "data": {
      "text/plain": [
       "<PrefetchDataset element_spec=(TensorSpec(shape=(None, 7), dtype=tf.float64, name=None), TensorSpec(shape=(None,), dtype=tf.float64, name=None))>"
      ]
     },
     "execution_count": 211,
     "metadata": {},
     "output_type": "execute_result"
    }
   ],
   "source": [
    "# Turn data into efficient running tensors\n",
    "features_dataset_all = tf.data.Dataset.from_tensor_slices(x_all)\n",
    "labels_dataset_all = tf.data.Dataset.from_tensor_slices(y_all)\n",
    "\n",
    "# Combine features and labels\n",
    "dataset_all = tf.data.Dataset.zip((features_dataset_all, labels_dataset_all))\n",
    "\n",
    "# Batch and prefetch for optimal performance\n",
    "BATCH_SIZE=1024\n",
    "# tf.data.AUTOTUNE automatically prefetches the data on CPU as best as it can\n",
    "dataset_all = dataset_all.batch(BATCH_SIZE).prefetch(tf.data.AUTOTUNE)\n",
    "\n",
    "dataset_all"
   ]
  },
  {
   "cell_type": "code",
   "execution_count": null,
   "metadata": {
    "colab": {
     "base_uri": "https://localhost:8080/"
    },
    "id": "JZVe5wCqY4ck",
    "outputId": "e68b5284-f6dd-4c67-ff75-5396fba1d53d"
   },
   "outputs": [
    {
     "name": "stdout",
     "output_type": "stream",
     "text": [
      "Epoch 1/100\n",
      "3/3 [==============================] - 1s 9ms/step - loss: 4721.7144\n",
      "Epoch 2/100\n",
      "3/3 [==============================] - 0s 8ms/step - loss: 2603.4434\n",
      "Epoch 3/100\n",
      "3/3 [==============================] - 0s 6ms/step - loss: 628.5304\n",
      "Epoch 4/100\n",
      "3/3 [==============================] - 0s 8ms/step - loss: 1384.9312\n",
      "Epoch 5/100\n",
      "3/3 [==============================] - 0s 12ms/step - loss: 1644.0635\n",
      "Epoch 6/100\n",
      "3/3 [==============================] - 0s 13ms/step - loss: 955.6343\n",
      "Epoch 7/100\n",
      "3/3 [==============================] - 0s 12ms/step - loss: 432.7128\n",
      "Epoch 8/100\n",
      "3/3 [==============================] - 0s 10ms/step - loss: 762.2059\n",
      "Epoch 9/100\n",
      "3/3 [==============================] - 0s 8ms/step - loss: 620.7291\n",
      "Epoch 10/100\n",
      "3/3 [==============================] - 0s 12ms/step - loss: 355.8235\n",
      "Epoch 11/100\n",
      "3/3 [==============================] - 0s 9ms/step - loss: 556.2019\n",
      "Epoch 12/100\n",
      "3/3 [==============================] - 0s 12ms/step - loss: 517.2976\n",
      "Epoch 13/100\n",
      "3/3 [==============================] - 0s 11ms/step - loss: 373.5016\n",
      "Epoch 14/100\n",
      "3/3 [==============================] - 0s 11ms/step - loss: 399.0461\n",
      "Epoch 15/100\n",
      "3/3 [==============================] - 0s 13ms/step - loss: 350.9088\n",
      "Epoch 16/100\n",
      "3/3 [==============================] - 0s 7ms/step - loss: 396.8785\n",
      "Epoch 17/100\n",
      "3/3 [==============================] - 0s 9ms/step - loss: 409.6284\n",
      "Epoch 18/100\n",
      "3/3 [==============================] - 0s 9ms/step - loss: 356.6897\n",
      "Epoch 19/100\n",
      "3/3 [==============================] - 0s 9ms/step - loss: 349.7870\n",
      "Epoch 20/100\n",
      "3/3 [==============================] - 0s 13ms/step - loss: 344.1152\n",
      "Epoch 21/100\n",
      "3/3 [==============================] - 0s 10ms/step - loss: 387.8557\n",
      "Epoch 22/100\n",
      "3/3 [==============================] - 0s 11ms/step - loss: 362.0165\n",
      "Epoch 23/100\n",
      "3/3 [==============================] - 0s 8ms/step - loss: 341.2977\n",
      "Epoch 24/100\n",
      "3/3 [==============================] - 0s 7ms/step - loss: 336.5607\n",
      "Epoch 25/100\n",
      "3/3 [==============================] - 0s 10ms/step - loss: 353.2929\n",
      "Epoch 26/100\n",
      "3/3 [==============================] - 0s 11ms/step - loss: 349.8048\n",
      "Epoch 27/100\n",
      "3/3 [==============================] - 0s 8ms/step - loss: 335.5587\n",
      "Epoch 28/100\n",
      "3/3 [==============================] - 0s 10ms/step - loss: 332.2864\n",
      "Epoch 29/100\n",
      "3/3 [==============================] - 0s 8ms/step - loss: 341.8638\n",
      "Epoch 30/100\n",
      "3/3 [==============================] - 0s 9ms/step - loss: 340.5706\n",
      "Epoch 31/100\n",
      "3/3 [==============================] - 0s 9ms/step - loss: 328.9837\n",
      "Epoch 32/100\n",
      "3/3 [==============================] - 0s 10ms/step - loss: 325.8639\n",
      "Epoch 33/100\n",
      "3/3 [==============================] - 0s 9ms/step - loss: 329.3182\n",
      "Epoch 34/100\n",
      "3/3 [==============================] - 0s 8ms/step - loss: 326.6008\n",
      "Epoch 35/100\n",
      "3/3 [==============================] - 0s 10ms/step - loss: 321.4271\n",
      "Epoch 36/100\n",
      "3/3 [==============================] - 0s 16ms/step - loss: 320.2613\n",
      "Epoch 37/100\n",
      "3/3 [==============================] - 0s 8ms/step - loss: 320.7985\n",
      "Epoch 38/100\n",
      "3/3 [==============================] - 0s 7ms/step - loss: 317.5496\n",
      "Epoch 39/100\n",
      "3/3 [==============================] - 0s 8ms/step - loss: 315.1038\n",
      "Epoch 40/100\n",
      "3/3 [==============================] - 0s 10ms/step - loss: 315.9453\n",
      "Epoch 41/100\n",
      "3/3 [==============================] - 0s 8ms/step - loss: 310.2081\n",
      "Epoch 42/100\n",
      "3/3 [==============================] - 0s 8ms/step - loss: 307.2837\n",
      "Epoch 43/100\n",
      "3/3 [==============================] - 0s 8ms/step - loss: 310.7053\n",
      "Epoch 44/100\n",
      "3/3 [==============================] - 0s 11ms/step - loss: 305.1482\n",
      "Epoch 45/100\n",
      "3/3 [==============================] - 0s 11ms/step - loss: 300.8647\n",
      "Epoch 46/100\n",
      "3/3 [==============================] - 0s 9ms/step - loss: 302.0863\n",
      "Epoch 47/100\n",
      "3/3 [==============================] - 0s 11ms/step - loss: 300.0323\n",
      "Epoch 48/100\n",
      "3/3 [==============================] - 0s 9ms/step - loss: 296.5074\n",
      "Epoch 49/100\n",
      "3/3 [==============================] - 0s 8ms/step - loss: 297.7516\n",
      "Epoch 50/100\n",
      "3/3 [==============================] - 0s 11ms/step - loss: 292.1604\n",
      "Epoch 51/100\n",
      "3/3 [==============================] - 0s 9ms/step - loss: 296.2481\n",
      "Epoch 52/100\n",
      "3/3 [==============================] - 0s 11ms/step - loss: 291.6287\n",
      "Epoch 53/100\n",
      "3/3 [==============================] - 0s 12ms/step - loss: 291.2283\n",
      "Epoch 54/100\n",
      "3/3 [==============================] - 0s 12ms/step - loss: 289.1636\n",
      "Epoch 55/100\n",
      "3/3 [==============================] - 0s 11ms/step - loss: 283.9201\n",
      "Epoch 56/100\n",
      "3/3 [==============================] - 0s 9ms/step - loss: 286.7951\n",
      "Epoch 57/100\n",
      "3/3 [==============================] - 0s 7ms/step - loss: 285.2867\n",
      "Epoch 58/100\n",
      "3/3 [==============================] - 0s 8ms/step - loss: 281.2849\n",
      "Epoch 59/100\n",
      "3/3 [==============================] - 0s 7ms/step - loss: 282.3480\n",
      "Epoch 60/100\n",
      "3/3 [==============================] - 0s 11ms/step - loss: 279.7880\n",
      "Epoch 61/100\n",
      "3/3 [==============================] - 0s 7ms/step - loss: 276.9046\n",
      "Epoch 62/100\n",
      "3/3 [==============================] - 0s 8ms/step - loss: 277.8374\n",
      "Epoch 63/100\n",
      "3/3 [==============================] - 0s 6ms/step - loss: 274.9642\n",
      "Epoch 64/100\n",
      "3/3 [==============================] - 0s 7ms/step - loss: 271.6538\n",
      "Epoch 65/100\n",
      "3/3 [==============================] - 0s 9ms/step - loss: 274.4568\n",
      "Epoch 66/100\n",
      "3/3 [==============================] - 0s 7ms/step - loss: 272.5057\n",
      "Epoch 67/100\n",
      "3/3 [==============================] - 0s 10ms/step - loss: 269.5144\n",
      "Epoch 68/100\n",
      "3/3 [==============================] - 0s 10ms/step - loss: 270.6476\n",
      "Epoch 69/100\n",
      "3/3 [==============================] - 0s 11ms/step - loss: 270.5186\n",
      "Epoch 70/100\n",
      "3/3 [==============================] - 0s 10ms/step - loss: 266.7445\n",
      "Epoch 71/100\n",
      "3/3 [==============================] - 0s 8ms/step - loss: 265.9586\n",
      "Epoch 72/100\n",
      "3/3 [==============================] - 0s 11ms/step - loss: 265.7711\n",
      "Epoch 73/100\n",
      "3/3 [==============================] - 0s 8ms/step - loss: 264.3094\n",
      "Epoch 74/100\n",
      "3/3 [==============================] - 0s 9ms/step - loss: 260.7060\n",
      "Epoch 75/100\n",
      "3/3 [==============================] - 0s 11ms/step - loss: 261.8034\n",
      "Epoch 76/100\n",
      "3/3 [==============================] - 0s 11ms/step - loss: 258.1437\n",
      "Epoch 77/100\n",
      "3/3 [==============================] - 0s 8ms/step - loss: 260.0618\n",
      "Epoch 78/100\n",
      "3/3 [==============================] - 0s 7ms/step - loss: 256.5990\n",
      "Epoch 79/100\n",
      "3/3 [==============================] - 0s 11ms/step - loss: 254.8056\n",
      "Epoch 80/100\n",
      "3/3 [==============================] - 0s 11ms/step - loss: 254.6298\n",
      "Epoch 81/100\n",
      "3/3 [==============================] - 0s 12ms/step - loss: 251.6899\n",
      "Epoch 82/100\n",
      "3/3 [==============================] - 0s 8ms/step - loss: 252.7781\n",
      "Epoch 83/100\n",
      "3/3 [==============================] - 0s 10ms/step - loss: 250.6318\n",
      "Epoch 84/100\n",
      "3/3 [==============================] - 0s 10ms/step - loss: 254.4243\n",
      "Epoch 85/100\n",
      "3/3 [==============================] - 0s 9ms/step - loss: 250.4755\n",
      "Epoch 86/100\n",
      "3/3 [==============================] - 0s 14ms/step - loss: 248.4852\n",
      "Epoch 87/100\n",
      "3/3 [==============================] - 0s 13ms/step - loss: 253.6678\n",
      "Epoch 88/100\n",
      "3/3 [==============================] - 0s 8ms/step - loss: 243.3712\n",
      "Epoch 89/100\n",
      "3/3 [==============================] - 0s 8ms/step - loss: 266.5927\n",
      "Epoch 90/100\n",
      "3/3 [==============================] - 0s 11ms/step - loss: 247.3887\n",
      "Epoch 91/100\n",
      "3/3 [==============================] - 0s 12ms/step - loss: 343.5068\n",
      "Epoch 92/100\n",
      "3/3 [==============================] - 0s 15ms/step - loss: 409.3775\n",
      "Epoch 93/100\n",
      "3/3 [==============================] - 0s 8ms/step - loss: 339.2010\n",
      "Epoch 94/100\n",
      "3/3 [==============================] - 0s 9ms/step - loss: 268.7458\n",
      "Epoch 95/100\n",
      "3/3 [==============================] - 0s 7ms/step - loss: 242.4756\n",
      "Epoch 96/100\n",
      "3/3 [==============================] - 0s 10ms/step - loss: 266.1362\n",
      "Epoch 97/100\n",
      "3/3 [==============================] - 0s 9ms/step - loss: 246.2872\n",
      "Epoch 98/100\n",
      "3/3 [==============================] - 0s 10ms/step - loss: 314.0244\n",
      "Epoch 99/100\n",
      "3/3 [==============================] - 0s 11ms/step - loss: 315.6143\n",
      "Epoch 100/100\n",
      "3/3 [==============================] - 0s 10ms/step - loss: 281.7127\n"
     ]
    },
    {
     "data": {
      "text/plain": [
       "<keras.callbacks.History at 0x7f3e5fafba50>"
      ]
     },
     "execution_count": 217,
     "metadata": {},
     "output_type": "execute_result"
    }
   ],
   "source": [
    "tf.random.set_seed(42)\n",
    "\n",
    "future_model = tf.keras.Sequential([\n",
    "  layers.Dense(128, activation=\"relu\"),\n",
    "  layers.Dense(128, activation=\"relu\"),\n",
    "  layers.Dense(HORIZON)\n",
    "], name = \"future_pred_model\")\n",
    "\n",
    "future_model.compile(loss=\"mae\", # tf.keras.losses.mae\n",
    "                     optimizer=tf.keras.optimizers.Adam())\n",
    "\n",
    "future_model.fit(dataset_all,\n",
    "                 epochs=100,\n",
    "                 verbose=1,\n",
    "                # callbacks=[create_model_checkpoint(model_name=model_6.name)])\n",
    "                # Task to make the callback function work without the validation dataset\n",
    ")"
   ]
  },
  {
   "cell_type": "code",
   "execution_count": null,
   "metadata": {
    "colab": {
     "base_uri": "https://localhost:8080/"
    },
    "id": "H93Z_NTZaG50",
    "outputId": "5bb15044-c5ae-47bc-ac10-2db1c1845fc2"
   },
   "outputs": [
    {
     "name": "stdout",
     "output_type": "stream",
     "text": [
      "Model: \"future_pred_model\"\n",
      "_________________________________________________________________\n",
      " Layer (type)                Output Shape              Param #   \n",
      "=================================================================\n",
      " dense_204 (Dense)           (None, 128)               1024      \n",
      "                                                                 \n",
      " dense_205 (Dense)           (None, 128)               16512     \n",
      "                                                                 \n",
      " dense_206 (Dense)           (None, 1)                 129       \n",
      "                                                                 \n",
      "=================================================================\n",
      "Total params: 17,665\n",
      "Trainable params: 17,665\n",
      "Non-trainable params: 0\n",
      "_________________________________________________________________\n"
     ]
    }
   ],
   "source": [
    "future_model.summary()"
   ]
  },
  {
   "cell_type": "markdown",
   "metadata": {
    "id": "r_BcfWPJbizu"
   },
   "source": [
    "### Make predictions into future"
   ]
  },
  {
   "cell_type": "code",
   "execution_count": null,
   "metadata": {
    "colab": {
     "base_uri": "https://localhost:8080/",
     "height": 170
    },
    "id": "rXsl_FW7joGm",
    "outputId": "68bef4a7-9bda-4f31-e855-fc39af54b3ee"
   },
   "outputs": [
    {
     "ename": "TypeError",
     "evalue": "ignored",
     "output_type": "error",
     "traceback": [
      "\u001b[0;31m---------------------------------------------------------------------------\u001b[0m",
      "\u001b[0;31mTypeError\u001b[0m                                 Traceback (most recent call last)",
      "\u001b[0;32m<ipython-input-221-07e59c30195f>\u001b[0m in \u001b[0;36m<module>\u001b[0;34m()\u001b[0m\n\u001b[0;32m----> 1\u001b[0;31m \u001b[0mdataset_all\u001b[0m\u001b[0;34m[\u001b[0m\u001b[0;34m-\u001b[0m\u001b[0;36m7\u001b[0m\u001b[0;34m:\u001b[0m\u001b[0;34m]\u001b[0m\u001b[0;34m\u001b[0m\u001b[0;34m\u001b[0m\u001b[0m\n\u001b[0m",
      "\u001b[0;31mTypeError\u001b[0m: 'PrefetchDataset' object is not subscriptable"
     ]
    }
   ],
   "source": [
    "# dataset_all[-7:]"
   ]
  },
  {
   "cell_type": "markdown",
   "metadata": {
    "id": "wmpv-DChb_oZ"
   },
   "source": [
    "# How many steps to make predictions into the future?\n",
    "The function which makes prediction into the future which\n",
    "\n",
    "  1. takes following inputs\n",
    "  * a list of values (Bitcoin historical data)\n",
    "  * a trained model\n",
    "  * a window into the future to predict i.e `INTO_FUTURE`\n",
    "  * the window size a model was trained on (`WINDOW_SIZE`)- the model can only predict on thesame kind of data it was trained on\n",
    "\n",
    "  2. Creates an empty list for future forecasts, which will be returned at the end of the function and extracts the last window `WINDOW_SIZE` values from the input values.\n",
    "\n",
    "  3. Loop `INTO_FUTURE` times making a prediction on `WINDOW_SIZE` sequences which update to remove the first value and append the latest prediction.\n"
   ]
  },
  {
   "cell_type": "code",
   "execution_count": null,
   "metadata": {
    "id": "sFqfM8MIhKdZ"
   },
   "outputs": [],
   "source": [
    "# 1. Create function to make predictions into the future\n",
    "def make_future_forecasts(values, model, into_future, window_size=WINDOW_SIZE) -> list:\n",
    "  \"\"\"\n",
    "  Make future forecasts for into_future steps after values ends.\n",
    "  Returns future forecasts as a list of floats.\n",
    "  \"\"\"\n",
    "  \n",
    "  # 2. Create an empty list for future forecasts/prepare data to forecast on\n",
    "  future_forecast = []\n",
    "  last_window = values[-WINDOW_SIZE:]\n",
    "\n",
    "  # 3. Make INTO_FUTURE number of predictions, altering the data which gets predicted on each time\n",
    "  for i in range(into_future):\n",
    "    # Model will eventually make future forecasts based on its past forecasts.\n",
    "    future_pred = model.predict(tf.expand_dims(last_window, axis=0))\n",
    "    print(f\"Predicting on:\\n {last_window} -> Prediction: {tf.squeeze(future_pred).numpy()}\\n\")\n",
    "\n",
    "    # Append predictions to future_forecast\n",
    "    future_forecast.append(tf.squeeze(future_pred).numpy())\n",
    "\n",
    "    # Update last window with new pred and get WINDOW_SIZE most recent preds \n",
    "    # provided that model was trained on WINDOW_SIZE window\n",
    "    last_window = np.append(last_window, future_pred)[-WINDOW_SIZE:]\n",
    "  return future_forecast"
   ]
  },
  {
   "cell_type": "code",
   "execution_count": null,
   "metadata": {
    "id": "UO4-vjifkn_H"
   },
   "outputs": [],
   "source": [
    "# In the above code, we aren't retraining the model after inserting the new value"
   ]
  },
  {
   "cell_type": "code",
   "execution_count": null,
   "metadata": {
    "colab": {
     "base_uri": "https://localhost:8080/"
    },
    "id": "bHUjcsKwlaSq",
    "outputId": "2fe04daa-5f0f-4914-faf4-04727845fec1"
   },
   "outputs": [
    {
     "name": "stdout",
     "output_type": "stream",
     "text": [
      "Predicting on:\n",
      " Timestamp\n",
      "2021-03-24    56409.00\n",
      "2021-03-25    52358.56\n",
      "2021-03-26    52734.30\n",
      "2021-03-27    54508.16\n",
      "2021-03-28    55871.93\n",
      "2021-03-29    57788.15\n",
      "2021-03-30    59069.29\n",
      "Name: Price, dtype: float64 -> Prediction: 55669.296875\n",
      "\n",
      "Predicting on:\n",
      " [52358.56     52734.3      54508.16     55871.93     57788.15\n",
      " 59069.29     55669.296875] -> Prediction: 54062.5\n",
      "\n",
      "Predicting on:\n",
      " [52734.3      54508.16     55871.93     57788.15     59069.29\n",
      " 55669.296875 54062.5     ] -> Prediction: 55054.359375\n",
      "\n",
      "Predicting on:\n",
      " [54508.16     55871.93     57788.15     59069.29     55669.296875\n",
      " 54062.5      55054.359375] -> Prediction: 56582.66015625\n",
      "\n",
      "Predicting on:\n",
      " [55871.93       57788.15       59069.29       55669.296875\n",
      " 54062.5        55054.359375   56582.66015625] -> Prediction: 57614.95703125\n",
      "\n",
      "Predicting on:\n",
      " [57788.15       59069.29       55669.296875   54062.5\n",
      " 55054.359375   56582.66015625 57614.95703125] -> Prediction: 58951.6171875\n",
      "\n",
      "Predicting on:\n",
      " [59069.29       55669.296875   54062.5        55054.359375\n",
      " 56582.66015625 57614.95703125 58951.6171875 ] -> Prediction: 58558.63671875\n",
      "\n"
     ]
    }
   ],
   "source": [
    "# Make forecasts into the future\n",
    "future_forecast = make_future_forecasts(values=y_all,\n",
    "                                        model=future_model,\n",
    "                                        into_future=7,\n",
    "                                        window_size=WINDOW_SIZE)"
   ]
  },
  {
   "cell_type": "code",
   "execution_count": null,
   "metadata": {
    "colab": {
     "base_uri": "https://localhost:8080/"
    },
    "id": "TnS2bxVKlx_w",
    "outputId": "86e0c33c-04b1-4a99-b88f-da1d0a46f492"
   },
   "outputs": [
    {
     "data": {
      "text/plain": [
       "[55669.297, 54062.5, 55054.36, 56582.66, 57614.957, 58951.617, 58558.637]"
      ]
     },
     "execution_count": 232,
     "metadata": {},
     "output_type": "execute_result"
    }
   ],
   "source": [
    "future_forecast"
   ]
  },
  {
   "cell_type": "code",
   "execution_count": null,
   "metadata": {
    "id": "92StZE8ymt4L"
   },
   "outputs": [],
   "source": []
  }
 ],
 "metadata": {
  "accelerator": "GPU",
  "colab": {
   "collapsed_sections": [
    "LP4Z-aPao9io"
   ],
   "name": "Crypto_predict.ipynb",
   "provenance": []
  },
  "kernelspec": {
   "display_name": "Python 3 (ipykernel)",
   "language": "python",
   "name": "python3"
  },
  "language_info": {
   "codemirror_mode": {
    "name": "ipython",
    "version": 3
   },
   "file_extension": ".py",
   "mimetype": "text/x-python",
   "name": "python",
   "nbconvert_exporter": "python",
   "pygments_lexer": "ipython3",
   "version": "3.11.5"
  }
 },
 "nbformat": 4,
 "nbformat_minor": 4
}
